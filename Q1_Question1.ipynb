{
 "cells": [
  {
   "cell_type": "markdown",
   "metadata": {
    "tags": []
   },
   "source": [
    "### Q1 PySpark assesment\n",
    "\n",
    "### 1. Setup a local environment to run PySpark."
   ]
  },
  {
   "cell_type": "code",
   "execution_count": 1,
   "metadata": {},
   "outputs": [],
   "source": [
    "import pyspark\n",
    "\n",
    "import os\n",
    "import pandas as pd\n",
    "import numpy as np\n",
    "\n",
    "from sklearn import preprocessing\n",
    "from sklearn.preprocessing import LabelEncoder\n",
    "from sklearn.preprocessing import OrdinalEncoder\n",
    "\n",
    "from sklearn.datasets import make_classification\n",
    "from sklearn.feature_selection import SelectKBest\n",
    "from sklearn.feature_selection import f_classif\n",
    "from sklearn.preprocessing import MinMaxScaler\n",
    "from sklearn.pipeline import Pipeline\n",
    "from sklearn.metrics import classification_report, confusion_matrix\n",
    "\n",
    "from scipy.stats import chi2_contingency\n",
    "\n",
    "import py4j\n",
    "\n",
    "from pyspark.sql import Row\n",
    "from pyspark import SparkConf, SparkContext\n",
    "from pyspark.sql import SparkSession, SQLContext\n",
    "\n",
    "from pyspark.sql.types import *\n",
    "import pyspark.sql.functions as F\n",
    "from pyspark.sql.functions import udf\n",
    "from pyspark.sql.functions import isnan, when, count, col\n",
    "\n",
    "from pyspark.ml.regression import LinearRegression\n",
    "from pyspark.mllib.evaluation import RegressionMetrics\n",
    "\n",
    "from pyspark.ml.tuning import ParamGridBuilder, CrossValidator, CrossValidatorModel\n",
    "from pyspark.ml.feature import (VectorAssembler,VectorIndexer,\n",
    "                                OneHotEncoder,StringIndexer,StandardScaler)\n",
    "from pyspark.ml.evaluation import RegressionEvaluator\n",
    "from pyspark.ml.evaluation import BinaryClassificationEvaluator\n",
    "\n",
    "from pyspark.ml import Pipeline"
   ]
  },
  {
   "cell_type": "markdown",
   "metadata": {},
   "source": [
    "### Description of Census Dataset\n",
    "\n",
    "**Abstract**\n",
    "\n",
    "Abstract: This data set contains weighted census data extracted from the 1994 and 1995 current population surveys conducted by the U.S. Census Bureau.\n",
    "\n",
    "**Information files:**\n",
    "\n",
    "- <a href=\"http://kdd.ics.uci.edu/databases/census-income/census-income.data.html\">description of the data</a>\n",
    "- <a href=\"http://kdd.ics.uci.edu/databases/census-income/census-income.names\">original names file</a>\n",
    "\n",
    "\n",
    "**The <a href=\"http://archive.ics.uci.edu/ml/machine-learning-databases/census-income-mld/\">dataset </a>contains three files:** \n",
    "- census-income.data: the training dataset\n",
    "- census-income.names: dataset description\n",
    "- census-income.test: test dataset\n",
    "\n",
    "One instance per line with comma delimited fields. There are 199523 instances in the data file and 99762 in the test file.\n",
    "\n",
    "The data was split into train/test in approximately 2/3, 1/3 proportions using MineSet's MIndUtil mineset-to-mlc.\n",
    "\n",
    "We have two datasets available: training and testing. I assume that the \"split\" has been well done in terms of the performance of the future model. I will do data mining, column removal, cleaning and engineering **on both files.**\n",
    "\n",
    "Feautures:\n",
    "- age\t\t\t\t\t\tAAGE\n",
    "- class of worker\t\t\t\tACLSWKR\n",
    "- industry code\t\t\t\t\tADTIND\n",
    "- occupation code\t\t\t\tADTOCC\n",
    "- adjusted gross income\t\t\t\tAGI (there is no in dataset)\n",
    "- education\t\t\t\t\tAHGA\n",
    "- wage per hour\t\t\t\t\tAHRSPAY\n",
    "- enrolled in edu inst last wk\t\t\tAHSCOL\n",
    "- marital status\t\t\t\tAMARITL\n",
    "- major industry code\t\t\t\tAMJIND\n",
    "- major occupation code\t\t\t\tAMJOCC\n",
    "- mace\t\t\t\t\t\tARACE\n",
    "- hispanic Origin\t\t\t\tAREORGN\n",
    "- sex\t\t\t\t\t\tASEX\n",
    "- member of a labor union\t\t\tAUNMEM\n",
    "- reason for unemployment\t\t\tAUNTYPE\n",
    "- full or part time employment stat\t\tAWKSTAT\n",
    "- capital gains\t\t\t\t\tCAPGAIN\n",
    "- capital losses\t\t\t\tCAPLOSS\n",
    "- dividends from stocks\t\t\t\tDIVVAL\n",
    "- federal income tax liability\t\t\tFEDTAX (there is no in dataset)\n",
    "- tax filer status\t\t\t\tFILESTAT\n",
    "- region of previous residence\t\t\tGRINREG\n",
    "- state of previous residence\t\t\tGRINST\n",
    "- detailed household and family stat\t\tHHDFMX\n",
    "- detailed household summary in household\tHHDREL\n",
    "- instance weight\t\t\t\tMARSUPWT\n",
    "- migration code-change in msa\t\t\tMIGMTR1\n",
    "- migration code-change in reg\t\t\tMIGMTR3\n",
    "- migration code-move within reg\t\tMIGMTR4\n",
    "- live in this house 1 year ago\t\t\tMIGSAME\n",
    "- migration prev res in sunbelt\t\t\tMIGSUN\n",
    "- num persons worked for employer\t\tNOEMP\n",
    "- family members under 18\t\t\tPARENT\n",
    "- total person earnings\t\t\t\tPEARNVAL (there is no in dataset)\n",
    "- country of birth father\t\t\tPEFNTVTY\n",
    "- country of birth mother\t\t\tPEMNTVTY\n",
    "- country of birth self\t\t\t\tPENATVTY\n",
    "- citizenship\t\t\t\t\tPRCITSHP\n",
    "- total person income\t\t\t\tPTOTVAL (there is no in dataset)\n",
    "- own business or self employed\t\t\tSEOTR\n",
    "- taxable income amount\t\t\t\tTAXINC\n",
    "- fill inc questionnaire for veteran's admin\tVETQVA\n",
    "- veterans benefits\t\t\t\tVETYN\n",
    "- weeks worked in year\t\t\t\tWKSWORK\n",
    "\n",
    "### Output variable (Target):\n",
    "- income level (additionally)"
   ]
  },
  {
   "cell_type": "markdown",
   "metadata": {},
   "source": [
    "### Build the SparkSession"
   ]
  },
  {
   "cell_type": "code",
   "execution_count": 2,
   "metadata": {},
   "outputs": [],
   "source": [
    "spark = SparkSession.builder.master(\"local\").appName(\"Question1\").getOrCreate()"
   ]
  },
  {
   "cell_type": "markdown",
   "metadata": {},
   "source": [
    "I had the problem with number of columns, because there were more in dataset then in descripton. "
   ]
  },
  {
   "cell_type": "markdown",
   "metadata": {},
   "source": [
    "### Load in the data\n",
    "\n",
    "### 2. Download the Census Income data at http://archive.ics.uci.edu/ml/datasets/Census-Income+(KDD)  "
   ]
  },
  {
   "cell_type": "code",
   "execution_count": 3,
   "metadata": {},
   "outputs": [
    {
     "data": {
      "text/plain": [
       "DataFrame[_c0: string, _c1: string, _c2: string, _c3: string, _c4: string, _c5: string, _c6: string, _c7: string, _c8: string, _c9: string, _c10: string, _c11: string, _c12: string, _c13: string, _c14: string, _c15: string, _c16: string, _c17: string, _c18: string, _c19: string, _c20: string, _c21: string, _c22: string, _c23: string, _c24: string, _c25: string, _c26: string, _c27: string, _c28: string, _c29: string, _c30: string, _c31: string, _c32: string, _c33: string, _c34: string, _c35: string, _c36: string, _c37: string, _c38: string, _c39: string, _c40: string, _c41: string]"
      ]
     },
     "execution_count": 3,
     "metadata": {},
     "output_type": "execute_result"
    }
   ],
   "source": [
    "df_train = spark.read.csv('census-income.data')\n",
    "df_train"
   ]
  },
  {
   "cell_type": "code",
   "execution_count": 4,
   "metadata": {},
   "outputs": [
    {
     "data": {
      "text/plain": [
       "DataFrame[_c0: string, _c1: string, _c2: string, _c3: string, _c4: string, _c5: string, _c6: string, _c7: string, _c8: string, _c9: string, _c10: string, _c11: string, _c12: string, _c13: string, _c14: string, _c15: string, _c16: string, _c17: string, _c18: string, _c19: string, _c20: string, _c21: string, _c22: string, _c23: string, _c24: string, _c25: string, _c26: string, _c27: string, _c28: string, _c29: string, _c30: string, _c31: string, _c32: string, _c33: string, _c34: string, _c35: string, _c36: string, _c37: string, _c38: string, _c39: string, _c40: string, _c41: string]"
      ]
     },
     "execution_count": 4,
     "metadata": {},
     "output_type": "execute_result"
    }
   ],
   "source": [
    "df_test = spark.read.csv('census-income.test')\n",
    "df_test"
   ]
  },
  {
   "cell_type": "markdown",
   "metadata": {},
   "source": [
    "### Data Exploration\n",
    "\n",
    "### 3. Print the data Schema, Summary, # of columns and # of rows."
   ]
  },
  {
   "cell_type": "code",
   "execution_count": 5,
   "metadata": {},
   "outputs": [
    {
     "name": "stdout",
     "output_type": "stream",
     "text": [
      "-RECORD 0--------------------\n",
      " _c0  | 73                   \n",
      " _c1  |  Not in universe     \n",
      " _c2  |  0                   \n",
      " _c3  |  0                   \n",
      " _c4  |  High school grad... \n",
      " _c5  |  0                   \n",
      " _c6  |  Not in universe     \n",
      " _c7  |  Widowed             \n",
      " _c8  |  Not in universe ... \n",
      " _c9  |  Not in universe     \n",
      " _c10 |  White               \n",
      " _c11 |  All other           \n",
      " _c12 |  Female              \n",
      " _c13 |  Not in universe     \n",
      " _c14 |  Not in universe     \n",
      " _c15 |  Not in labor force  \n",
      " _c16 |  0                   \n",
      " _c17 |  0                   \n",
      " _c18 |  0                   \n",
      " _c19 |  Nonfiler            \n",
      " _c20 |  Not in universe     \n",
      " _c21 |  Not in universe     \n",
      " _c22 |  Other Rel 18+ ev... \n",
      " _c23 |  Other relative o... \n",
      " _c24 |  1700.09             \n",
      " _c25 |  ?                   \n",
      " _c26 |  ?                   \n",
      " _c27 |  ?                   \n",
      " _c28 |  Not in universe ... \n",
      " _c29 |  ?                   \n",
      " _c30 |  0                   \n",
      " _c31 |  Not in universe     \n",
      " _c32 |  United-States       \n",
      " _c33 |  United-States       \n",
      " _c34 |  United-States       \n",
      " _c35 |  Native- Born in ... \n",
      " _c36 |  0                   \n",
      " _c37 |  Not in universe     \n",
      " _c38 |  2                   \n",
      " _c39 |  0                   \n",
      " _c40 |  95                  \n",
      " _c41 |  - 50000.            \n",
      "only showing top 1 row\n",
      "\n"
     ]
    }
   ],
   "source": [
    "df_train.show(1, vertical=True)"
   ]
  },
  {
   "cell_type": "code",
   "execution_count": 6,
   "metadata": {},
   "outputs": [
    {
     "name": "stdout",
     "output_type": "stream",
     "text": [
      "root\n",
      " |-- _c0: string (nullable = true)\n",
      " |-- _c1: string (nullable = true)\n",
      " |-- _c2: string (nullable = true)\n",
      " |-- _c3: string (nullable = true)\n",
      " |-- _c4: string (nullable = true)\n",
      " |-- _c5: string (nullable = true)\n",
      " |-- _c6: string (nullable = true)\n",
      " |-- _c7: string (nullable = true)\n",
      " |-- _c8: string (nullable = true)\n",
      " |-- _c9: string (nullable = true)\n",
      " |-- _c10: string (nullable = true)\n",
      " |-- _c11: string (nullable = true)\n",
      " |-- _c12: string (nullable = true)\n",
      " |-- _c13: string (nullable = true)\n",
      " |-- _c14: string (nullable = true)\n",
      " |-- _c15: string (nullable = true)\n",
      " |-- _c16: string (nullable = true)\n",
      " |-- _c17: string (nullable = true)\n",
      " |-- _c18: string (nullable = true)\n",
      " |-- _c19: string (nullable = true)\n",
      " |-- _c20: string (nullable = true)\n",
      " |-- _c21: string (nullable = true)\n",
      " |-- _c22: string (nullable = true)\n",
      " |-- _c23: string (nullable = true)\n",
      " |-- _c24: string (nullable = true)\n",
      " |-- _c25: string (nullable = true)\n",
      " |-- _c26: string (nullable = true)\n",
      " |-- _c27: string (nullable = true)\n",
      " |-- _c28: string (nullable = true)\n",
      " |-- _c29: string (nullable = true)\n",
      " |-- _c30: string (nullable = true)\n",
      " |-- _c31: string (nullable = true)\n",
      " |-- _c32: string (nullable = true)\n",
      " |-- _c33: string (nullable = true)\n",
      " |-- _c34: string (nullable = true)\n",
      " |-- _c35: string (nullable = true)\n",
      " |-- _c36: string (nullable = true)\n",
      " |-- _c37: string (nullable = true)\n",
      " |-- _c38: string (nullable = true)\n",
      " |-- _c39: string (nullable = true)\n",
      " |-- _c40: string (nullable = true)\n",
      " |-- _c41: string (nullable = true)\n",
      "\n"
     ]
    }
   ],
   "source": [
    "df_train.printSchema()"
   ]
  },
  {
   "cell_type": "markdown",
   "metadata": {},
   "source": [
    "### Changing the name of columns\n",
    "\n",
    "In the dataset description, some columns did not match. The description said that is 40 columns, but in real were 42. The actual data did not fit to describe. I had to identify and change the names of columns, but understand that it wouldn't be possible with huge numbers of columns. \n",
    "There were no be:  'adjusted gross income', 'federal income tax liability', 'total person earnings', 'total person income'. I had to add 'income level' column.\n",
    "\n",
    "I thought it would be more convenient to explore the data by reading the real column names. Like:\n",
    "\n",
    "\n",
    "newColumns = ['age','class of worker','industry code','occupation code', \n",
    "              'education', 'wage per hour','enrolled in edu inst last wk','marital status', 'major industry code', \n",
    "              'major occupation code', 'mace', 'hispanic Origin','sex', 'member of a labor union', \n",
    "              'reason for unemployment', 'full or part time employment stat', 'capital gains', 'capital losses', \n",
    "              'divdends from stocks','tax filer status',\n",
    "              'region of previous residence', 'state of previous residence', 'detailed household and family stat', \n",
    "              'detailed household summary in household', 'instance weight','migration code-change in msa', \n",
    "              'migration code-change in reg', 'migration code-move within reg', 'live in this house 1 year ago', \n",
    "              'migration prev res in sunbelt','num persons worked for employer', 'family members under 18',\n",
    "              'country of birth father', 'country of birth mother', \n",
    "              'country of birth self', 'citizenship', 'own business or self employed',\n",
    "              \"fill inc questionnaire for veteran's admin\", 'veterans benefits', \n",
    "              'weeks worked in year','year', 'income label']\n",
    "              \n"
   ]
  },
  {
   "cell_type": "code",
   "execution_count": 7,
   "metadata": {},
   "outputs": [
    {
     "name": "stdout",
     "output_type": "stream",
     "text": [
      "root\n",
      " |-- age: string (nullable = true)\n",
      " |-- class of worker: string (nullable = true)\n",
      " |-- industry code: string (nullable = true)\n",
      " |-- occupation code: string (nullable = true)\n",
      " |-- education: string (nullable = true)\n",
      " |-- wage per hour: string (nullable = true)\n",
      " |-- enrolled in edu inst last wk: string (nullable = true)\n",
      " |-- marital status: string (nullable = true)\n",
      " |-- major industry code: string (nullable = true)\n",
      " |-- major occupation code: string (nullable = true)\n",
      " |-- mace: string (nullable = true)\n",
      " |-- hispanic Origin: string (nullable = true)\n",
      " |-- sex: string (nullable = true)\n",
      " |-- member of a labor union: string (nullable = true)\n",
      " |-- reason for unemployment: string (nullable = true)\n",
      " |-- full or part time employment stat: string (nullable = true)\n",
      " |-- capital gains: string (nullable = true)\n",
      " |-- capital losses: string (nullable = true)\n",
      " |-- dividends from stocks: string (nullable = true)\n",
      " |-- tax filer status: string (nullable = true)\n",
      " |-- region of previous residence: string (nullable = true)\n",
      " |-- state of previous residence: string (nullable = true)\n",
      " |-- detailed household and family stat: string (nullable = true)\n",
      " |-- detailed household summary in household: string (nullable = true)\n",
      " |-- instance weight: string (nullable = true)\n",
      " |-- migration code-change in msa: string (nullable = true)\n",
      " |-- migration code-change in reg: string (nullable = true)\n",
      " |-- migration code-move within reg: string (nullable = true)\n",
      " |-- live in this house 1 year ago: string (nullable = true)\n",
      " |-- migration prev res in sunbelt: string (nullable = true)\n",
      " |-- num persons worked for employer: string (nullable = true)\n",
      " |-- family members under 18: string (nullable = true)\n",
      " |-- country of birth father: string (nullable = true)\n",
      " |-- country of birth mother: string (nullable = true)\n",
      " |-- country of birth self: string (nullable = true)\n",
      " |-- citizenship: string (nullable = true)\n",
      " |-- own business or self employed: string (nullable = true)\n",
      " |-- fill inc questionnaire for veteran's admin: string (nullable = true)\n",
      " |-- veterans benefits: string (nullable = true)\n",
      " |-- weeks worked in year: string (nullable = true)\n",
      " |-- year: string (nullable = true)\n",
      " |-- income label: string (nullable = true)\n",
      "\n"
     ]
    }
   ],
   "source": [
    "data_train = (df_train\n",
    "    .withColumnRenamed('_c0','age')\n",
    "    .withColumnRenamed('_c1','class of worker')\n",
    "    .withColumnRenamed('_c2','industry code')\n",
    "    .withColumnRenamed('_c3','occupation code') \n",
    "    .withColumnRenamed('_c4','education') \n",
    "    .withColumnRenamed('_c5','wage per hour')\n",
    "    .withColumnRenamed('_c6','enrolled in edu inst last wk')\n",
    "    .withColumnRenamed('_c7','marital status') \n",
    "    .withColumnRenamed('_c8','major industry code')\n",
    "    .withColumnRenamed('_c9','major occupation code') \n",
    "    .withColumnRenamed('_c10','mace') \n",
    "    .withColumnRenamed('_c11','hispanic Origin')\n",
    "    .withColumnRenamed('_c12','sex') \n",
    "    .withColumnRenamed('_c13','member of a labor union') \n",
    "    .withColumnRenamed('_c14','reason for unemployment') \n",
    "    .withColumnRenamed('_c15','full or part time employment stat') \n",
    "    .withColumnRenamed('_c16','capital gains') \n",
    "    .withColumnRenamed('_c17','capital losses') \n",
    "    .withColumnRenamed('_c18','dividends from stocks')\n",
    "    .withColumnRenamed('_c19','tax filer status')\n",
    "    .withColumnRenamed('_c20','region of previous residence') \n",
    "    .withColumnRenamed('_c21','state of previous residence') \n",
    "    .withColumnRenamed('_c22','detailed household and family stat') \n",
    "    .withColumnRenamed('_c23','detailed household summary in household') \n",
    "    .withColumnRenamed('_c24','instance weight')\n",
    "    .withColumnRenamed('_c25','migration code-change in msa') \n",
    "    .withColumnRenamed('_c26','migration code-change in reg') \n",
    "    .withColumnRenamed('_c27','migration code-move within reg') \n",
    "    .withColumnRenamed('_c28','live in this house 1 year ago') \n",
    "    .withColumnRenamed('_c29','migration prev res in sunbelt')\n",
    "    .withColumnRenamed('_c30','num persons worked for employer') \n",
    "    .withColumnRenamed('_c31','family members under 18')\n",
    "    .withColumnRenamed('_c32','country of birth father') \n",
    "    .withColumnRenamed('_c33','country of birth mother') \n",
    "    .withColumnRenamed('_c34','country of birth self') \n",
    "    .withColumnRenamed('_c35','citizenship')\n",
    "    .withColumnRenamed('_c36','own business or self employed')\n",
    "    .withColumnRenamed('_c37',\"fill inc questionnaire for veteran's admin\") \n",
    "    .withColumnRenamed('_c38','veterans benefits') \n",
    "    .withColumnRenamed('_c39','weeks worked in year')\n",
    "    .withColumnRenamed('_c40','year') \n",
    "    .withColumnRenamed('_c41','income label'))\n",
    "                       \n",
    "                       \n",
    "data_train.printSchema()"
   ]
  },
  {
   "cell_type": "code",
   "execution_count": 8,
   "metadata": {},
   "outputs": [
    {
     "name": "stdout",
     "output_type": "stream",
     "text": [
      "root\n",
      " |-- age: string (nullable = true)\n",
      " |-- class of worker: string (nullable = true)\n",
      " |-- industry code: string (nullable = true)\n",
      " |-- occupation code: string (nullable = true)\n",
      " |-- education: string (nullable = true)\n",
      " |-- wage per hour: string (nullable = true)\n",
      " |-- enrolled in edu inst last wk: string (nullable = true)\n",
      " |-- marital status: string (nullable = true)\n",
      " |-- major industry code: string (nullable = true)\n",
      " |-- major occupation code: string (nullable = true)\n",
      " |-- mace: string (nullable = true)\n",
      " |-- hispanic Origin: string (nullable = true)\n",
      " |-- sex: string (nullable = true)\n",
      " |-- member of a labor union: string (nullable = true)\n",
      " |-- reason for unemployment: string (nullable = true)\n",
      " |-- full or part time employment stat: string (nullable = true)\n",
      " |-- capital gains: string (nullable = true)\n",
      " |-- capital losses: string (nullable = true)\n",
      " |-- dividends from stocks: string (nullable = true)\n",
      " |-- tax filer status: string (nullable = true)\n",
      " |-- region of previous residence: string (nullable = true)\n",
      " |-- state of previous residence: string (nullable = true)\n",
      " |-- detailed household and family stat: string (nullable = true)\n",
      " |-- detailed household summary in household: string (nullable = true)\n",
      " |-- instance weight: string (nullable = true)\n",
      " |-- migration code-change in msa: string (nullable = true)\n",
      " |-- migration code-change in reg: string (nullable = true)\n",
      " |-- migration code-move within reg: string (nullable = true)\n",
      " |-- live in this house 1 year ago: string (nullable = true)\n",
      " |-- migration prev res in sunbelt: string (nullable = true)\n",
      " |-- num persons worked for employer: string (nullable = true)\n",
      " |-- family members under 18: string (nullable = true)\n",
      " |-- country of birth father: string (nullable = true)\n",
      " |-- country of birth mother: string (nullable = true)\n",
      " |-- country of birth self: string (nullable = true)\n",
      " |-- citizenship: string (nullable = true)\n",
      " |-- own business or self employed: string (nullable = true)\n",
      " |-- fill inc questionnaire for veteran's admin: string (nullable = true)\n",
      " |-- veterans benefits: string (nullable = true)\n",
      " |-- weeks worked in year: string (nullable = true)\n",
      " |-- year: string (nullable = true)\n",
      " |-- income label: string (nullable = true)\n",
      "\n"
     ]
    }
   ],
   "source": [
    "data_test = (df_train\n",
    "    .withColumnRenamed('_c0','age')\n",
    "    .withColumnRenamed('_c1','class of worker')\n",
    "    .withColumnRenamed('_c2','industry code')\n",
    "    .withColumnRenamed('_c3','occupation code') \n",
    "    .withColumnRenamed('_c4','education') \n",
    "    .withColumnRenamed('_c5','wage per hour')\n",
    "    .withColumnRenamed('_c6','enrolled in edu inst last wk')\n",
    "    .withColumnRenamed('_c7','marital status') \n",
    "    .withColumnRenamed('_c8','major industry code')\n",
    "    .withColumnRenamed('_c9','major occupation code') \n",
    "    .withColumnRenamed('_c10','mace') \n",
    "    .withColumnRenamed('_c11','hispanic Origin')\n",
    "    .withColumnRenamed('_c12','sex') \n",
    "    .withColumnRenamed('_c13','member of a labor union') \n",
    "    .withColumnRenamed('_c14','reason for unemployment') \n",
    "    .withColumnRenamed('_c15','full or part time employment stat') \n",
    "    .withColumnRenamed('_c16','capital gains') \n",
    "    .withColumnRenamed('_c17','capital losses') \n",
    "    .withColumnRenamed('_c18','dividends from stocks')\n",
    "    .withColumnRenamed('_c19','tax filer status')\n",
    "    .withColumnRenamed('_c20','region of previous residence') \n",
    "    .withColumnRenamed('_c21','state of previous residence') \n",
    "    .withColumnRenamed('_c22','detailed household and family stat') \n",
    "    .withColumnRenamed('_c23','detailed household summary in household') \n",
    "    .withColumnRenamed('_c24','instance weight')\n",
    "    .withColumnRenamed('_c25','migration code-change in msa') \n",
    "    .withColumnRenamed('_c26','migration code-change in reg') \n",
    "    .withColumnRenamed('_c27','migration code-move within reg') \n",
    "    .withColumnRenamed('_c28','live in this house 1 year ago') \n",
    "    .withColumnRenamed('_c29','migration prev res in sunbelt')\n",
    "    .withColumnRenamed('_c30','num persons worked for employer') \n",
    "    .withColumnRenamed('_c31','family members under 18')\n",
    "    .withColumnRenamed('_c32','country of birth father') \n",
    "    .withColumnRenamed('_c33','country of birth mother') \n",
    "    .withColumnRenamed('_c34','country of birth self') \n",
    "    .withColumnRenamed('_c35','citizenship')\n",
    "    .withColumnRenamed('_c36','own business or self employed')\n",
    "    .withColumnRenamed('_c37',\"fill inc questionnaire for veteran's admin\") \n",
    "    .withColumnRenamed('_c38','veterans benefits') \n",
    "    .withColumnRenamed('_c39','weeks worked in year')\n",
    "    .withColumnRenamed('_c40','year') \n",
    "    .withColumnRenamed('_c41','income label'))\n",
    "                       \n",
    "                       \n",
    "data_test.printSchema()"
   ]
  },
  {
   "cell_type": "code",
   "execution_count": 9,
   "metadata": {},
   "outputs": [],
   "source": [
    "schema = [StructField('age', FloatType(), True),\n",
    "               \n",
    "               StructField('class of worker', StringType(), True),\n",
    "               StructField('industry code', StringType(), True),\n",
    "               StructField('occupation code', StringType(), True),\n",
    "               StructField('education', StringType(), True),\n",
    "               \n",
    "               StructField('wage per hour', FloatType(), True),\n",
    "               \n",
    "               StructField('enrolled in edu inst last wk', StringType(), True),\n",
    "               StructField('marital status', StringType(), True),\n",
    "               StructField('major industry code', StringType(), True),\n",
    "               StructField('major occupation code', StringType(), True),\n",
    "               StructField('mace', StringType(), True),\n",
    "               StructField('hispanic Origin', StringType(), True),\n",
    "               StructField('sex', StringType(), True),\n",
    "               StructField('member of a labor union', StringType(), True),\n",
    "               StructField('reason for unemployment', StringType(), True),\n",
    "               StructField('full or part time employment stat', StringType(), True),\n",
    "               \n",
    "               StructField('capital gains', FloatType(), True),\n",
    "               StructField('capital losses', FloatType(), True),\n",
    "               StructField('dividends from stocks', FloatType(), True),\n",
    "              \n",
    "               StructField('tax filer status', StringType(), True),\n",
    "               StructField('region of previous residence', StringType(), True),\n",
    "               StructField('state of previous residence', StringType(), True),\n",
    "               StructField('detailed household and family stat', StringType(), True),\n",
    "               StructField('detailed household summary in household', StringType(), True),\n",
    "               \n",
    "               StructField('instance weight', FloatType(), True),\n",
    "               \n",
    "               StructField('migration code-change in msa', StringType(), True),\n",
    "               StructField('migration code-change in reg', StringType(), True),\n",
    "               StructField('migration code-move within reg', StringType(), True),\n",
    "               StructField('live in this house 1 year ago', StringType(), True),\n",
    "               StructField('migration prev res in sunbelt', StringType(), True),\n",
    "               \n",
    "               StructField('num persons worked for employer', FloatType(), True),\n",
    "               \n",
    "               StructField('family members under 18', StringType(), True),\n",
    "               StructField('country of birth father', StringType(), True),\n",
    "               StructField('country of birth mother', StringType(), True),\n",
    "               StructField('country of birth self', StringType(), True),\n",
    "               StructField('citizenship', StringType(), True),\n",
    "               StructField('own business or self employed', StringType(), True),\n",
    "               StructField(\"fill inc questionnaire for veteran's admin\", StringType(), True),\n",
    "               StructField('veterans benefits', StringType(), True),\n",
    "               \n",
    "               StructField('weeks worked in year', FloatType(), True), \n",
    "               \n",
    "               StructField('year', StringType(), True),\n",
    "               StructField('income label', StringType(), True)]"
   ]
  },
  {
   "cell_type": "code",
   "execution_count": 10,
   "metadata": {},
   "outputs": [],
   "source": [
    "final_struc = StructType(fields=schema)"
   ]
  },
  {
   "cell_type": "code",
   "execution_count": 11,
   "metadata": {},
   "outputs": [
    {
     "name": "stdout",
     "output_type": "stream",
     "text": [
      "root\n",
      " |-- age: float (nullable = true)\n",
      " |-- class of worker: string (nullable = true)\n",
      " |-- industry code: string (nullable = true)\n",
      " |-- occupation code: string (nullable = true)\n",
      " |-- education: string (nullable = true)\n",
      " |-- wage per hour: float (nullable = true)\n",
      " |-- enrolled in edu inst last wk: string (nullable = true)\n",
      " |-- marital status: string (nullable = true)\n",
      " |-- major industry code: string (nullable = true)\n",
      " |-- major occupation code: string (nullable = true)\n",
      " |-- mace: string (nullable = true)\n",
      " |-- hispanic Origin: string (nullable = true)\n",
      " |-- sex: string (nullable = true)\n",
      " |-- member of a labor union: string (nullable = true)\n",
      " |-- reason for unemployment: string (nullable = true)\n",
      " |-- full or part time employment stat: string (nullable = true)\n",
      " |-- capital gains: float (nullable = true)\n",
      " |-- capital losses: float (nullable = true)\n",
      " |-- dividends from stocks: float (nullable = true)\n",
      " |-- tax filer status: string (nullable = true)\n",
      " |-- region of previous residence: string (nullable = true)\n",
      " |-- state of previous residence: string (nullable = true)\n",
      " |-- detailed household and family stat: string (nullable = true)\n",
      " |-- detailed household summary in household: string (nullable = true)\n",
      " |-- instance weight: float (nullable = true)\n",
      " |-- migration code-change in msa: string (nullable = true)\n",
      " |-- migration code-change in reg: string (nullable = true)\n",
      " |-- migration code-move within reg: string (nullable = true)\n",
      " |-- live in this house 1 year ago: string (nullable = true)\n",
      " |-- migration prev res in sunbelt: string (nullable = true)\n",
      " |-- num persons worked for employer: float (nullable = true)\n",
      " |-- family members under 18: string (nullable = true)\n",
      " |-- country of birth father: string (nullable = true)\n",
      " |-- country of birth mother: string (nullable = true)\n",
      " |-- country of birth self: string (nullable = true)\n",
      " |-- citizenship: string (nullable = true)\n",
      " |-- own business or self employed: string (nullable = true)\n",
      " |-- fill inc questionnaire for veteran's admin: string (nullable = true)\n",
      " |-- veterans benefits: string (nullable = true)\n",
      " |-- weeks worked in year: float (nullable = true)\n",
      " |-- year: string (nullable = true)\n",
      " |-- income label: string (nullable = true)\n",
      "\n"
     ]
    }
   ],
   "source": [
    "data_train = spark.read.csv('census-income.data', schema=final_struc)\n",
    "data_train.printSchema()"
   ]
  },
  {
   "cell_type": "code",
   "execution_count": 12,
   "metadata": {},
   "outputs": [
    {
     "name": "stdout",
     "output_type": "stream",
     "text": [
      "root\n",
      " |-- age: float (nullable = true)\n",
      " |-- class of worker: string (nullable = true)\n",
      " |-- industry code: string (nullable = true)\n",
      " |-- occupation code: string (nullable = true)\n",
      " |-- education: string (nullable = true)\n",
      " |-- wage per hour: float (nullable = true)\n",
      " |-- enrolled in edu inst last wk: string (nullable = true)\n",
      " |-- marital status: string (nullable = true)\n",
      " |-- major industry code: string (nullable = true)\n",
      " |-- major occupation code: string (nullable = true)\n",
      " |-- mace: string (nullable = true)\n",
      " |-- hispanic Origin: string (nullable = true)\n",
      " |-- sex: string (nullable = true)\n",
      " |-- member of a labor union: string (nullable = true)\n",
      " |-- reason for unemployment: string (nullable = true)\n",
      " |-- full or part time employment stat: string (nullable = true)\n",
      " |-- capital gains: float (nullable = true)\n",
      " |-- capital losses: float (nullable = true)\n",
      " |-- dividends from stocks: float (nullable = true)\n",
      " |-- tax filer status: string (nullable = true)\n",
      " |-- region of previous residence: string (nullable = true)\n",
      " |-- state of previous residence: string (nullable = true)\n",
      " |-- detailed household and family stat: string (nullable = true)\n",
      " |-- detailed household summary in household: string (nullable = true)\n",
      " |-- instance weight: float (nullable = true)\n",
      " |-- migration code-change in msa: string (nullable = true)\n",
      " |-- migration code-change in reg: string (nullable = true)\n",
      " |-- migration code-move within reg: string (nullable = true)\n",
      " |-- live in this house 1 year ago: string (nullable = true)\n",
      " |-- migration prev res in sunbelt: string (nullable = true)\n",
      " |-- num persons worked for employer: float (nullable = true)\n",
      " |-- family members under 18: string (nullable = true)\n",
      " |-- country of birth father: string (nullable = true)\n",
      " |-- country of birth mother: string (nullable = true)\n",
      " |-- country of birth self: string (nullable = true)\n",
      " |-- citizenship: string (nullable = true)\n",
      " |-- own business or self employed: string (nullable = true)\n",
      " |-- fill inc questionnaire for veteran's admin: string (nullable = true)\n",
      " |-- veterans benefits: string (nullable = true)\n",
      " |-- weeks worked in year: float (nullable = true)\n",
      " |-- year: string (nullable = true)\n",
      " |-- income label: string (nullable = true)\n",
      "\n"
     ]
    }
   ],
   "source": [
    "data_test = spark.read.csv('census-income.test', schema=final_struc)\n",
    "data_test.printSchema()"
   ]
  },
  {
   "cell_type": "code",
   "execution_count": 13,
   "metadata": {},
   "outputs": [
    {
     "name": "stdout",
     "output_type": "stream",
     "text": [
      "Number of rows: 199523\n",
      "Number of columns: 42\n"
     ]
    }
   ],
   "source": [
    "print('Number of rows:',data_train.count()) \n",
    "print('Number of columns:',len(data_train.columns))"
   ]
  },
  {
   "cell_type": "code",
   "execution_count": 14,
   "metadata": {},
   "outputs": [
    {
     "name": "stdout",
     "output_type": "stream",
     "text": [
      "Number of rows: 99762\n",
      "Number of columns: 42\n"
     ]
    }
   ],
   "source": [
    "print('Number of rows:',data_test.count()) \n",
    "print('Number of columns:',len(data_test.columns))"
   ]
  },
  {
   "cell_type": "markdown",
   "metadata": {},
   "source": [
    "### 4. Print a table that distinct values of all columns.\n",
    "\n",
    "In the sections below I will display code only on data_train, but if it would be nessecery I change data_test also. "
   ]
  },
  {
   "cell_type": "code",
   "execution_count": 15,
   "metadata": {},
   "outputs": [
    {
     "data": {
      "text/plain": [
       "['age',\n",
       " 'class of worker',\n",
       " 'industry code',\n",
       " 'occupation code',\n",
       " 'education',\n",
       " 'wage per hour',\n",
       " 'enrolled in edu inst last wk',\n",
       " 'marital status',\n",
       " 'major industry code',\n",
       " 'major occupation code',\n",
       " 'mace',\n",
       " 'hispanic Origin',\n",
       " 'sex',\n",
       " 'member of a labor union',\n",
       " 'reason for unemployment',\n",
       " 'full or part time employment stat',\n",
       " 'capital gains',\n",
       " 'capital losses',\n",
       " 'dividends from stocks',\n",
       " 'tax filer status',\n",
       " 'region of previous residence',\n",
       " 'state of previous residence',\n",
       " 'detailed household and family stat',\n",
       " 'detailed household summary in household',\n",
       " 'instance weight',\n",
       " 'migration code-change in msa',\n",
       " 'migration code-change in reg',\n",
       " 'migration code-move within reg',\n",
       " 'live in this house 1 year ago',\n",
       " 'migration prev res in sunbelt',\n",
       " 'num persons worked for employer',\n",
       " 'family members under 18',\n",
       " 'country of birth father',\n",
       " 'country of birth mother',\n",
       " 'country of birth self',\n",
       " 'citizenship',\n",
       " 'own business or self employed',\n",
       " \"fill inc questionnaire for veteran's admin\",\n",
       " 'veterans benefits',\n",
       " 'weeks worked in year',\n",
       " 'year',\n",
       " 'income label']"
      ]
     },
     "execution_count": 15,
     "metadata": {},
     "output_type": "execute_result"
    }
   ],
   "source": [
    "data_train.columns"
   ]
  },
  {
   "cell_type": "code",
   "execution_count": 16,
   "metadata": {},
   "outputs": [
    {
     "name": "stdout",
     "output_type": "stream",
     "text": [
      "+----+-----------------+-------------+---------------+--------------------+-------------+----------------------------+--------------------+--------------------+---------------------+------+-------------------+-------+-----------------------+-----------------------+---------------------------------+-------------+--------------+---------------------+--------------------+----------------------------+---------------------------+----------------------------------+---------------------------------------+---------------+----------------------------+----------------------------+------------------------------+-----------------------------+-----------------------------+-------------------------------+-----------------------+-----------------------+-----------------------+---------------------+--------------------+-----------------------------+------------------------------------------+-----------------+--------------------+----+------------+\n",
      "| age|  class of worker|industry code|occupation code|           education|wage per hour|enrolled in edu inst last wk|      marital status| major industry code|major occupation code|  mace|    hispanic Origin|    sex|member of a labor union|reason for unemployment|full or part time employment stat|capital gains|capital losses|dividends from stocks|    tax filer status|region of previous residence|state of previous residence|detailed household and family stat|detailed household summary in household|instance weight|migration code-change in msa|migration code-change in reg|migration code-move within reg|live in this house 1 year ago|migration prev res in sunbelt|num persons worked for employer|family members under 18|country of birth father|country of birth mother|country of birth self|         citizenship|own business or self employed|fill inc questionnaire for veteran's admin|veterans benefits|weeks worked in year|year|income label|\n",
      "+----+-----------------+-------------+---------------+--------------------+-------------+----------------------------+--------------------+--------------------+---------------------+------+-------------------+-------+-----------------------+-----------------------+---------------------------------+-------------+--------------+---------------------+--------------------+----------------------------+---------------------------+----------------------------------+---------------------------------------+---------------+----------------------------+----------------------------+------------------------------+-----------------------------+-----------------------------+-------------------------------+-----------------------+-----------------------+-----------------------+---------------------+--------------------+-----------------------------+------------------------------------------+-----------------+--------------------+----+------------+\n",
      "| 7.0|  Not in universe|            0|              0|            Children|          0.0|             Not in universe|       Never married| Not in universe ...|      Not in universe| White| Mexican (Mexicano)| Female|        Not in universe|        Not in universe|              Children or Arme...|          0.0|           0.0|                  0.0|            Nonfiler|             Not in universe|            Not in universe|               Child <18 never ...|                    Child under 18 n...|        3123.74|                           ?|                           ?|                             ?|          Not in universe ...|                            ?|                            0.0|    Both parents pre...|                 Mexico|                 Mexico|               Mexico| Foreign born- No...|                            0|                           Not in universe|                0|                 0.0|  95|    - 50000.|\n",
      "|65.0|  Not in universe|            0|              0|          10th grade|          0.0|             Not in universe| Married-civilian...| Not in universe ...|      Not in universe| Black|          All other|   Male|        Not in universe|        Not in universe|               Not in labor force|          0.0|           0.0|                  0.0| Joint one under ...|             Not in universe|            Not in universe|                       Householder|                            Householder|        2506.61|                           ?|                           ?|                             ?|          Not in universe ...|                            ?|                            0.0|        Not in universe|          United-States|          United-States|        United-States| Native- Born in ...|                            0|                           Not in universe|                2|                 0.0|  95|    - 50000.|\n",
      "|42.0|          Private|           37|             15| High school grad...|        650.0|             Not in universe|       Never married| Business and rep...|  Technicians and ...| White|          All other| Female|                     No|        Not in universe|              Full-time schedules|          0.0|           0.0|                  0.0|              Single|             Not in universe|            Not in universe|               Nonfamily househ...|                            Householder|        1416.53|                           ?|                           ?|                             ?|          Not in universe ...|                            ?|                            3.0|        Not in universe|          United-States|          United-States|        United-States| Native- Born in ...|                            0|                           Not in universe|                2|                52.0|  95|    - 50000.|\n",
      "|74.0|  Not in universe|            0|              0| Some college but...|          0.0|             Not in universe|             Widowed| Not in universe ...|      Not in universe| White|          All other| Female|        Not in universe|        Not in universe|              Children or Arme...|          0.0|           0.0|                850.0|              Single|             Not in universe|            Not in universe|               Nonfamily househ...|                            Householder|         402.74|                    Nonmover|                    Nonmover|                      Nonmover|                          Yes|              Not in universe|                            0.0|        Not in universe|          United-States|          United-States|        United-States| Native- Born in ...|                            0|                           Not in universe|                2|                 0.0|  94|    - 50000.|\n",
      "|57.0|          Private|           35|             24| High school grad...|          0.0|             Not in universe|       Never married| Finance insuranc...|  Adm support incl...| White|          All other| Female|        Not in universe|        Not in universe|              Children or Arme...|          0.0|           0.0|                200.0|              Single|             Not in universe|            Not in universe|               Other Rel 18+ ne...|                    Other relative o...|        2626.05|                    Nonmover|                    Nonmover|                      Nonmover|                          Yes|              Not in universe|                            3.0|        Not in universe|          United-States|          United-States|        United-States| Native- Born in ...|                            0|                           Not in universe|                2|                52.0|  94|    - 50000.|\n",
      "|53.0|  Not in universe|            0|              0| High school grad...|          0.0|             Not in universe| Married-civilian...| Not in universe ...|      Not in universe| White|          All other|   Male|        Not in universe|        Not in universe|              Children or Arme...|          0.0|           0.0|                212.0| Joint both under 65|             Not in universe|            Not in universe|                       Householder|                            Householder|        1924.84|                    Nonmover|                    Nonmover|                      Nonmover|                          Yes|              Not in universe|                            0.0|        Not in universe|          United-States|          United-States|        United-States| Native- Born in ...|                            0|                           Not in universe|                2|                 0.0|  94|    - 50000.|\n",
      "|15.0|  Not in universe|            0|              0|   7th and 8th grade|          0.0|             Not in universe|       Never married| Not in universe ...|      Not in universe| White|          All other| Female|        Not in universe|        Not in universe|               Not in labor force|          0.0|           0.0|                  0.0|            Nonfiler|             Not in universe|            Not in universe|               Child <18 never ...|                    Child under 18 n...|        3564.74|                           ?|                           ?|                             ?|          Not in universe ...|                            ?|                            0.0|    Both parents pre...|          United-States|          United-States|        United-States| Native- Born in ...|                            0|                           Not in universe|                2|                 0.0|  95|    - 50000.|\n",
      "|85.0|  Not in universe|            0|              0|          11th grade|          0.0|             Not in universe| Married-civilian...| Not in universe ...|      Not in universe| White|          All other| Female|        Not in universe|        Not in universe|               Not in labor force|          0.0|           0.0|                  0.0|            Nonfiler|             Not in universe|            Not in universe|               Spouse of househ...|                    Spouse of househ...|        2017.12|                           ?|                           ?|                             ?|          Not in universe ...|                            ?|                            0.0|        Not in universe|                England|          United-States|        United-States| Native- Born in ...|                            0|                           Not in universe|                2|                 0.0|  95|    - 50000.|\n",
      "|63.0|  Not in universe|            0|              0|           9th grade|          0.0|             Not in universe| Married-civilian...| Not in universe ...|      Not in universe| White|          All other|   Male|        Not in universe|        Not in universe|              Children or Arme...|          0.0|           0.0|                 10.0| Joint both under 65|             Not in universe|            Not in universe|                       Householder|                            Householder|         505.38|                    Nonmover|                    Nonmover|                      Nonmover|                          Yes|              Not in universe|                            0.0|        Not in universe|          United-States|                 Canada|        United-States| Native- Born in ...|                            0|                           Not in universe|                2|                 0.0|  94|    - 50000.|\n",
      "|40.0|  Not in universe|            0|              0| Some college but...|          0.0|             Not in universe| Married-civilian...| Not in universe ...|      Not in universe| White|          All other| Female|        Not in universe|        Not in universe|               Not in labor force|          0.0|           0.0|                  0.0| Joint both under 65|             Not in universe|            Not in universe|                       Householder|                            Householder|        1033.26|                           ?|                           ?|                             ?|          Not in universe ...|                            ?|                            0.0|        Not in universe|          United-States|          United-States|        United-States| Native- Born in ...|                            0|                           Not in universe|                2|                 0.0|  95|    - 50000.|\n",
      "| 0.0|  Not in universe|            0|              0|            Children|          0.0|             Not in universe|       Never married| Not in universe ...|      Not in universe| White|          All other| Female|        Not in universe|        Not in universe|              Children or Arme...|          0.0|           0.0|                  0.0|            Nonfiler|             Not in universe|            Not in universe|               Child <18 never ...|                    Child under 18 n...|        2952.75|                           ?|                           ?|                             ?|          Not in universe ...|                            ?|                            0.0|    Both parents pre...|          United-States|          United-States|        United-States| Native- Born in ...|                            0|                           Not in universe|                0|                 0.0|  95|    - 50000.|\n",
      "|44.0|  Not in universe|            0|              0| High school grad...|          0.0|             Not in universe|           Separated| Not in universe ...|      Not in universe| White|          All other|   Male|        Not in universe|        Not in universe|              Children or Arme...|          0.0|           0.0|                  0.0|            Nonfiler|             Not in universe|            Not in universe|               Nonfamily househ...|                            Householder|         487.05|                    Nonmover|                    Nonmover|                      Nonmover|                          Yes|              Not in universe|                            0.0|        Not in universe|          United-States|          United-States|        United-States| Native- Born in ...|                            0|                           Not in universe|                2|                 0.0|  94|    - 50000.|\n",
      "|36.0|          Private|            4|             34|   7th and 8th grade|          0.0|             Not in universe| Married-civilian...|        Construction|  Precision produc...| White|          All other|   Male|        Not in universe|        Not in universe|              Full-time schedules|          0.0|           0.0|                910.0| Joint both under 65|             Not in universe|            Not in universe|                       Householder|                            Householder|        2089.41|                           ?|                           ?|                             ?|          Not in universe ...|                            ?|                            0.0|        Not in universe|          United-States|          United-States|        United-States| Native- Born in ...|                            0|                           Not in universe|                2|                 0.0|  95|    - 50000.|\n",
      "|13.0|  Not in universe|            0|              0|            Children|          0.0|             Not in universe|       Never married| Not in universe ...|      Not in universe| White|   Mexican-American|   Male|        Not in universe|        Not in universe|              Children or Arme...|          0.0|           0.0|                  0.0|            Nonfiler|             Not in universe|            Not in universe|               Child <18 never ...|                    Child under 18 n...|        1411.56|                    Nonmover|                    Nonmover|                      Nonmover|                          Yes|              Not in universe|                            0.0|    Both parents pre...|          United-States|          United-States|        United-States| Native- Born in ...|                            0|                           Not in universe|                0|                 0.0|  94|    - 50000.|\n",
      "| 6.0|  Not in universe|            0|              0|            Children|          0.0|             Not in universe|       Never married| Not in universe ...|      Not in universe| Black|          All other| Female|        Not in universe|        Not in universe|              Children or Arme...|          0.0|           0.0|                  0.0|            Nonfiler|             Not in universe|            Not in universe|               Child <18 never ...|                    Child under 18 n...|        1315.39|                           ?|                           ?|                             ?|          Not in universe ...|                            ?|                            0.0|    Mother only present|          United-States|          United-States|        United-States| Native- Born in ...|                            0|                           Not in universe|                0|                 0.0|  95|    - 50000.|\n",
      "|35.0|          Private|           45|             11| Doctorate degree...|          0.0|             Not in universe| Married-civilian...| Other profession...|  Professional spe...| White|          All other| Female|        Not in universe|        Other job loser|              Children or Arme...|          0.0|           0.0|                833.0| Joint both under 65|                       South|        District of Colu...|               Spouse of househ...|                    Spouse of househ...|        1349.79|                  MSA to MSA|         Different divisi...|           Different state ...|                           No|                           No|                            6.0|        Not in universe|          United-States|          United-States|        United-States| Native- Born in ...|                            0|                           Not in universe|                2|                 3.0|  94|    - 50000.|\n",
      "| 2.0|  Not in universe|            0|              0|            Children|          0.0|             Not in universe|       Never married| Not in universe ...|      Not in universe| White|          All other|   Male|        Not in universe|        Not in universe|              Children or Arme...|          0.0|           0.0|                  0.0|            Nonfiler|             Not in universe|            Not in universe|               Child <18 never ...|                    Child under 18 n...|        1406.92|                           ?|                           ?|                             ?|          Not in universe ...|                            ?|                            0.0|    Both parents pre...|                      ?|          United-States|        United-States| Native- Born in ...|                            0|                           Not in universe|                0|                 0.0|  95|    - 50000.|\n",
      "|82.0|  Not in universe|            0|              0| High school grad...|          0.0|             Not in universe|             Widowed| Not in universe ...|      Not in universe| White|          All other| Female|        Not in universe|        Not in universe|              Children or Arme...|          0.0|           0.0|                  0.0|              Single|             Not in universe|            Not in universe|               Nonfamily househ...|                            Householder|        2657.48|                    Nonmover|                    Nonmover|                      Nonmover|                          Yes|              Not in universe|                            0.0|        Not in universe|          United-States|          United-States|        United-States| Native- Born in ...|                            0|                           Not in universe|                2|                 0.0|  94|    - 50000.|\n",
      "|27.0| State government|           50|              3| Associates degre...|          0.0|             Not in universe|       Never married| Public administr...|  Executive admin ...| White|          All other| Female|        Not in universe|        Not in universe|              Children or Arme...|          0.0|           0.0|                  0.0|              Single|             Not in universe|            Not in universe|               Nonfamily househ...|                            Householder|        3774.05|                    Nonmover|                    Nonmover|                      Nonmover|                          Yes|              Not in universe|                            1.0|        Not in universe|          United-States|          United-States|        United-States| Native- Born in ...|                            0|                           Not in universe|                2|                52.0|  94|    - 50000.|\n",
      "| 3.0|  Not in universe|            0|              0|            Children|          0.0|             Not in universe|       Never married| Not in universe ...|      Not in universe| White|          All other| Female|        Not in universe|        Not in universe|              Children or Arme...|          0.0|           0.0|                  0.0|            Nonfiler|             Not in universe|            Not in universe|               Child <18 never ...|                    Child under 18 n...|         860.42|                    Nonmover|                    Nonmover|                      Nonmover|                          Yes|              Not in universe|                            0.0|    Both parents pre...|          United-States|          United-States|        United-States| Native- Born in ...|                            0|                           Not in universe|                0|                 0.0|  94|    - 50000.|\n",
      "+----+-----------------+-------------+---------------+--------------------+-------------+----------------------------+--------------------+--------------------+---------------------+------+-------------------+-------+-----------------------+-----------------------+---------------------------------+-------------+--------------+---------------------+--------------------+----------------------------+---------------------------+----------------------------------+---------------------------------------+---------------+----------------------------+----------------------------+------------------------------+-----------------------------+-----------------------------+-------------------------------+-----------------------+-----------------------+-----------------------+---------------------+--------------------+-----------------------------+------------------------------------------+-----------------+--------------------+----+------------+\n",
      "only showing top 20 rows\n",
      "\n"
     ]
    }
   ],
   "source": [
    "data_train.distinct().show()"
   ]
  },
  {
   "cell_type": "code",
   "execution_count": 17,
   "metadata": {},
   "outputs": [
    {
     "name": "stdout",
     "output_type": "stream",
     "text": [
      "+----+--------------------+-------------+---------------+--------------------+-------------+\n",
      "| age|     class of worker|industry code|occupation code|           education|wage per hour|\n",
      "+----+--------------------+-------------+---------------+--------------------+-------------+\n",
      "| 0.0|     Not in universe|            0|              0|            Children|          0.0|\n",
      "|35.0|             Private|           25|             26| Associates degre...|          0.0|\n",
      "|28.0|     Not in universe|            0|              0| High school grad...|          0.0|\n",
      "|49.0| Self-employed-in...|           35|             16| Bachelors degree...|          0.0|\n",
      "|30.0|             Private|           43|             10| Bachelors degree...|          0.0|\n",
      "|31.0|             Private|           41|              8| Bachelors degree...|          0.0|\n",
      "|44.0|             Private|           21|             21|          10th grade|          0.0|\n",
      "|47.0|             Private|           35|             23| High school grad...|          0.0|\n",
      "|38.0|             Private|           11|              2| High school grad...|          0.0|\n",
      "|77.0|     Not in universe|            0|              0|          10th grade|          0.0|\n",
      "|55.0|             Private|           33|             37| High school grad...|          0.0|\n",
      "|49.0|             Private|           37|             20| Some college but...|          0.0|\n",
      "|44.0|             Private|           35|             13| High school grad...|          0.0|\n",
      "|16.0|             Private|           33|             19|          11th grade|          0.0|\n",
      "|42.0|             Private|           34|             26| High school grad...|          0.0|\n",
      "|38.0|             Private|           19|              2| Bachelors degree...|          0.0|\n",
      "|31.0|             Private|           25|              2| Bachelors degree...|          0.0|\n",
      "|50.0|             Private|           30|             33| Some college but...|          0.0|\n",
      "|67.0|             Private|           24|              2| High school grad...|          0.0|\n",
      "|68.0|             Private|           33|             38| High school grad...|          0.0|\n",
      "+----+--------------------+-------------+---------------+--------------------+-------------+\n",
      "only showing top 20 rows\n",
      "\n"
     ]
    }
   ],
   "source": [
    "data_train.select('age','class of worker','industry code','occupation code','education', 'wage per hour').distinct().show()"
   ]
  },
  {
   "cell_type": "code",
   "execution_count": 18,
   "metadata": {},
   "outputs": [
    {
     "name": "stdout",
     "output_type": "stream",
     "text": [
      "+----------------------------+--------------------+--------------------+---------------------+\n",
      "|enrolled in edu inst last wk|      marital status| major industry code|major occupation code|\n",
      "+----------------------------+--------------------+--------------------+---------------------+\n",
      "|             Not in universe|            Divorced|        Construction|  Precision produc...|\n",
      "|             Not in universe|           Separated|      Communications|  Precision produc...|\n",
      "|             Not in universe|       Never married| Manufacturing-no...|  Transportation a...|\n",
      "|             Not in universe| Married-civilian...| Private househol...|  Farming forestry...|\n",
      "|                 High school|       Never married|   Hospital services|        Other service|\n",
      "|                 High school|       Never married| Public administr...|        Other service|\n",
      "|         College or unive...|       Never married| Manufacturing-du...|  Adm support incl...|\n",
      "|             Not in universe|       Never married| Finance insuranc...|        Other service|\n",
      "|         College or unive...|       Never married|     Social services|  Adm support incl...|\n",
      "|             Not in universe| Married-spouse a...| Manufacturing-du...|  Transportation a...|\n",
      "|             Not in universe|             Widowed| Manufacturing-du...|  Technicians and ...|\n",
      "|                 High school|       Never married| Private househol...|  Private househol...|\n",
      "|             Not in universe|            Divorced| Medical except h...|  Technicians and ...|\n",
      "|             Not in universe|            Divorced|              Mining|  Transportation a...|\n",
      "|             Not in universe|           Separated|     Social services|  Professional spe...|\n",
      "|             Not in universe|           Separated| Finance insuranc...|  Farming forestry...|\n",
      "|             Not in universe| Married-spouse a...| Finance insuranc...|  Executive admin ...|\n",
      "|                 High school|       Never married| Personal service...|  Farming forestry...|\n",
      "|             Not in universe| Married-spouse a...| Finance insuranc...|        Other service|\n",
      "|             Not in universe| Married-spouse a...| Public administr...|                Sales|\n",
      "+----------------------------+--------------------+--------------------+---------------------+\n",
      "only showing top 20 rows\n",
      "\n"
     ]
    }
   ],
   "source": [
    "data_train.select('enrolled in edu inst last wk','marital status', 'major industry code','major occupation code').distinct().show()"
   ]
  },
  {
   "cell_type": "code",
   "execution_count": 19,
   "metadata": {},
   "outputs": [
    {
     "name": "stdout",
     "output_type": "stream",
     "text": [
      "+--------------------+--------------------+-------+-----------------------+-----------------------+\n",
      "|                mace|     hispanic Origin|    sex|member of a labor union|reason for unemployment|\n",
      "+--------------------+--------------------+-------+-----------------------+-----------------------+\n",
      "|               Other| Central or South...| Female|                     No|        Not in universe|\n",
      "|               Black|        Puerto Rican|   Male|        Not in universe|        Other job loser|\n",
      "| Amer Indian Aleu...|           All other|   Male|        Not in universe|        Not in universe|\n",
      "|               Other|             Chicano| Female|        Not in universe|        Not in universe|\n",
      "| Asian or Pacific...|           All other|   Male|        Not in universe|             Job leaver|\n",
      "|               Other|       Other Spanish| Female|        Not in universe|        Other job loser|\n",
      "|               Other|        Puerto Rican|   Male|                    Yes|        Not in universe|\n",
      "|               White|  Mexican (Mexicano)| Female|        Not in universe|        Not in universe|\n",
      "| Asian or Pacific...|           All other| Female|        Not in universe|             Job leaver|\n",
      "|               White|       Other Spanish|   Male|        Not in universe|        Not in universe|\n",
      "| Amer Indian Aleu...|           All other| Female|        Not in universe|        Other job loser|\n",
      "|               Black|       Other Spanish|   Male|        Not in universe|    Job loser - on l...|\n",
      "|               White| Central or South...| Female|        Not in universe|    Job loser - on l...|\n",
      "|               Black|           All other| Female|        Not in universe|             Job leaver|\n",
      "|               White|               Cuban|   Male|        Not in universe|        Other job loser|\n",
      "|               Black| Central or South...| Female|        Not in universe|        Other job loser|\n",
      "|               Other|    Mexican-American| Female|        Not in universe|        Not in universe|\n",
      "|               White|             Chicano| Female|        Not in universe|            New entrant|\n",
      "|               Other|               Cuban|   Male|        Not in universe|        Other job loser|\n",
      "|               Other| Central or South...|   Male|                    Yes|        Not in universe|\n",
      "+--------------------+--------------------+-------+-----------------------+-----------------------+\n",
      "only showing top 20 rows\n",
      "\n"
     ]
    }
   ],
   "source": [
    "data_train.select('mace', 'hispanic Origin','sex', 'member of a labor union', \n",
    "'reason for unemployment').distinct().show()"
   ]
  },
  {
   "cell_type": "code",
   "execution_count": 20,
   "metadata": {},
   "outputs": [
    {
     "name": "stdout",
     "output_type": "stream",
     "text": [
      "+---------------------------------+-------------+--------------+---------------------+--------------------+\n",
      "|full or part time employment stat|capital gains|capital losses|dividends from stocks|    tax filer status|\n",
      "+---------------------------------+-------------+--------------+---------------------+--------------------+\n",
      "|              Full-time schedules|       1831.0|           0.0|                  0.0|   Head of household|\n",
      "|              Children or Arme...|          0.0|           0.0|              24000.0|              Single|\n",
      "|               Not in labor force|          0.0|           0.0|                  1.0|            Nonfiler|\n",
      "|              Full-time schedules|          0.0|           0.0|              27700.0| Joint one under ...|\n",
      "|              Children or Arme...|          0.0|        1980.0|                 14.0|              Single|\n",
      "|               Not in labor force|          0.0|        1887.0|                300.0| Joint both under 65|\n",
      "|              Children or Arme...|          0.0|        1092.0|                  0.0|              Single|\n",
      "|              Children or Arme...|          0.0|           0.0|                170.0| Joint both under 65|\n",
      "|              Full-time schedules|          0.0|           0.0|                 90.0|      Joint both 65+|\n",
      "|              Children or Arme...|          0.0|        1539.0|                  0.0| Joint one under ...|\n",
      "|              Children or Arme...|          0.0|           0.0|                448.0|            Nonfiler|\n",
      "|              PT for non-econ ...|       2907.0|           0.0|                  0.0|              Single|\n",
      "|              Full-time schedules|          0.0|        3900.0|                  0.0|   Head of household|\n",
      "|              Children or Arme...|          0.0|           0.0|                495.0|      Joint both 65+|\n",
      "|              Children or Arme...|          0.0|           0.0|               1176.0|      Joint both 65+|\n",
      "|              Children or Arme...|       7688.0|           0.0|               2750.0| Joint both under 65|\n",
      "|              Children or Arme...|      14344.0|           0.0|                 15.0|              Single|\n",
      "|              Children or Arme...|          0.0|           0.0|                 48.0| Joint both under 65|\n",
      "|              Children or Arme...|          0.0|           0.0|               3750.0|      Joint both 65+|\n",
      "|              Children or Arme...|          0.0|        4356.0|               1500.0|              Single|\n",
      "+---------------------------------+-------------+--------------+---------------------+--------------------+\n",
      "only showing top 20 rows\n",
      "\n"
     ]
    }
   ],
   "source": [
    "data_train.select( 'full or part time employment stat', 'capital gains', 'capital losses', \n",
    "'dividends from stocks','tax filer status').distinct().show()"
   ]
  },
  {
   "cell_type": "code",
   "execution_count": 21,
   "metadata": {},
   "outputs": [
    {
     "name": "stdout",
     "output_type": "stream",
     "text": [
      "+----------------------------+---------------------------+----------------------------------+---------------------------------------+\n",
      "|region of previous residence|state of previous residence|detailed household and family stat|detailed household summary in household|\n",
      "+----------------------------+---------------------------+----------------------------------+---------------------------------------+\n",
      "|                       South|                       Utah|               Child <18 ever m...|                    Child under 18 e...|\n",
      "|                   Northeast|                   Michigan|               RP of unrelated ...|                    Nonrelative of h...|\n",
      "|                   Northeast|                   Michigan|               Child <18 never ...|                    Child under 18 n...|\n",
      "|                     Midwest|                   Kentucky|                       Householder|                            Householder|\n",
      "|                     Midwest|                  Tennessee|               Child 18+ ever m...|                      Child 18 or older|\n",
      "|                        West|                     Abroad|                       Householder|                            Householder|\n",
      "|             Not in universe|            Not in universe|               Other Rel 18+ sp...|                    Other relative o...|\n",
      "|                      Abroad|                     Abroad|               RP of unrelated ...|                    Nonrelative of h...|\n",
      "|                   Northeast|                Connecticut|               Other Rel <18 ne...|                    Other relative o...|\n",
      "|                       South|                     Oregon|               Secondary indivi...|                    Nonrelative of h...|\n",
      "|                      Abroad|                     Abroad|               Other Rel 18+ ne...|                    Other relative o...|\n",
      "|                       South|                   Arkansas|               Other Rel 18+ ev...|                    Other relative o...|\n",
      "|                   Northeast|                Connecticut|               Grandchild <18 n...|                    Other relative o...|\n",
      "|                       South|                    Alabama|               Child 18+ spouse...|                      Child 18 or older|\n",
      "|                   Northeast|                   Michigan|               Other Rel 18+ ev...|                    Other relative o...|\n",
      "|                        West|                   Colorado|               Other Rel 18+ ev...|                    Other relative o...|\n",
      "|                     Midwest|                    Wyoming|               Spouse of RP of ...|                    Nonrelative of h...|\n",
      "|                       South|                    Florida|                       Householder|                            Householder|\n",
      "|                   Northeast|                 New Mexico|               Child <18 never ...|                    Child under 18 n...|\n",
      "|                        West|                   New York|                       Householder|                            Householder|\n",
      "+----------------------------+---------------------------+----------------------------------+---------------------------------------+\n",
      "only showing top 20 rows\n",
      "\n"
     ]
    }
   ],
   "source": [
    "data_train.select('region of previous residence', 'state of previous residence', 'detailed household and family stat','detailed household summary in household', ).distinct().show()"
   ]
  },
  {
   "cell_type": "code",
   "execution_count": 22,
   "metadata": {},
   "outputs": [
    {
     "name": "stdout",
     "output_type": "stream",
     "text": [
      "+---------------+----------------------------+----------------------------+------------------------------+\n",
      "|instance weight|migration code-change in msa|migration code-change in reg|migration code-move within reg|\n",
      "+---------------+----------------------------+----------------------------+------------------------------+\n",
      "|        1060.36|                           ?|                           ?|                             ?|\n",
      "|          934.7|                           ?|                           ?|                             ?|\n",
      "|        1025.84|                           ?|                           ?|                             ?|\n",
      "|          565.9|                    Nonmover|                    Nonmover|                      Nonmover|\n",
      "|        1933.44|                    Nonmover|                    Nonmover|                      Nonmover|\n",
      "|        2281.67|                           ?|                           ?|                             ?|\n",
      "|        1559.29|                    Nonmover|                    Nonmover|                      Nonmover|\n",
      "|        3042.71|                    Nonmover|                    Nonmover|                      Nonmover|\n",
      "|        1431.23|                           ?|                           ?|                             ?|\n",
      "|        1559.78|                           ?|                           ?|                             ?|\n",
      "|        1838.84|                           ?|                           ?|                             ?|\n",
      "|        1978.58|                           ?|                           ?|                             ?|\n",
      "|        2174.21|                    Nonmover|                    Nonmover|                      Nonmover|\n",
      "|         421.94|                           ?|                           ?|                             ?|\n",
      "|        1022.43|                    Nonmover|                    Nonmover|                      Nonmover|\n",
      "|        1177.48|                           ?|                           ?|                             ?|\n",
      "|         765.58|                           ?|                           ?|                             ?|\n",
      "|        2547.59|                    Nonmover|                    Nonmover|                      Nonmover|\n",
      "|         611.79|                    Nonmover|                    Nonmover|                      Nonmover|\n",
      "|        1994.67|                           ?|                           ?|                             ?|\n",
      "+---------------+----------------------------+----------------------------+------------------------------+\n",
      "only showing top 20 rows\n",
      "\n"
     ]
    }
   ],
   "source": [
    "data_train.select('instance weight','migration code-change in msa', 'migration code-change in reg', 'migration code-move within reg').distinct().show()"
   ]
  },
  {
   "cell_type": "code",
   "execution_count": 23,
   "metadata": {},
   "outputs": [
    {
     "name": "stdout",
     "output_type": "stream",
     "text": [
      "+-----------------------------+-----------------------------+-------------------------------+-----------------------+\n",
      "|live in this house 1 year ago|migration prev res in sunbelt|num persons worked for employer|family members under 18|\n",
      "+-----------------------------+-----------------------------+-------------------------------+-----------------------+\n",
      "|                           No|                           No|                            1.0|    Father only present|\n",
      "|          Not in universe ...|                            ?|                            6.0|    Both parents pre...|\n",
      "|          Not in universe ...|                            ?|                            2.0|    Both parents pre...|\n",
      "|                           No|                          Yes|                            6.0|    Neither parent p...|\n",
      "|                           No|                          Yes|                            2.0|    Mother only present|\n",
      "|                          Yes|              Not in universe|                            6.0|    Father only present|\n",
      "|                          Yes|              Not in universe|                            3.0|    Mother only present|\n",
      "|                          Yes|              Not in universe|                            4.0|    Father only present|\n",
      "|                           No|                          Yes|                            3.0|        Not in universe|\n",
      "|                           No|                           No|                            2.0|        Not in universe|\n",
      "|                          Yes|              Not in universe|                            4.0|    Mother only present|\n",
      "|                           No|                           No|                            1.0|        Not in universe|\n",
      "|                          Yes|              Not in universe|                            0.0|    Neither parent p...|\n",
      "|                           No|                          Yes|                            0.0|        Not in universe|\n",
      "|                          Yes|              Not in universe|                            3.0|    Neither parent p...|\n",
      "|                           No|                           No|                            1.0|    Mother only present|\n",
      "|                           No|                           No|                            6.0|        Not in universe|\n",
      "|                           No|                           No|                            3.0|        Not in universe|\n",
      "|                           No|                          Yes|                            3.0|    Neither parent p...|\n",
      "|          Not in universe ...|                            ?|                            0.0|    Mother only present|\n",
      "+-----------------------------+-----------------------------+-------------------------------+-----------------------+\n",
      "only showing top 20 rows\n",
      "\n"
     ]
    }
   ],
   "source": [
    "data_train.select('live in this house 1 year ago', \n",
    "'migration prev res in sunbelt','num persons worked for employer', 'family members under 18').distinct().show()"
   ]
  },
  {
   "cell_type": "code",
   "execution_count": 24,
   "metadata": {},
   "outputs": [
    {
     "name": "stdout",
     "output_type": "stream",
     "text": [
      "+-----------------------+-----------------------+---------------------+--------------------+\n",
      "|country of birth father|country of birth mother|country of birth self|         citizenship|\n",
      "+-----------------------+-----------------------+---------------------+--------------------+\n",
      "|            Philippines|                      ?|          Philippines| Foreign born- No...|\n",
      "|     Holand-Netherlands|     Holand-Netherlands|                    ?| Foreign born- No...|\n",
      "|                Ecuador|                      ?|                    ?| Native- Born abr...|\n",
      "|                 Greece|                Germany|              Germany| Foreign born- No...|\n",
      "|               Cambodia|                Vietnam|             Cambodia| Foreign born- U ...|\n",
      "|                      ?|                   Cuba|   Dominican-Republic| Foreign born- U ...|\n",
      "|                Ireland|                England|              England| Foreign born- No...|\n",
      "|              Hong Kong|          United-States|        United-States| Native- Born in ...|\n",
      "|                Vietnam|             Yugoslavia|              Vietnam| Foreign born- No...|\n",
      "|                  China|                  Japan|        United-States| Native- Born in ...|\n",
      "|                 Canada|     Dominican-Republic|        United-States| Native- Born in ...|\n",
      "|            El-Salvador|              Guatemala|        United-States| Native- Born in ...|\n",
      "|                Jamaica|            Puerto-Rico|        United-States| Native- Born in ...|\n",
      "|               Scotland|                Ireland|             Scotland| Foreign born- No...|\n",
      "|                   Laos|                 Poland|                 Laos| Foreign born- No...|\n",
      "|               Honduras|                      ?|        United-States| Native- Born in ...|\n",
      "|                 Mexico|                 Mexico|              Hungary| Foreign born- U ...|\n",
      "|                Ecuador|                      ?|               Canada| Foreign born- U ...|\n",
      "|               Thailand|               Thailand|             Thailand| Foreign born- No...|\n",
      "|     Dominican-Republic|                      ?|                    ?| Foreign born- No...|\n",
      "+-----------------------+-----------------------+---------------------+--------------------+\n",
      "only showing top 20 rows\n",
      "\n"
     ]
    }
   ],
   "source": [
    "data_train.select('country of birth father', 'country of birth mother','country of birth self', 'citizenship').distinct().show()"
   ]
  },
  {
   "cell_type": "code",
   "execution_count": 25,
   "metadata": {},
   "outputs": [
    {
     "name": "stdout",
     "output_type": "stream",
     "text": [
      "+-----------------------------+------------------------------------------+-----------------+\n",
      "|own business or self employed|fill inc questionnaire for veteran's admin|veterans benefits|\n",
      "+-----------------------------+------------------------------------------+-----------------+\n",
      "|                            0|                                       Yes|                1|\n",
      "|                            2|                                       Yes|                1|\n",
      "|                            0|                           Not in universe|                0|\n",
      "|                            1|                                        No|                1|\n",
      "|                            0|                           Not in universe|                2|\n",
      "|                            1|                                       Yes|                1|\n",
      "|                            1|                           Not in universe|                2|\n",
      "|                            2|                                        No|                1|\n",
      "|                            2|                           Not in universe|                2|\n",
      "|                            0|                                        No|                1|\n",
      "+-----------------------------+------------------------------------------+-----------------+\n",
      "\n"
     ]
    }
   ],
   "source": [
    "data_train.select('own business or self employed',\n",
    "\"fill inc questionnaire for veteran's admin\", 'veterans benefits').distinct().show()"
   ]
  },
  {
   "cell_type": "code",
   "execution_count": 26,
   "metadata": {},
   "outputs": [
    {
     "name": "stdout",
     "output_type": "stream",
     "text": [
      "+--------------------+----+------------+\n",
      "|weeks worked in year|year|income label|\n",
      "+--------------------+----+------------+\n",
      "|                15.0|  94|     50000+.|\n",
      "|                18.0|  94|     50000+.|\n",
      "|                14.0|  95|    - 50000.|\n",
      "|                30.0|  94|    - 50000.|\n",
      "|                49.0|  94|    - 50000.|\n",
      "|                50.0|  95|     50000+.|\n",
      "|                49.0|  95|     50000+.|\n",
      "|                42.0|  95|     50000+.|\n",
      "|                 4.0|  95|     50000+.|\n",
      "|                38.0|  95|    - 50000.|\n",
      "|                 8.0|  95|    - 50000.|\n",
      "|                43.0|  95|     50000+.|\n",
      "|                46.0|  95|    - 50000.|\n",
      "|                30.0|  94|     50000+.|\n",
      "|                12.0|  95|     50000+.|\n",
      "|                 2.0|  94|     50000+.|\n",
      "|                 6.0|  95|    - 50000.|\n",
      "|                51.0|  94|    - 50000.|\n",
      "|                52.0|  94|    - 50000.|\n",
      "|                24.0|  95|     50000+.|\n",
      "+--------------------+----+------------+\n",
      "only showing top 20 rows\n",
      "\n"
     ]
    }
   ],
   "source": [
    "data_train.select('weeks worked in year','year', 'income label').distinct().show()"
   ]
  },
  {
   "cell_type": "markdown",
   "metadata": {},
   "source": [
    "### 5. Make exploratory data analysis and visualize your findings from data."
   ]
  },
  {
   "cell_type": "code",
   "execution_count": 27,
   "metadata": {},
   "outputs": [
    {
     "data": {
      "text/plain": [
       "pyspark.sql.dataframe.DataFrame"
      ]
     },
     "execution_count": 27,
     "metadata": {},
     "output_type": "execute_result"
    }
   ],
   "source": [
    "type(data_train)"
   ]
  },
  {
   "cell_type": "code",
   "execution_count": 28,
   "metadata": {},
   "outputs": [
    {
     "data": {
      "text/plain": [
       "[('age', 'float'),\n",
       " ('class of worker', 'string'),\n",
       " ('industry code', 'string'),\n",
       " ('occupation code', 'string'),\n",
       " ('education', 'string'),\n",
       " ('wage per hour', 'float'),\n",
       " ('enrolled in edu inst last wk', 'string'),\n",
       " ('marital status', 'string'),\n",
       " ('major industry code', 'string'),\n",
       " ('major occupation code', 'string'),\n",
       " ('mace', 'string'),\n",
       " ('hispanic Origin', 'string'),\n",
       " ('sex', 'string'),\n",
       " ('member of a labor union', 'string'),\n",
       " ('reason for unemployment', 'string'),\n",
       " ('full or part time employment stat', 'string'),\n",
       " ('capital gains', 'float'),\n",
       " ('capital losses', 'float'),\n",
       " ('dividends from stocks', 'float'),\n",
       " ('tax filer status', 'string'),\n",
       " ('region of previous residence', 'string'),\n",
       " ('state of previous residence', 'string'),\n",
       " ('detailed household and family stat', 'string'),\n",
       " ('detailed household summary in household', 'string'),\n",
       " ('instance weight', 'float'),\n",
       " ('migration code-change in msa', 'string'),\n",
       " ('migration code-change in reg', 'string'),\n",
       " ('migration code-move within reg', 'string'),\n",
       " ('live in this house 1 year ago', 'string'),\n",
       " ('migration prev res in sunbelt', 'string'),\n",
       " ('num persons worked for employer', 'float'),\n",
       " ('family members under 18', 'string'),\n",
       " ('country of birth father', 'string'),\n",
       " ('country of birth mother', 'string'),\n",
       " ('country of birth self', 'string'),\n",
       " ('citizenship', 'string'),\n",
       " ('own business or self employed', 'string'),\n",
       " (\"fill inc questionnaire for veteran's admin\", 'string'),\n",
       " ('veterans benefits', 'string'),\n",
       " ('weeks worked in year', 'float'),\n",
       " ('year', 'string'),\n",
       " ('income label', 'string')]"
      ]
     },
     "execution_count": 28,
     "metadata": {},
     "output_type": "execute_result"
    }
   ],
   "source": [
    "data_train.dtypes"
   ]
  },
  {
   "cell_type": "markdown",
   "metadata": {},
   "source": [
    "#### A descripiton only for continuous variables"
   ]
  },
  {
   "cell_type": "code",
   "execution_count": 29,
   "metadata": {},
   "outputs": [
    {
     "name": "stdout",
     "output_type": "stream",
     "text": [
      "+-------+------------------+------------------+\n",
      "|summary|               age|     wage per hour|\n",
      "+-------+------------------+------------------+\n",
      "|  count|            199523|            199523|\n",
      "|   mean|34.494198663813194|55.426908175999756|\n",
      "| stddev|22.310895206650155| 274.8964539028402|\n",
      "|    min|               0.0|               0.0|\n",
      "|    max|              90.0|            9999.0|\n",
      "+-------+------------------+------------------+\n",
      "\n"
     ]
    }
   ],
   "source": [
    "data_train.describe('age','wage per hour').show()"
   ]
  },
  {
   "cell_type": "code",
   "execution_count": 30,
   "metadata": {},
   "outputs": [
    {
     "name": "stdout",
     "output_type": "stream",
     "text": [
      "+-------+-----------------+------------------+---------------------+\n",
      "|summary|    capital gains|    capital losses|dividends from stocks|\n",
      "+-------+-----------------+------------------+---------------------+\n",
      "|  count|           199523|            199523|               199523|\n",
      "|   mean|434.7189897906507|37.313788385298935|   197.52953293605248|\n",
      "| stddev| 4697.53127971253| 271.8964283649649|   1984.1636583823397|\n",
      "|    min|              0.0|               0.0|                  0.0|\n",
      "|    max|          99999.0|            4608.0|              99999.0|\n",
      "+-------+-----------------+------------------+---------------------+\n",
      "\n"
     ]
    }
   ],
   "source": [
    "data_train.describe('capital gains', 'capital losses','dividends from stocks').show()"
   ]
  },
  {
   "cell_type": "code",
   "execution_count": 31,
   "metadata": {},
   "outputs": [
    {
     "name": "stdout",
     "output_type": "stream",
     "text": [
      "+-------+------------------+-------------------------------+\n",
      "|summary|   instance weight|num persons worked for employer|\n",
      "+-------+------------------+-------------------------------+\n",
      "|  count|            199523|                         199523|\n",
      "|   mean|1740.3802694451635|             1.9561804904697704|\n",
      "| stddev| 993.7681559908557|             2.3651255054923803|\n",
      "|    min|             37.87|                            0.0|\n",
      "|    max|           18656.3|                            6.0|\n",
      "+-------+------------------+-------------------------------+\n",
      "\n"
     ]
    }
   ],
   "source": [
    "data_train.describe('instance weight','num persons worked for employer').show()"
   ]
  },
  {
   "cell_type": "markdown",
   "metadata": {},
   "source": [
    "#### Missing values"
   ]
  },
  {
   "cell_type": "code",
   "execution_count": 32,
   "metadata": {},
   "outputs": [
    {
     "name": "stdout",
     "output_type": "stream",
     "text": [
      "+---+---------------+-------------+---------------+---------+-------------+----------------------------+--------------+-------------------+---------------------+----+---------------+---+-----------------------+-----------------------+---------------------------------+-------------+--------------+---------------------+----------------+----------------------------+---------------------------+----------------------------------+---------------------------------------+---------------+----------------------------+----------------------------+------------------------------+-----------------------------+-----------------------------+-------------------------------+-----------------------+-----------------------+-----------------------+---------------------+-----------+-----------------------------+------------------------------------------+-----------------+--------------------+----+------------+\n",
      "|age|class of worker|industry code|occupation code|education|wage per hour|enrolled in edu inst last wk|marital status|major industry code|major occupation code|mace|hispanic Origin|sex|member of a labor union|reason for unemployment|full or part time employment stat|capital gains|capital losses|dividends from stocks|tax filer status|region of previous residence|state of previous residence|detailed household and family stat|detailed household summary in household|instance weight|migration code-change in msa|migration code-change in reg|migration code-move within reg|live in this house 1 year ago|migration prev res in sunbelt|num persons worked for employer|family members under 18|country of birth father|country of birth mother|country of birth self|citizenship|own business or self employed|fill inc questionnaire for veteran's admin|veterans benefits|weeks worked in year|year|income label|\n",
      "+---+---------------+-------------+---------------+---------+-------------+----------------------------+--------------+-------------------+---------------------+----+---------------+---+-----------------------+-----------------------+---------------------------------+-------------+--------------+---------------------+----------------+----------------------------+---------------------------+----------------------------------+---------------------------------------+---------------+----------------------------+----------------------------+------------------------------+-----------------------------+-----------------------------+-------------------------------+-----------------------+-----------------------+-----------------------+---------------------+-----------+-----------------------------+------------------------------------------+-----------------+--------------------+----+------------+\n",
      "|  0|              0|            0|              0|        0|            0|                           0|             0|                  0|                    0|   0|              0|  0|                      0|                      0|                                0|            0|             0|                    0|               0|                           0|                          0|                                 0|                                      0|              0|                           0|                           0|                             0|                            0|                            0|                              0|                      0|                      0|                      0|                    0|          0|                            0|                                         0|                0|                   0|   0|           0|\n",
      "+---+---------------+-------------+---------------+---------+-------------+----------------------------+--------------+-------------------+---------------------+----+---------------+---+-----------------------+-----------------------+---------------------------------+-------------+--------------+---------------------+----------------+----------------------------+---------------------------+----------------------------------+---------------------------------------+---------------+----------------------------+----------------------------+------------------------------+-----------------------------+-----------------------------+-------------------------------+-----------------------+-----------------------+-----------------------+---------------------+-----------+-----------------------------+------------------------------------------+-----------------+--------------------+----+------------+\n",
      "\n"
     ]
    }
   ],
   "source": [
    "data_train.select([count(when(isnan(c), c)).alias(c) for c in data_train.columns]).show()"
   ]
  },
  {
   "cell_type": "markdown",
   "metadata": {},
   "source": [
    "#### We read in description: \n",
    "\"The instance weight indicates the number of people in the population\n",
    "that each record represents due to stratified sampling.\n",
    "To do real analysis and derive conclusions, this field must be used.\n",
    "This attribute should **not** be used in the classifiers, so it is\n",
    "set to \"ignore\" in this file.\""
   ]
  },
  {
   "cell_type": "code",
   "execution_count": 33,
   "metadata": {},
   "outputs": [],
   "source": [
    "data_train = data_train.drop('instance weight')\n",
    "\n",
    "data_test = data_test.drop('instance weight')"
   ]
  },
  {
   "cell_type": "code",
   "execution_count": 34,
   "metadata": {},
   "outputs": [
    {
     "data": {
      "text/plain": [
       "DataFrame[age: float, class of worker: string, industry code: string, occupation code: string, education: string, wage per hour: float, enrolled in edu inst last wk: string, marital status: string, major industry code: string, major occupation code: string, mace: string, hispanic Origin: string, sex: string, member of a labor union: string, reason for unemployment: string, full or part time employment stat: string, capital gains: float, capital losses: float, dividends from stocks: float, tax filer status: string, region of previous residence: string, state of previous residence: string, detailed household and family stat: string, detailed household summary in household: string, migration code-change in msa: string, migration code-change in reg: string, migration code-move within reg: string, live in this house 1 year ago: string, migration prev res in sunbelt: string, num persons worked for employer: float, family members under 18: string, country of birth father: string, country of birth mother: string, country of birth self: string, citizenship: string, own business or self employed: string, fill inc questionnaire for veteran's admin: string, veterans benefits: string, weeks worked in year: float, year: string, income label: string]"
      ]
     },
     "execution_count": 34,
     "metadata": {},
     "output_type": "execute_result"
    }
   ],
   "source": [
    "data_train.persist()\n",
    "\n",
    "data_test.persist()"
   ]
  },
  {
   "cell_type": "markdown",
   "metadata": {},
   "source": [
    "#### I will change dataset to Pandas DataFrame to explore i vizualize a data. "
   ]
  },
  {
   "cell_type": "code",
   "execution_count": 35,
   "metadata": {},
   "outputs": [],
   "source": [
    "data_train_pandas = data_train.toPandas()\n",
    "\n",
    "data_test_pandas = data_test.toPandas()"
   ]
  },
  {
   "cell_type": "code",
   "execution_count": 36,
   "metadata": {},
   "outputs": [
    {
     "data": {
      "text/html": [
       "<div>\n",
       "<style scoped>\n",
       "    .dataframe tbody tr th:only-of-type {\n",
       "        vertical-align: middle;\n",
       "    }\n",
       "\n",
       "    .dataframe tbody tr th {\n",
       "        vertical-align: top;\n",
       "    }\n",
       "\n",
       "    .dataframe thead th {\n",
       "        text-align: right;\n",
       "    }\n",
       "</style>\n",
       "<table border=\"1\" class=\"dataframe\">\n",
       "  <thead>\n",
       "    <tr style=\"text-align: right;\">\n",
       "      <th></th>\n",
       "      <th>age</th>\n",
       "      <th>class of worker</th>\n",
       "      <th>industry code</th>\n",
       "      <th>occupation code</th>\n",
       "      <th>education</th>\n",
       "      <th>wage per hour</th>\n",
       "      <th>enrolled in edu inst last wk</th>\n",
       "      <th>marital status</th>\n",
       "      <th>major industry code</th>\n",
       "      <th>major occupation code</th>\n",
       "      <th>...</th>\n",
       "      <th>country of birth father</th>\n",
       "      <th>country of birth mother</th>\n",
       "      <th>country of birth self</th>\n",
       "      <th>citizenship</th>\n",
       "      <th>own business or self employed</th>\n",
       "      <th>fill inc questionnaire for veteran's admin</th>\n",
       "      <th>veterans benefits</th>\n",
       "      <th>weeks worked in year</th>\n",
       "      <th>year</th>\n",
       "      <th>income label</th>\n",
       "    </tr>\n",
       "  </thead>\n",
       "  <tbody>\n",
       "    <tr>\n",
       "      <th>0</th>\n",
       "      <td>73.0</td>\n",
       "      <td>Not in universe</td>\n",
       "      <td>0</td>\n",
       "      <td>0</td>\n",
       "      <td>High school graduate</td>\n",
       "      <td>0.0</td>\n",
       "      <td>Not in universe</td>\n",
       "      <td>Widowed</td>\n",
       "      <td>Not in universe or children</td>\n",
       "      <td>Not in universe</td>\n",
       "      <td>...</td>\n",
       "      <td>United-States</td>\n",
       "      <td>United-States</td>\n",
       "      <td>United-States</td>\n",
       "      <td>Native- Born in the United States</td>\n",
       "      <td>0</td>\n",
       "      <td>Not in universe</td>\n",
       "      <td>2</td>\n",
       "      <td>0.0</td>\n",
       "      <td>95</td>\n",
       "      <td>- 50000.</td>\n",
       "    </tr>\n",
       "    <tr>\n",
       "      <th>1</th>\n",
       "      <td>58.0</td>\n",
       "      <td>Self-employed-not incorporated</td>\n",
       "      <td>4</td>\n",
       "      <td>34</td>\n",
       "      <td>Some college but no degree</td>\n",
       "      <td>0.0</td>\n",
       "      <td>Not in universe</td>\n",
       "      <td>Divorced</td>\n",
       "      <td>Construction</td>\n",
       "      <td>Precision production craft &amp; repair</td>\n",
       "      <td>...</td>\n",
       "      <td>United-States</td>\n",
       "      <td>United-States</td>\n",
       "      <td>United-States</td>\n",
       "      <td>Native- Born in the United States</td>\n",
       "      <td>0</td>\n",
       "      <td>Not in universe</td>\n",
       "      <td>2</td>\n",
       "      <td>52.0</td>\n",
       "      <td>94</td>\n",
       "      <td>- 50000.</td>\n",
       "    </tr>\n",
       "    <tr>\n",
       "      <th>2</th>\n",
       "      <td>18.0</td>\n",
       "      <td>Not in universe</td>\n",
       "      <td>0</td>\n",
       "      <td>0</td>\n",
       "      <td>10th grade</td>\n",
       "      <td>0.0</td>\n",
       "      <td>High school</td>\n",
       "      <td>Never married</td>\n",
       "      <td>Not in universe or children</td>\n",
       "      <td>Not in universe</td>\n",
       "      <td>...</td>\n",
       "      <td>Vietnam</td>\n",
       "      <td>Vietnam</td>\n",
       "      <td>Vietnam</td>\n",
       "      <td>Foreign born- Not a citizen of U S</td>\n",
       "      <td>0</td>\n",
       "      <td>Not in universe</td>\n",
       "      <td>2</td>\n",
       "      <td>0.0</td>\n",
       "      <td>95</td>\n",
       "      <td>- 50000.</td>\n",
       "    </tr>\n",
       "    <tr>\n",
       "      <th>3</th>\n",
       "      <td>9.0</td>\n",
       "      <td>Not in universe</td>\n",
       "      <td>0</td>\n",
       "      <td>0</td>\n",
       "      <td>Children</td>\n",
       "      <td>0.0</td>\n",
       "      <td>Not in universe</td>\n",
       "      <td>Never married</td>\n",
       "      <td>Not in universe or children</td>\n",
       "      <td>Not in universe</td>\n",
       "      <td>...</td>\n",
       "      <td>United-States</td>\n",
       "      <td>United-States</td>\n",
       "      <td>United-States</td>\n",
       "      <td>Native- Born in the United States</td>\n",
       "      <td>0</td>\n",
       "      <td>Not in universe</td>\n",
       "      <td>0</td>\n",
       "      <td>0.0</td>\n",
       "      <td>94</td>\n",
       "      <td>- 50000.</td>\n",
       "    </tr>\n",
       "    <tr>\n",
       "      <th>4</th>\n",
       "      <td>10.0</td>\n",
       "      <td>Not in universe</td>\n",
       "      <td>0</td>\n",
       "      <td>0</td>\n",
       "      <td>Children</td>\n",
       "      <td>0.0</td>\n",
       "      <td>Not in universe</td>\n",
       "      <td>Never married</td>\n",
       "      <td>Not in universe or children</td>\n",
       "      <td>Not in universe</td>\n",
       "      <td>...</td>\n",
       "      <td>United-States</td>\n",
       "      <td>United-States</td>\n",
       "      <td>United-States</td>\n",
       "      <td>Native- Born in the United States</td>\n",
       "      <td>0</td>\n",
       "      <td>Not in universe</td>\n",
       "      <td>0</td>\n",
       "      <td>0.0</td>\n",
       "      <td>94</td>\n",
       "      <td>- 50000.</td>\n",
       "    </tr>\n",
       "  </tbody>\n",
       "</table>\n",
       "<p>5 rows × 41 columns</p>\n",
       "</div>"
      ],
      "text/plain": [
       "    age                  class of worker industry code occupation code  \\\n",
       "0  73.0                  Not in universe             0               0   \n",
       "1  58.0   Self-employed-not incorporated             4              34   \n",
       "2  18.0                  Not in universe             0               0   \n",
       "3   9.0                  Not in universe             0               0   \n",
       "4  10.0                  Not in universe             0               0   \n",
       "\n",
       "                     education  wage per hour enrolled in edu inst last wk  \\\n",
       "0         High school graduate            0.0              Not in universe   \n",
       "1   Some college but no degree            0.0              Not in universe   \n",
       "2                   10th grade            0.0                  High school   \n",
       "3                     Children            0.0              Not in universe   \n",
       "4                     Children            0.0              Not in universe   \n",
       "\n",
       "   marital status           major industry code  \\\n",
       "0         Widowed   Not in universe or children   \n",
       "1        Divorced                  Construction   \n",
       "2   Never married   Not in universe or children   \n",
       "3   Never married   Not in universe or children   \n",
       "4   Never married   Not in universe or children   \n",
       "\n",
       "                  major occupation code  ... country of birth father  \\\n",
       "0                       Not in universe  ...           United-States   \n",
       "1   Precision production craft & repair  ...           United-States   \n",
       "2                       Not in universe  ...                 Vietnam   \n",
       "3                       Not in universe  ...           United-States   \n",
       "4                       Not in universe  ...           United-States   \n",
       "\n",
       "  country of birth mother country of birth self  \\\n",
       "0           United-States         United-States   \n",
       "1           United-States         United-States   \n",
       "2                 Vietnam               Vietnam   \n",
       "3           United-States         United-States   \n",
       "4           United-States         United-States   \n",
       "\n",
       "                            citizenship own business or self employed  \\\n",
       "0     Native- Born in the United States                             0   \n",
       "1     Native- Born in the United States                             0   \n",
       "2   Foreign born- Not a citizen of U S                              0   \n",
       "3     Native- Born in the United States                             0   \n",
       "4     Native- Born in the United States                             0   \n",
       "\n",
       "  fill inc questionnaire for veteran's admin  veterans benefits  \\\n",
       "0                            Not in universe                  2   \n",
       "1                            Not in universe                  2   \n",
       "2                            Not in universe                  2   \n",
       "3                            Not in universe                  0   \n",
       "4                            Not in universe                  0   \n",
       "\n",
       "   weeks worked in year  year income label  \n",
       "0                   0.0    95     - 50000.  \n",
       "1                  52.0    94     - 50000.  \n",
       "2                   0.0    95     - 50000.  \n",
       "3                   0.0    94     - 50000.  \n",
       "4                   0.0    94     - 50000.  \n",
       "\n",
       "[5 rows x 41 columns]"
      ]
     },
     "execution_count": 36,
     "metadata": {},
     "output_type": "execute_result"
    }
   ],
   "source": [
    "data_train_pandas.head()"
   ]
  },
  {
   "cell_type": "code",
   "execution_count": 37,
   "metadata": {},
   "outputs": [
    {
     "data": {
      "text/plain": [
       "age                                           0\n",
       "class of worker                               0\n",
       "industry code                                 0\n",
       "occupation code                               0\n",
       "education                                     0\n",
       "wage per hour                                 0\n",
       "enrolled in edu inst last wk                  0\n",
       "marital status                                0\n",
       "major industry code                           0\n",
       "major occupation code                         0\n",
       "mace                                          0\n",
       "hispanic Origin                               0\n",
       "sex                                           0\n",
       "member of a labor union                       0\n",
       "reason for unemployment                       0\n",
       "full or part time employment stat             0\n",
       "capital gains                                 0\n",
       "capital losses                                0\n",
       "dividends from stocks                         0\n",
       "tax filer status                              0\n",
       "region of previous residence                  0\n",
       "state of previous residence                   0\n",
       "detailed household and family stat            0\n",
       "detailed household summary in household       0\n",
       "migration code-change in msa                  0\n",
       "migration code-change in reg                  0\n",
       "migration code-move within reg                0\n",
       "live in this house 1 year ago                 0\n",
       "migration prev res in sunbelt                 0\n",
       "num persons worked for employer               0\n",
       "family members under 18                       0\n",
       "country of birth father                       0\n",
       "country of birth mother                       0\n",
       "country of birth self                         0\n",
       "citizenship                                   0\n",
       "own business or self employed                 0\n",
       "fill inc questionnaire for veteran's admin    0\n",
       "veterans benefits                             0\n",
       "weeks worked in year                          0\n",
       "year                                          0\n",
       "income label                                  0\n",
       "dtype: int64"
      ]
     },
     "execution_count": 37,
     "metadata": {},
     "output_type": "execute_result"
    }
   ],
   "source": [
    "# Alternative counting of missing values\n",
    "\n",
    "data_train_pandas.isna().sum()"
   ]
  },
  {
   "cell_type": "code",
   "execution_count": 38,
   "metadata": {},
   "outputs": [
    {
     "data": {
      "text/html": [
       "<div>\n",
       "<style scoped>\n",
       "    .dataframe tbody tr th:only-of-type {\n",
       "        vertical-align: middle;\n",
       "    }\n",
       "\n",
       "    .dataframe tbody tr th {\n",
       "        vertical-align: top;\n",
       "    }\n",
       "\n",
       "    .dataframe thead th {\n",
       "        text-align: right;\n",
       "    }\n",
       "</style>\n",
       "<table border=\"1\" class=\"dataframe\">\n",
       "  <thead>\n",
       "    <tr style=\"text-align: right;\">\n",
       "      <th></th>\n",
       "      <th>age</th>\n",
       "      <th>wage per hour</th>\n",
       "      <th>capital gains</th>\n",
       "      <th>capital losses</th>\n",
       "      <th>dividends from stocks</th>\n",
       "      <th>num persons worked for employer</th>\n",
       "      <th>weeks worked in year</th>\n",
       "    </tr>\n",
       "  </thead>\n",
       "  <tbody>\n",
       "    <tr>\n",
       "      <th>count</th>\n",
       "      <td>199523.00</td>\n",
       "      <td>199523.00</td>\n",
       "      <td>199523.00</td>\n",
       "      <td>199523.00</td>\n",
       "      <td>199523.00</td>\n",
       "      <td>199523.00</td>\n",
       "      <td>199523.00</td>\n",
       "    </tr>\n",
       "    <tr>\n",
       "      <th>mean</th>\n",
       "      <td>34.49</td>\n",
       "      <td>55.43</td>\n",
       "      <td>434.72</td>\n",
       "      <td>37.31</td>\n",
       "      <td>197.53</td>\n",
       "      <td>1.96</td>\n",
       "      <td>23.17</td>\n",
       "    </tr>\n",
       "    <tr>\n",
       "      <th>std</th>\n",
       "      <td>22.31</td>\n",
       "      <td>274.90</td>\n",
       "      <td>4697.53</td>\n",
       "      <td>271.90</td>\n",
       "      <td>1984.16</td>\n",
       "      <td>2.37</td>\n",
       "      <td>24.41</td>\n",
       "    </tr>\n",
       "    <tr>\n",
       "      <th>min</th>\n",
       "      <td>0.00</td>\n",
       "      <td>0.00</td>\n",
       "      <td>0.00</td>\n",
       "      <td>0.00</td>\n",
       "      <td>0.00</td>\n",
       "      <td>0.00</td>\n",
       "      <td>0.00</td>\n",
       "    </tr>\n",
       "    <tr>\n",
       "      <th>25%</th>\n",
       "      <td>15.00</td>\n",
       "      <td>0.00</td>\n",
       "      <td>0.00</td>\n",
       "      <td>0.00</td>\n",
       "      <td>0.00</td>\n",
       "      <td>0.00</td>\n",
       "      <td>0.00</td>\n",
       "    </tr>\n",
       "    <tr>\n",
       "      <th>50%</th>\n",
       "      <td>33.00</td>\n",
       "      <td>0.00</td>\n",
       "      <td>0.00</td>\n",
       "      <td>0.00</td>\n",
       "      <td>0.00</td>\n",
       "      <td>1.00</td>\n",
       "      <td>8.00</td>\n",
       "    </tr>\n",
       "    <tr>\n",
       "      <th>75%</th>\n",
       "      <td>50.00</td>\n",
       "      <td>0.00</td>\n",
       "      <td>0.00</td>\n",
       "      <td>0.00</td>\n",
       "      <td>0.00</td>\n",
       "      <td>4.00</td>\n",
       "      <td>52.00</td>\n",
       "    </tr>\n",
       "    <tr>\n",
       "      <th>max</th>\n",
       "      <td>90.00</td>\n",
       "      <td>9999.00</td>\n",
       "      <td>99999.00</td>\n",
       "      <td>4608.00</td>\n",
       "      <td>99999.00</td>\n",
       "      <td>6.00</td>\n",
       "      <td>52.00</td>\n",
       "    </tr>\n",
       "  </tbody>\n",
       "</table>\n",
       "</div>"
      ],
      "text/plain": [
       "             age  wage per hour  capital gains  capital losses  \\\n",
       "count  199523.00      199523.00      199523.00       199523.00   \n",
       "mean       34.49          55.43         434.72           37.31   \n",
       "std        22.31         274.90        4697.53          271.90   \n",
       "min         0.00           0.00           0.00            0.00   \n",
       "25%        15.00           0.00           0.00            0.00   \n",
       "50%        33.00           0.00           0.00            0.00   \n",
       "75%        50.00           0.00           0.00            0.00   \n",
       "max        90.00        9999.00       99999.00         4608.00   \n",
       "\n",
       "       dividends from stocks  num persons worked for employer  \\\n",
       "count              199523.00                        199523.00   \n",
       "mean                  197.53                             1.96   \n",
       "std                  1984.16                             2.37   \n",
       "min                     0.00                             0.00   \n",
       "25%                     0.00                             0.00   \n",
       "50%                     0.00                             1.00   \n",
       "75%                     0.00                             4.00   \n",
       "max                 99999.00                             6.00   \n",
       "\n",
       "       weeks worked in year  \n",
       "count             199523.00  \n",
       "mean                  23.17  \n",
       "std                   24.41  \n",
       "min                    0.00  \n",
       "25%                    0.00  \n",
       "50%                    8.00  \n",
       "75%                   52.00  \n",
       "max                   52.00  "
      ]
     },
     "execution_count": 38,
     "metadata": {},
     "output_type": "execute_result"
    }
   ],
   "source": [
    "# describe on data_train\n",
    "\n",
    "round(data_train_pandas.describe(),2)"
   ]
  },
  {
   "cell_type": "markdown",
   "metadata": {},
   "source": [
    "#### Data Outliers\n",
    "\n",
    "I am going to find the outliers and number of them in numerical columns. \n",
    "After it I will change the values on median or mean of all values\n",
    "\n",
    "To identifying extreme values in the tails of the distribution I use IQR. This is a measure of variability, based on dividing a data set into quartiles. Quartiles divide a rank-ordered data set into four equal parts. The values that separate parts are called the first, second, and third quartiles; and they are denoted by Q1, Q2, and Q3, respectively.\n",
    "\n",
    "The interquartile range is often used to find outliers in data. Outliers here are defined as observations that fall below Q1 − 1.5 IQR or above Q3 + 1.5 IQR. \n",
    "\n",
    "Source: https://en.wikipedia.org/wiki/Interquartile_range"
   ]
  },
  {
   "cell_type": "code",
   "execution_count": 39,
   "metadata": {},
   "outputs": [
    {
     "data": {
      "text/html": [
       "<div>\n",
       "<style scoped>\n",
       "    .dataframe tbody tr th:only-of-type {\n",
       "        vertical-align: middle;\n",
       "    }\n",
       "\n",
       "    .dataframe tbody tr th {\n",
       "        vertical-align: top;\n",
       "    }\n",
       "\n",
       "    .dataframe thead th {\n",
       "        text-align: right;\n",
       "    }\n",
       "</style>\n",
       "<table border=\"1\" class=\"dataframe\">\n",
       "  <thead>\n",
       "    <tr style=\"text-align: right;\">\n",
       "      <th></th>\n",
       "      <th>Q1</th>\n",
       "      <th>Q3</th>\n",
       "      <th>IQR</th>\n",
       "      <th>lower</th>\n",
       "      <th>upper</th>\n",
       "      <th>number of Outliers</th>\n",
       "    </tr>\n",
       "  </thead>\n",
       "  <tbody>\n",
       "    <tr>\n",
       "      <th>age</th>\n",
       "      <td>15.0</td>\n",
       "      <td>50.0</td>\n",
       "      <td>35.0</td>\n",
       "      <td>-37.5</td>\n",
       "      <td>102.5</td>\n",
       "      <td>0</td>\n",
       "    </tr>\n",
       "    <tr>\n",
       "      <th>capital gains</th>\n",
       "      <td>0.0</td>\n",
       "      <td>0.0</td>\n",
       "      <td>0.0</td>\n",
       "      <td>0.0</td>\n",
       "      <td>0.0</td>\n",
       "      <td>7379</td>\n",
       "    </tr>\n",
       "    <tr>\n",
       "      <th>capital losses</th>\n",
       "      <td>0.0</td>\n",
       "      <td>0.0</td>\n",
       "      <td>0.0</td>\n",
       "      <td>0.0</td>\n",
       "      <td>0.0</td>\n",
       "      <td>3906</td>\n",
       "    </tr>\n",
       "    <tr>\n",
       "      <th>citizenship</th>\n",
       "      <td>NaN</td>\n",
       "      <td>NaN</td>\n",
       "      <td>NaN</td>\n",
       "      <td>NaN</td>\n",
       "      <td>NaN</td>\n",
       "      <td>0</td>\n",
       "    </tr>\n",
       "    <tr>\n",
       "      <th>class of worker</th>\n",
       "      <td>NaN</td>\n",
       "      <td>NaN</td>\n",
       "      <td>NaN</td>\n",
       "      <td>NaN</td>\n",
       "      <td>NaN</td>\n",
       "      <td>0</td>\n",
       "    </tr>\n",
       "    <tr>\n",
       "      <th>country of birth father</th>\n",
       "      <td>NaN</td>\n",
       "      <td>NaN</td>\n",
       "      <td>NaN</td>\n",
       "      <td>NaN</td>\n",
       "      <td>NaN</td>\n",
       "      <td>0</td>\n",
       "    </tr>\n",
       "    <tr>\n",
       "      <th>country of birth mother</th>\n",
       "      <td>NaN</td>\n",
       "      <td>NaN</td>\n",
       "      <td>NaN</td>\n",
       "      <td>NaN</td>\n",
       "      <td>NaN</td>\n",
       "      <td>0</td>\n",
       "    </tr>\n",
       "    <tr>\n",
       "      <th>country of birth self</th>\n",
       "      <td>NaN</td>\n",
       "      <td>NaN</td>\n",
       "      <td>NaN</td>\n",
       "      <td>NaN</td>\n",
       "      <td>NaN</td>\n",
       "      <td>0</td>\n",
       "    </tr>\n",
       "    <tr>\n",
       "      <th>detailed household and family stat</th>\n",
       "      <td>NaN</td>\n",
       "      <td>NaN</td>\n",
       "      <td>NaN</td>\n",
       "      <td>NaN</td>\n",
       "      <td>NaN</td>\n",
       "      <td>0</td>\n",
       "    </tr>\n",
       "    <tr>\n",
       "      <th>detailed household summary in household</th>\n",
       "      <td>NaN</td>\n",
       "      <td>NaN</td>\n",
       "      <td>NaN</td>\n",
       "      <td>NaN</td>\n",
       "      <td>NaN</td>\n",
       "      <td>0</td>\n",
       "    </tr>\n",
       "    <tr>\n",
       "      <th>dividends from stocks</th>\n",
       "      <td>0.0</td>\n",
       "      <td>0.0</td>\n",
       "      <td>0.0</td>\n",
       "      <td>0.0</td>\n",
       "      <td>0.0</td>\n",
       "      <td>21141</td>\n",
       "    </tr>\n",
       "    <tr>\n",
       "      <th>education</th>\n",
       "      <td>NaN</td>\n",
       "      <td>NaN</td>\n",
       "      <td>NaN</td>\n",
       "      <td>NaN</td>\n",
       "      <td>NaN</td>\n",
       "      <td>0</td>\n",
       "    </tr>\n",
       "    <tr>\n",
       "      <th>enrolled in edu inst last wk</th>\n",
       "      <td>NaN</td>\n",
       "      <td>NaN</td>\n",
       "      <td>NaN</td>\n",
       "      <td>NaN</td>\n",
       "      <td>NaN</td>\n",
       "      <td>0</td>\n",
       "    </tr>\n",
       "    <tr>\n",
       "      <th>family members under 18</th>\n",
       "      <td>NaN</td>\n",
       "      <td>NaN</td>\n",
       "      <td>NaN</td>\n",
       "      <td>NaN</td>\n",
       "      <td>NaN</td>\n",
       "      <td>0</td>\n",
       "    </tr>\n",
       "    <tr>\n",
       "      <th>fill inc questionnaire for veteran's admin</th>\n",
       "      <td>NaN</td>\n",
       "      <td>NaN</td>\n",
       "      <td>NaN</td>\n",
       "      <td>NaN</td>\n",
       "      <td>NaN</td>\n",
       "      <td>0</td>\n",
       "    </tr>\n",
       "    <tr>\n",
       "      <th>full or part time employment stat</th>\n",
       "      <td>NaN</td>\n",
       "      <td>NaN</td>\n",
       "      <td>NaN</td>\n",
       "      <td>NaN</td>\n",
       "      <td>NaN</td>\n",
       "      <td>0</td>\n",
       "    </tr>\n",
       "    <tr>\n",
       "      <th>hispanic Origin</th>\n",
       "      <td>NaN</td>\n",
       "      <td>NaN</td>\n",
       "      <td>NaN</td>\n",
       "      <td>NaN</td>\n",
       "      <td>NaN</td>\n",
       "      <td>0</td>\n",
       "    </tr>\n",
       "    <tr>\n",
       "      <th>income label</th>\n",
       "      <td>NaN</td>\n",
       "      <td>NaN</td>\n",
       "      <td>NaN</td>\n",
       "      <td>NaN</td>\n",
       "      <td>NaN</td>\n",
       "      <td>0</td>\n",
       "    </tr>\n",
       "    <tr>\n",
       "      <th>industry code</th>\n",
       "      <td>NaN</td>\n",
       "      <td>NaN</td>\n",
       "      <td>NaN</td>\n",
       "      <td>NaN</td>\n",
       "      <td>NaN</td>\n",
       "      <td>0</td>\n",
       "    </tr>\n",
       "    <tr>\n",
       "      <th>live in this house 1 year ago</th>\n",
       "      <td>NaN</td>\n",
       "      <td>NaN</td>\n",
       "      <td>NaN</td>\n",
       "      <td>NaN</td>\n",
       "      <td>NaN</td>\n",
       "      <td>0</td>\n",
       "    </tr>\n",
       "    <tr>\n",
       "      <th>mace</th>\n",
       "      <td>NaN</td>\n",
       "      <td>NaN</td>\n",
       "      <td>NaN</td>\n",
       "      <td>NaN</td>\n",
       "      <td>NaN</td>\n",
       "      <td>0</td>\n",
       "    </tr>\n",
       "    <tr>\n",
       "      <th>major industry code</th>\n",
       "      <td>NaN</td>\n",
       "      <td>NaN</td>\n",
       "      <td>NaN</td>\n",
       "      <td>NaN</td>\n",
       "      <td>NaN</td>\n",
       "      <td>0</td>\n",
       "    </tr>\n",
       "    <tr>\n",
       "      <th>major occupation code</th>\n",
       "      <td>NaN</td>\n",
       "      <td>NaN</td>\n",
       "      <td>NaN</td>\n",
       "      <td>NaN</td>\n",
       "      <td>NaN</td>\n",
       "      <td>0</td>\n",
       "    </tr>\n",
       "    <tr>\n",
       "      <th>marital status</th>\n",
       "      <td>NaN</td>\n",
       "      <td>NaN</td>\n",
       "      <td>NaN</td>\n",
       "      <td>NaN</td>\n",
       "      <td>NaN</td>\n",
       "      <td>0</td>\n",
       "    </tr>\n",
       "    <tr>\n",
       "      <th>member of a labor union</th>\n",
       "      <td>NaN</td>\n",
       "      <td>NaN</td>\n",
       "      <td>NaN</td>\n",
       "      <td>NaN</td>\n",
       "      <td>NaN</td>\n",
       "      <td>0</td>\n",
       "    </tr>\n",
       "    <tr>\n",
       "      <th>migration code-change in msa</th>\n",
       "      <td>NaN</td>\n",
       "      <td>NaN</td>\n",
       "      <td>NaN</td>\n",
       "      <td>NaN</td>\n",
       "      <td>NaN</td>\n",
       "      <td>0</td>\n",
       "    </tr>\n",
       "    <tr>\n",
       "      <th>migration code-change in reg</th>\n",
       "      <td>NaN</td>\n",
       "      <td>NaN</td>\n",
       "      <td>NaN</td>\n",
       "      <td>NaN</td>\n",
       "      <td>NaN</td>\n",
       "      <td>0</td>\n",
       "    </tr>\n",
       "    <tr>\n",
       "      <th>migration code-move within reg</th>\n",
       "      <td>NaN</td>\n",
       "      <td>NaN</td>\n",
       "      <td>NaN</td>\n",
       "      <td>NaN</td>\n",
       "      <td>NaN</td>\n",
       "      <td>0</td>\n",
       "    </tr>\n",
       "    <tr>\n",
       "      <th>migration prev res in sunbelt</th>\n",
       "      <td>NaN</td>\n",
       "      <td>NaN</td>\n",
       "      <td>NaN</td>\n",
       "      <td>NaN</td>\n",
       "      <td>NaN</td>\n",
       "      <td>0</td>\n",
       "    </tr>\n",
       "    <tr>\n",
       "      <th>num persons worked for employer</th>\n",
       "      <td>0.0</td>\n",
       "      <td>4.0</td>\n",
       "      <td>4.0</td>\n",
       "      <td>-6.0</td>\n",
       "      <td>10.0</td>\n",
       "      <td>0</td>\n",
       "    </tr>\n",
       "    <tr>\n",
       "      <th>occupation code</th>\n",
       "      <td>NaN</td>\n",
       "      <td>NaN</td>\n",
       "      <td>NaN</td>\n",
       "      <td>NaN</td>\n",
       "      <td>NaN</td>\n",
       "      <td>0</td>\n",
       "    </tr>\n",
       "    <tr>\n",
       "      <th>own business or self employed</th>\n",
       "      <td>NaN</td>\n",
       "      <td>NaN</td>\n",
       "      <td>NaN</td>\n",
       "      <td>NaN</td>\n",
       "      <td>NaN</td>\n",
       "      <td>0</td>\n",
       "    </tr>\n",
       "    <tr>\n",
       "      <th>reason for unemployment</th>\n",
       "      <td>NaN</td>\n",
       "      <td>NaN</td>\n",
       "      <td>NaN</td>\n",
       "      <td>NaN</td>\n",
       "      <td>NaN</td>\n",
       "      <td>0</td>\n",
       "    </tr>\n",
       "    <tr>\n",
       "      <th>region of previous residence</th>\n",
       "      <td>NaN</td>\n",
       "      <td>NaN</td>\n",
       "      <td>NaN</td>\n",
       "      <td>NaN</td>\n",
       "      <td>NaN</td>\n",
       "      <td>0</td>\n",
       "    </tr>\n",
       "    <tr>\n",
       "      <th>sex</th>\n",
       "      <td>NaN</td>\n",
       "      <td>NaN</td>\n",
       "      <td>NaN</td>\n",
       "      <td>NaN</td>\n",
       "      <td>NaN</td>\n",
       "      <td>0</td>\n",
       "    </tr>\n",
       "    <tr>\n",
       "      <th>state of previous residence</th>\n",
       "      <td>NaN</td>\n",
       "      <td>NaN</td>\n",
       "      <td>NaN</td>\n",
       "      <td>NaN</td>\n",
       "      <td>NaN</td>\n",
       "      <td>0</td>\n",
       "    </tr>\n",
       "    <tr>\n",
       "      <th>tax filer status</th>\n",
       "      <td>NaN</td>\n",
       "      <td>NaN</td>\n",
       "      <td>NaN</td>\n",
       "      <td>NaN</td>\n",
       "      <td>NaN</td>\n",
       "      <td>0</td>\n",
       "    </tr>\n",
       "    <tr>\n",
       "      <th>veterans benefits</th>\n",
       "      <td>NaN</td>\n",
       "      <td>NaN</td>\n",
       "      <td>NaN</td>\n",
       "      <td>NaN</td>\n",
       "      <td>NaN</td>\n",
       "      <td>0</td>\n",
       "    </tr>\n",
       "    <tr>\n",
       "      <th>wage per hour</th>\n",
       "      <td>0.0</td>\n",
       "      <td>0.0</td>\n",
       "      <td>0.0</td>\n",
       "      <td>0.0</td>\n",
       "      <td>0.0</td>\n",
       "      <td>11304</td>\n",
       "    </tr>\n",
       "    <tr>\n",
       "      <th>weeks worked in year</th>\n",
       "      <td>0.0</td>\n",
       "      <td>52.0</td>\n",
       "      <td>52.0</td>\n",
       "      <td>-78.0</td>\n",
       "      <td>130.0</td>\n",
       "      <td>0</td>\n",
       "    </tr>\n",
       "    <tr>\n",
       "      <th>year</th>\n",
       "      <td>NaN</td>\n",
       "      <td>NaN</td>\n",
       "      <td>NaN</td>\n",
       "      <td>NaN</td>\n",
       "      <td>NaN</td>\n",
       "      <td>0</td>\n",
       "    </tr>\n",
       "  </tbody>\n",
       "</table>\n",
       "</div>"
      ],
      "text/plain": [
       "                                              Q1    Q3   IQR  lower  upper  \\\n",
       "age                                         15.0  50.0  35.0  -37.5  102.5   \n",
       "capital gains                                0.0   0.0   0.0    0.0    0.0   \n",
       "capital losses                               0.0   0.0   0.0    0.0    0.0   \n",
       "citizenship                                  NaN   NaN   NaN    NaN    NaN   \n",
       "class of worker                              NaN   NaN   NaN    NaN    NaN   \n",
       "country of birth father                      NaN   NaN   NaN    NaN    NaN   \n",
       "country of birth mother                      NaN   NaN   NaN    NaN    NaN   \n",
       "country of birth self                        NaN   NaN   NaN    NaN    NaN   \n",
       "detailed household and family stat           NaN   NaN   NaN    NaN    NaN   \n",
       "detailed household summary in household      NaN   NaN   NaN    NaN    NaN   \n",
       "dividends from stocks                        0.0   0.0   0.0    0.0    0.0   \n",
       "education                                    NaN   NaN   NaN    NaN    NaN   \n",
       "enrolled in edu inst last wk                 NaN   NaN   NaN    NaN    NaN   \n",
       "family members under 18                      NaN   NaN   NaN    NaN    NaN   \n",
       "fill inc questionnaire for veteran's admin   NaN   NaN   NaN    NaN    NaN   \n",
       "full or part time employment stat            NaN   NaN   NaN    NaN    NaN   \n",
       "hispanic Origin                              NaN   NaN   NaN    NaN    NaN   \n",
       "income label                                 NaN   NaN   NaN    NaN    NaN   \n",
       "industry code                                NaN   NaN   NaN    NaN    NaN   \n",
       "live in this house 1 year ago                NaN   NaN   NaN    NaN    NaN   \n",
       "mace                                         NaN   NaN   NaN    NaN    NaN   \n",
       "major industry code                          NaN   NaN   NaN    NaN    NaN   \n",
       "major occupation code                        NaN   NaN   NaN    NaN    NaN   \n",
       "marital status                               NaN   NaN   NaN    NaN    NaN   \n",
       "member of a labor union                      NaN   NaN   NaN    NaN    NaN   \n",
       "migration code-change in msa                 NaN   NaN   NaN    NaN    NaN   \n",
       "migration code-change in reg                 NaN   NaN   NaN    NaN    NaN   \n",
       "migration code-move within reg               NaN   NaN   NaN    NaN    NaN   \n",
       "migration prev res in sunbelt                NaN   NaN   NaN    NaN    NaN   \n",
       "num persons worked for employer              0.0   4.0   4.0   -6.0   10.0   \n",
       "occupation code                              NaN   NaN   NaN    NaN    NaN   \n",
       "own business or self employed                NaN   NaN   NaN    NaN    NaN   \n",
       "reason for unemployment                      NaN   NaN   NaN    NaN    NaN   \n",
       "region of previous residence                 NaN   NaN   NaN    NaN    NaN   \n",
       "sex                                          NaN   NaN   NaN    NaN    NaN   \n",
       "state of previous residence                  NaN   NaN   NaN    NaN    NaN   \n",
       "tax filer status                             NaN   NaN   NaN    NaN    NaN   \n",
       "veterans benefits                            NaN   NaN   NaN    NaN    NaN   \n",
       "wage per hour                                0.0   0.0   0.0    0.0    0.0   \n",
       "weeks worked in year                         0.0  52.0  52.0  -78.0  130.0   \n",
       "year                                         NaN   NaN   NaN    NaN    NaN   \n",
       "\n",
       "                                            number of Outliers  \n",
       "age                                                          0  \n",
       "capital gains                                             7379  \n",
       "capital losses                                            3906  \n",
       "citizenship                                                  0  \n",
       "class of worker                                              0  \n",
       "country of birth father                                      0  \n",
       "country of birth mother                                      0  \n",
       "country of birth self                                        0  \n",
       "detailed household and family stat                           0  \n",
       "detailed household summary in household                      0  \n",
       "dividends from stocks                                    21141  \n",
       "education                                                    0  \n",
       "enrolled in edu inst last wk                                 0  \n",
       "family members under 18                                      0  \n",
       "fill inc questionnaire for veteran's admin                   0  \n",
       "full or part time employment stat                            0  \n",
       "hispanic Origin                                              0  \n",
       "income label                                                 0  \n",
       "industry code                                                0  \n",
       "live in this house 1 year ago                                0  \n",
       "mace                                                         0  \n",
       "major industry code                                          0  \n",
       "major occupation code                                        0  \n",
       "marital status                                               0  \n",
       "member of a labor union                                      0  \n",
       "migration code-change in msa                                 0  \n",
       "migration code-change in reg                                 0  \n",
       "migration code-move within reg                               0  \n",
       "migration prev res in sunbelt                                0  \n",
       "num persons worked for employer                              0  \n",
       "occupation code                                              0  \n",
       "own business or self employed                                0  \n",
       "reason for unemployment                                      0  \n",
       "region of previous residence                                 0  \n",
       "sex                                                          0  \n",
       "state of previous residence                                  0  \n",
       "tax filer status                                             0  \n",
       "veterans benefits                                            0  \n",
       "wage per hour                                            11304  \n",
       "weeks worked in year                                         0  \n",
       "year                                                         0  "
      ]
     },
     "execution_count": 39,
     "metadata": {},
     "output_type": "execute_result"
    }
   ],
   "source": [
    "Q1 = data_train_pandas.quantile(0.25)\n",
    "Q3 = data_train_pandas.quantile(0.75)\n",
    "IQR = Q3 - Q1\n",
    "\n",
    "data_train_amnt = pd.DataFrame({'Q1':Q1, 'Q3':Q3,'IQR':IQR, 'lower': Q1-1.5*IQR, 'upper': Q3+1.5*IQR,\n",
    "                 'number of Outliers' : ((data_train_pandas < (Q1 - 1.5 * IQR)) | (data_train_pandas > (Q3 + 1.5 * IQR))).sum(),\n",
    "                })\n",
    "\n",
    "data_train_amnt"
   ]
  },
  {
   "cell_type": "code",
   "execution_count": 40,
   "metadata": {},
   "outputs": [],
   "source": [
    "for col_name in data_train_pandas[['capital gains','capital losses','dividends from stocks','wage per hour']]:\n",
    "    q1 = data_train_pandas[col_name].quantile(0.25)\n",
    "    q3 = data_train_pandas[col_name].quantile(0.75)\n",
    "    iqr = q3 - q1\n",
    "    \n",
    "    low = q1-1.5*iqr\n",
    "    high = q3+1.5*iqr\n",
    "    data_train_pandas.loc[(data_train_pandas[col_name] < low) | (data_train_pandas[col_name] > high), col_name] = data_train_pandas[col_name].mean()"
   ]
  },
  {
   "cell_type": "code",
   "execution_count": 41,
   "metadata": {},
   "outputs": [
    {
     "data": {
      "text/html": [
       "<div>\n",
       "<style scoped>\n",
       "    .dataframe tbody tr th:only-of-type {\n",
       "        vertical-align: middle;\n",
       "    }\n",
       "\n",
       "    .dataframe tbody tr th {\n",
       "        vertical-align: top;\n",
       "    }\n",
       "\n",
       "    .dataframe thead th {\n",
       "        text-align: right;\n",
       "    }\n",
       "</style>\n",
       "<table border=\"1\" class=\"dataframe\">\n",
       "  <thead>\n",
       "    <tr style=\"text-align: right;\">\n",
       "      <th></th>\n",
       "      <th>age</th>\n",
       "      <th>wage per hour</th>\n",
       "      <th>capital gains</th>\n",
       "      <th>capital losses</th>\n",
       "      <th>dividends from stocks</th>\n",
       "      <th>num persons worked for employer</th>\n",
       "      <th>weeks worked in year</th>\n",
       "    </tr>\n",
       "  </thead>\n",
       "  <tbody>\n",
       "    <tr>\n",
       "      <th>count</th>\n",
       "      <td>199523.000000</td>\n",
       "      <td>199523.000000</td>\n",
       "      <td>199523.000000</td>\n",
       "      <td>199523.000000</td>\n",
       "      <td>199523.000000</td>\n",
       "      <td>199523.000000</td>\n",
       "      <td>199523.000000</td>\n",
       "    </tr>\n",
       "    <tr>\n",
       "      <th>mean</th>\n",
       "      <td>34.494198</td>\n",
       "      <td>3.140218</td>\n",
       "      <td>16.077305</td>\n",
       "      <td>0.730480</td>\n",
       "      <td>20.929773</td>\n",
       "      <td>1.956180</td>\n",
       "      <td>23.174896</td>\n",
       "    </tr>\n",
       "    <tr>\n",
       "      <th>std</th>\n",
       "      <td>22.310894</td>\n",
       "      <td>12.813760</td>\n",
       "      <td>82.040627</td>\n",
       "      <td>5.169480</td>\n",
       "      <td>60.796467</td>\n",
       "      <td>2.365125</td>\n",
       "      <td>24.411488</td>\n",
       "    </tr>\n",
       "    <tr>\n",
       "      <th>min</th>\n",
       "      <td>0.000000</td>\n",
       "      <td>0.000000</td>\n",
       "      <td>0.000000</td>\n",
       "      <td>0.000000</td>\n",
       "      <td>0.000000</td>\n",
       "      <td>0.000000</td>\n",
       "      <td>0.000000</td>\n",
       "    </tr>\n",
       "    <tr>\n",
       "      <th>25%</th>\n",
       "      <td>15.000000</td>\n",
       "      <td>0.000000</td>\n",
       "      <td>0.000000</td>\n",
       "      <td>0.000000</td>\n",
       "      <td>0.000000</td>\n",
       "      <td>0.000000</td>\n",
       "      <td>0.000000</td>\n",
       "    </tr>\n",
       "    <tr>\n",
       "      <th>50%</th>\n",
       "      <td>33.000000</td>\n",
       "      <td>0.000000</td>\n",
       "      <td>0.000000</td>\n",
       "      <td>0.000000</td>\n",
       "      <td>0.000000</td>\n",
       "      <td>1.000000</td>\n",
       "      <td>8.000000</td>\n",
       "    </tr>\n",
       "    <tr>\n",
       "      <th>75%</th>\n",
       "      <td>50.000000</td>\n",
       "      <td>0.000000</td>\n",
       "      <td>0.000000</td>\n",
       "      <td>0.000000</td>\n",
       "      <td>0.000000</td>\n",
       "      <td>4.000000</td>\n",
       "      <td>52.000000</td>\n",
       "    </tr>\n",
       "    <tr>\n",
       "      <th>max</th>\n",
       "      <td>90.000000</td>\n",
       "      <td>55.426907</td>\n",
       "      <td>434.719055</td>\n",
       "      <td>37.313789</td>\n",
       "      <td>197.529495</td>\n",
       "      <td>6.000000</td>\n",
       "      <td>52.000000</td>\n",
       "    </tr>\n",
       "  </tbody>\n",
       "</table>\n",
       "</div>"
      ],
      "text/plain": [
       "                 age  wage per hour  capital gains  capital losses  \\\n",
       "count  199523.000000  199523.000000  199523.000000   199523.000000   \n",
       "mean       34.494198       3.140218      16.077305        0.730480   \n",
       "std        22.310894      12.813760      82.040627        5.169480   \n",
       "min         0.000000       0.000000       0.000000        0.000000   \n",
       "25%        15.000000       0.000000       0.000000        0.000000   \n",
       "50%        33.000000       0.000000       0.000000        0.000000   \n",
       "75%        50.000000       0.000000       0.000000        0.000000   \n",
       "max        90.000000      55.426907     434.719055       37.313789   \n",
       "\n",
       "       dividends from stocks  num persons worked for employer  \\\n",
       "count          199523.000000                    199523.000000   \n",
       "mean               20.929773                         1.956180   \n",
       "std                60.796467                         2.365125   \n",
       "min                 0.000000                         0.000000   \n",
       "25%                 0.000000                         0.000000   \n",
       "50%                 0.000000                         1.000000   \n",
       "75%                 0.000000                         4.000000   \n",
       "max               197.529495                         6.000000   \n",
       "\n",
       "       weeks worked in year  \n",
       "count         199523.000000  \n",
       "mean              23.174896  \n",
       "std               24.411488  \n",
       "min                0.000000  \n",
       "25%                0.000000  \n",
       "50%                8.000000  \n",
       "75%               52.000000  \n",
       "max               52.000000  "
      ]
     },
     "execution_count": 41,
     "metadata": {},
     "output_type": "execute_result"
    }
   ],
   "source": [
    "data_train_pandas.describe()\n",
    "#round(data_train.describe(),2)"
   ]
  },
  {
   "cell_type": "code",
   "execution_count": 42,
   "metadata": {},
   "outputs": [],
   "source": [
    "for col_name in data_test_pandas[['capital gains','capital losses','dividends from stocks','wage per hour']]:\n",
    "    q1 = data_test_pandas[col_name].quantile(0.25)\n",
    "    q3 = data_test_pandas[col_name].quantile(0.75)\n",
    "    iqr = q3 - q1\n",
    "    \n",
    "    low = q1-1.5*iqr\n",
    "    high = q3+1.5*iqr\n",
    "    data_test_pandas.loc[(data_test_pandas[col_name] < low) | (data_test_pandas[col_name] > high), col_name] = data_test_pandas[col_name].mean()"
   ]
  },
  {
   "cell_type": "code",
   "execution_count": 43,
   "metadata": {},
   "outputs": [
    {
     "data": {
      "text/html": [
       "<div>\n",
       "<style scoped>\n",
       "    .dataframe tbody tr th:only-of-type {\n",
       "        vertical-align: middle;\n",
       "    }\n",
       "\n",
       "    .dataframe tbody tr th {\n",
       "        vertical-align: top;\n",
       "    }\n",
       "\n",
       "    .dataframe thead th {\n",
       "        text-align: right;\n",
       "    }\n",
       "</style>\n",
       "<table border=\"1\" class=\"dataframe\">\n",
       "  <thead>\n",
       "    <tr style=\"text-align: right;\">\n",
       "      <th></th>\n",
       "      <th>age</th>\n",
       "      <th>wage per hour</th>\n",
       "      <th>capital gains</th>\n",
       "      <th>capital losses</th>\n",
       "      <th>dividends from stocks</th>\n",
       "      <th>num persons worked for employer</th>\n",
       "      <th>weeks worked in year</th>\n",
       "    </tr>\n",
       "  </thead>\n",
       "  <tbody>\n",
       "    <tr>\n",
       "      <th>count</th>\n",
       "      <td>99762.000000</td>\n",
       "      <td>99762.000000</td>\n",
       "      <td>99762.000000</td>\n",
       "      <td>99762.000000</td>\n",
       "      <td>99762.000000</td>\n",
       "      <td>99762.000000</td>\n",
       "      <td>99762.000000</td>\n",
       "    </tr>\n",
       "    <tr>\n",
       "      <th>mean</th>\n",
       "      <td>34.628597</td>\n",
       "      <td>3.048372</td>\n",
       "      <td>15.885659</td>\n",
       "      <td>0.686978</td>\n",
       "      <td>20.314194</td>\n",
       "      <td>1.956156</td>\n",
       "      <td>23.185331</td>\n",
       "    </tr>\n",
       "    <tr>\n",
       "      <th>std</th>\n",
       "      <td>22.333448</td>\n",
       "      <td>12.519074</td>\n",
       "      <td>80.694756</td>\n",
       "      <td>4.919775</td>\n",
       "      <td>59.141727</td>\n",
       "      <td>2.364331</td>\n",
       "      <td>24.389185</td>\n",
       "    </tr>\n",
       "    <tr>\n",
       "      <th>min</th>\n",
       "      <td>0.000000</td>\n",
       "      <td>0.000000</td>\n",
       "      <td>0.000000</td>\n",
       "      <td>0.000000</td>\n",
       "      <td>0.000000</td>\n",
       "      <td>0.000000</td>\n",
       "      <td>0.000000</td>\n",
       "    </tr>\n",
       "    <tr>\n",
       "      <th>25%</th>\n",
       "      <td>16.000000</td>\n",
       "      <td>0.000000</td>\n",
       "      <td>0.000000</td>\n",
       "      <td>0.000000</td>\n",
       "      <td>0.000000</td>\n",
       "      <td>0.000000</td>\n",
       "      <td>0.000000</td>\n",
       "    </tr>\n",
       "    <tr>\n",
       "      <th>50%</th>\n",
       "      <td>33.000000</td>\n",
       "      <td>0.000000</td>\n",
       "      <td>0.000000</td>\n",
       "      <td>0.000000</td>\n",
       "      <td>0.000000</td>\n",
       "      <td>1.000000</td>\n",
       "      <td>8.000000</td>\n",
       "    </tr>\n",
       "    <tr>\n",
       "      <th>75%</th>\n",
       "      <td>50.000000</td>\n",
       "      <td>0.000000</td>\n",
       "      <td>0.000000</td>\n",
       "      <td>0.000000</td>\n",
       "      <td>0.000000</td>\n",
       "      <td>4.000000</td>\n",
       "      <td>52.000000</td>\n",
       "    </tr>\n",
       "    <tr>\n",
       "      <th>max</th>\n",
       "      <td>90.000000</td>\n",
       "      <td>54.461269</td>\n",
       "      <td>425.788574</td>\n",
       "      <td>35.919456</td>\n",
       "      <td>192.494736</td>\n",
       "      <td>6.000000</td>\n",
       "      <td>52.000000</td>\n",
       "    </tr>\n",
       "  </tbody>\n",
       "</table>\n",
       "</div>"
      ],
      "text/plain": [
       "                age  wage per hour  capital gains  capital losses  \\\n",
       "count  99762.000000   99762.000000   99762.000000    99762.000000   \n",
       "mean      34.628597       3.048372      15.885659        0.686978   \n",
       "std       22.333448      12.519074      80.694756        4.919775   \n",
       "min        0.000000       0.000000       0.000000        0.000000   \n",
       "25%       16.000000       0.000000       0.000000        0.000000   \n",
       "50%       33.000000       0.000000       0.000000        0.000000   \n",
       "75%       50.000000       0.000000       0.000000        0.000000   \n",
       "max       90.000000      54.461269     425.788574       35.919456   \n",
       "\n",
       "       dividends from stocks  num persons worked for employer  \\\n",
       "count           99762.000000                     99762.000000   \n",
       "mean               20.314194                         1.956156   \n",
       "std                59.141727                         2.364331   \n",
       "min                 0.000000                         0.000000   \n",
       "25%                 0.000000                         0.000000   \n",
       "50%                 0.000000                         1.000000   \n",
       "75%                 0.000000                         4.000000   \n",
       "max               192.494736                         6.000000   \n",
       "\n",
       "       weeks worked in year  \n",
       "count          99762.000000  \n",
       "mean              23.185331  \n",
       "std               24.389185  \n",
       "min                0.000000  \n",
       "25%                0.000000  \n",
       "50%                8.000000  \n",
       "75%               52.000000  \n",
       "max               52.000000  "
      ]
     },
     "execution_count": 43,
     "metadata": {},
     "output_type": "execute_result"
    }
   ],
   "source": [
    "data_test_pandas.describe()"
   ]
  },
  {
   "cell_type": "code",
   "execution_count": 44,
   "metadata": {},
   "outputs": [
    {
     "data": {
      "application/javascript": [
       "\n",
       "        if (window._pyforest_update_imports_cell) { window._pyforest_update_imports_cell('import matplotlib.pyplot as plt'); }\n",
       "    "
      ],
      "text/plain": [
       "<IPython.core.display.Javascript object>"
      ]
     },
     "metadata": {},
     "output_type": "display_data"
    },
    {
     "data": {
      "application/javascript": [
       "\n",
       "        if (window._pyforest_update_imports_cell) { window._pyforest_update_imports_cell('import seaborn as sns\\nimport matplotlib.pyplot as plt'); }\n",
       "    "
      ],
      "text/plain": [
       "<IPython.core.display.Javascript object>"
      ]
     },
     "metadata": {},
     "output_type": "display_data"
    },
    {
     "data": {
      "text/plain": [
       "<AxesSubplot:xlabel='income label', ylabel='age'>"
      ]
     },
     "execution_count": 44,
     "metadata": {},
     "output_type": "execute_result"
    },
    {
     "data": {
      "image/png": "[encoded data removed]",
      "text/plain": [
       "<Figure size 1008x432 with 1 Axes>"
      ]
     },
     "metadata": {
      "needs_background": "light"
     },
     "output_type": "display_data"
    }
   ],
   "source": [
    "fig = plt.figure(figsize=(14,6))\n",
    "sns.boxplot(y=\"age\", x=\"income label\", data=data_train_pandas, palette=\"Set2\")"
   ]
  },
  {
   "cell_type": "code",
   "execution_count": 45,
   "metadata": {},
   "outputs": [
    {
     "data": {
      "application/javascript": [
       "\n",
       "        if (window._pyforest_update_imports_cell) { window._pyforest_update_imports_cell('import seaborn as sns\\nimport matplotlib.pyplot as plt'); }\n",
       "    "
      ],
      "text/plain": [
       "<IPython.core.display.Javascript object>"
      ]
     },
     "metadata": {},
     "output_type": "display_data"
    },
    {
     "data": {
      "application/javascript": [
       "\n",
       "        if (window._pyforest_update_imports_cell) { window._pyforest_update_imports_cell('import seaborn as sns\\nimport matplotlib.pyplot as plt'); }\n",
       "    "
      ],
      "text/plain": [
       "<IPython.core.display.Javascript object>"
      ]
     },
     "metadata": {},
     "output_type": "display_data"
    },
    {
     "data": {
      "application/javascript": [
       "\n",
       "        if (window._pyforest_update_imports_cell) { window._pyforest_update_imports_cell('import seaborn as sns\\nimport matplotlib.pyplot as plt'); }\n",
       "    "
      ],
      "text/plain": [
       "<IPython.core.display.Javascript object>"
      ]
     },
     "metadata": {},
     "output_type": "display_data"
    },
    {
     "data": {
      "application/javascript": [
       "\n",
       "        if (window._pyforest_update_imports_cell) { window._pyforest_update_imports_cell('import seaborn as sns\\nimport matplotlib.pyplot as plt'); }\n",
       "    "
      ],
      "text/plain": [
       "<IPython.core.display.Javascript object>"
      ]
     },
     "metadata": {},
     "output_type": "display_data"
    },
    {
     "data": {
      "application/javascript": [
       "\n",
       "        if (window._pyforest_update_imports_cell) { window._pyforest_update_imports_cell('import seaborn as sns\\nimport matplotlib.pyplot as plt'); }\n",
       "    "
      ],
      "text/plain": [
       "<IPython.core.display.Javascript object>"
      ]
     },
     "metadata": {},
     "output_type": "display_data"
    },
    {
     "data": {
      "application/javascript": [
       "\n",
       "        if (window._pyforest_update_imports_cell) { window._pyforest_update_imports_cell('import seaborn as sns\\nimport matplotlib.pyplot as plt'); }\n",
       "    "
      ],
      "text/plain": [
       "<IPython.core.display.Javascript object>"
      ]
     },
     "metadata": {},
     "output_type": "display_data"
    },
    {
     "data": {
      "application/javascript": [
       "\n",
       "        if (window._pyforest_update_imports_cell) { window._pyforest_update_imports_cell('import seaborn as sns\\nimport matplotlib.pyplot as plt'); }\n",
       "    "
      ],
      "text/plain": [
       "<IPython.core.display.Javascript object>"
      ]
     },
     "metadata": {},
     "output_type": "display_data"
    },
    {
     "data": {
      "text/plain": [
       "<AxesSubplot:xlabel='income label', ylabel='weeks worked in year'>"
      ]
     },
     "execution_count": 45,
     "metadata": {},
     "output_type": "execute_result"
    },
    {
     "data": {
      "image/png": "[encoded data removed]",
      "text/plain": [
       "<Figure size 1008x1008 with 6 Axes>"
      ]
     },
     "metadata": {
      "needs_background": "light"
     },
     "output_type": "display_data"
    }
   ],
   "source": [
    "fig,axes = plt.subplots(3,2, figsize=(14,14))\n",
    "\n",
    "sns.violinplot(y=\"wage per hour\", x=\"income label\", data=data_train_pandas, ax=axes[0][0], palette=\"Paired\")\n",
    "sns.violinplot(y=\"capital gains\", x=\"income label\", data=data_train_pandas, ax=axes[0][1], palette=\"Set2\")\n",
    "sns.violinplot(y=\"capital losses\", x=\"income label\", data=data_train_pandas, ax=axes[1][0], palette=\"Paired\")\n",
    "sns.violinplot(y=\"dividends from stocks\", x=\"income label\", data=data_train_pandas, ax=axes[1][1], palette=\"Set2\")\n",
    "sns.violinplot(y=\"num persons worked for employer\", x=\"income label\", data=data_train_pandas, ax=axes[2][0], palette=\"Set2\")\n",
    "sns.violinplot(y=\"weeks worked in year\", x=\"income label\", data=data_train_pandas, ax=axes[2][1], palette=\"Paired\")"
   ]
  },
  {
   "cell_type": "markdown",
   "metadata": {},
   "source": [
    "### Target - income label - encoding\n",
    "\n",
    "### 6. Create a binary target variable to predict income above 50k and below 50k. \n",
    "\n",
    "We have a lot of categorical variables in this dataset. One of them is target. \n",
    "\n",
    "To display and show more relations between categorical atributes and dependent variable, first I encode **income label**. \n",
    "\n",
    "Then I still continue working on **point 5.**"
   ]
  },
  {
   "cell_type": "code",
   "execution_count": 46,
   "metadata": {},
   "outputs": [
    {
     "data": {
      "text/plain": [
       " - 50000.    187141\n",
       " 50000+.      12382\n",
       "Name: income label, dtype: int64"
      ]
     },
     "execution_count": 46,
     "metadata": {},
     "output_type": "execute_result"
    }
   ],
   "source": [
    "data_train_pandas['income label'].value_counts()"
   ]
  },
  {
   "cell_type": "code",
   "execution_count": 47,
   "metadata": {},
   "outputs": [
    {
     "data": {
      "text/plain": [
       "0    187141\n",
       "1     12382\n",
       "Name: income label, dtype: int64"
      ]
     },
     "execution_count": 47,
     "metadata": {},
     "output_type": "execute_result"
    }
   ],
   "source": [
    "le = LabelEncoder()\n",
    "data_train_pandas['income label'] = le.fit_transform(data_train_pandas['income label'].astype(str)) \n",
    "data_train_pandas['income label'].value_counts()"
   ]
  },
  {
   "cell_type": "code",
   "execution_count": 48,
   "metadata": {},
   "outputs": [
    {
     "data": {
      "text/plain": [
       " - 50000.    93576\n",
       " 50000+.      6186\n",
       "Name: income label, dtype: int64"
      ]
     },
     "execution_count": 48,
     "metadata": {},
     "output_type": "execute_result"
    }
   ],
   "source": [
    "data_test_pandas['income label'].value_counts()"
   ]
  },
  {
   "cell_type": "code",
   "execution_count": 49,
   "metadata": {},
   "outputs": [
    {
     "data": {
      "text/plain": [
       "0    93576\n",
       "1     6186\n",
       "Name: income label, dtype: int64"
      ]
     },
     "execution_count": 49,
     "metadata": {},
     "output_type": "execute_result"
    }
   ],
   "source": [
    "le = LabelEncoder()\n",
    "data_test_pandas['income label'] = le.fit_transform(data_test_pandas['income label'].astype(str)) \n",
    "data_test_pandas['income label'].value_counts()"
   ]
  },
  {
   "cell_type": "markdown",
   "metadata": {},
   "source": [
    "#### An exploration and vizualization for categorical variables. \n",
    "\n",
    "I will analyse step by step, variable by variable the relations between them. "
   ]
  },
  {
   "cell_type": "code",
   "execution_count": 50,
   "metadata": {},
   "outputs": [
    {
     "data": {
      "text/html": [
       "<div>\n",
       "<style scoped>\n",
       "    .dataframe tbody tr th:only-of-type {\n",
       "        vertical-align: middle;\n",
       "    }\n",
       "\n",
       "    .dataframe tbody tr th {\n",
       "        vertical-align: top;\n",
       "    }\n",
       "\n",
       "    .dataframe thead th {\n",
       "        text-align: right;\n",
       "    }\n",
       "</style>\n",
       "<table border=\"1\" class=\"dataframe\">\n",
       "  <thead>\n",
       "    <tr style=\"text-align: right;\">\n",
       "      <th></th>\n",
       "      <th>class of worker</th>\n",
       "      <th>education</th>\n",
       "      <th>enrolled in edu inst last wk</th>\n",
       "      <th>marital status</th>\n",
       "    </tr>\n",
       "  </thead>\n",
       "  <tbody>\n",
       "    <tr>\n",
       "      <th>0</th>\n",
       "      <td>Not in universe</td>\n",
       "      <td>High school graduate</td>\n",
       "      <td>Not in universe</td>\n",
       "      <td>Widowed</td>\n",
       "    </tr>\n",
       "    <tr>\n",
       "      <th>1</th>\n",
       "      <td>Self-employed-not incorporated</td>\n",
       "      <td>Some college but no degree</td>\n",
       "      <td>Not in universe</td>\n",
       "      <td>Divorced</td>\n",
       "    </tr>\n",
       "    <tr>\n",
       "      <th>2</th>\n",
       "      <td>Not in universe</td>\n",
       "      <td>10th grade</td>\n",
       "      <td>High school</td>\n",
       "      <td>Never married</td>\n",
       "    </tr>\n",
       "    <tr>\n",
       "      <th>3</th>\n",
       "      <td>Not in universe</td>\n",
       "      <td>Children</td>\n",
       "      <td>Not in universe</td>\n",
       "      <td>Never married</td>\n",
       "    </tr>\n",
       "    <tr>\n",
       "      <th>4</th>\n",
       "      <td>Not in universe</td>\n",
       "      <td>Children</td>\n",
       "      <td>Not in universe</td>\n",
       "      <td>Never married</td>\n",
       "    </tr>\n",
       "    <tr>\n",
       "      <th>5</th>\n",
       "      <td>Private</td>\n",
       "      <td>Some college but no degree</td>\n",
       "      <td>Not in universe</td>\n",
       "      <td>Married-civilian spouse present</td>\n",
       "    </tr>\n",
       "  </tbody>\n",
       "</table>\n",
       "</div>"
      ],
      "text/plain": [
       "                   class of worker                    education  \\\n",
       "0                  Not in universe         High school graduate   \n",
       "1   Self-employed-not incorporated   Some college but no degree   \n",
       "2                  Not in universe                   10th grade   \n",
       "3                  Not in universe                     Children   \n",
       "4                  Not in universe                     Children   \n",
       "5                          Private   Some college but no degree   \n",
       "\n",
       "  enrolled in edu inst last wk                    marital status  \n",
       "0              Not in universe                           Widowed  \n",
       "1              Not in universe                          Divorced  \n",
       "2                  High school                     Never married  \n",
       "3              Not in universe                     Never married  \n",
       "4              Not in universe                     Never married  \n",
       "5              Not in universe   Married-civilian spouse present  "
      ]
     },
     "execution_count": 50,
     "metadata": {},
     "output_type": "execute_result"
    }
   ],
   "source": [
    "data_train_pandas.loc[:5, ['class of worker','education', 'enrolled in edu inst last wk', 'marital status']]"
   ]
  },
  {
   "cell_type": "code",
   "execution_count": 51,
   "metadata": {},
   "outputs": [
    {
     "data": {
      "text/plain": [
       " Not in universe                   100245\n",
       " Private                            72028\n",
       " Self-employed-not incorporated      8445\n",
       " Local government                    7784\n",
       " State government                    4227\n",
       " Self-employed-incorporated          3265\n",
       " Federal government                  2925\n",
       " Never worked                         439\n",
       " Without pay                          165\n",
       "Name: class of worker, dtype: int64"
      ]
     },
     "execution_count": 51,
     "metadata": {},
     "output_type": "execute_result"
    }
   ],
   "source": [
    "data_train_pandas['class of worker'].value_counts()"
   ]
  },
  {
   "cell_type": "code",
   "execution_count": 52,
   "metadata": {},
   "outputs": [
    {
     "data": {
      "text/plain": [
       " High school graduate                      48407\n",
       " Children                                  47422\n",
       " Some college but no degree                27820\n",
       " Bachelors degree(BA AB BS)                19865\n",
       " 7th and 8th grade                          8007\n",
       " 10th grade                                 7557\n",
       " 11th grade                                 6876\n",
       " Masters degree(MA MS MEng MEd MSW MBA)     6541\n",
       " 9th grade                                  6230\n",
       " Associates degree-occup /vocational        5358\n",
       " Associates degree-academic program         4363\n",
       " 5th or 6th grade                           3277\n",
       " 12th grade no diploma                      2126\n",
       " 1st 2nd 3rd or 4th grade                   1799\n",
       " Prof school degree (MD DDS DVM LLB JD)     1793\n",
       " Doctorate degree(PhD EdD)                  1263\n",
       " Less than 1st grade                         819\n",
       "Name: education, dtype: int64"
      ]
     },
     "execution_count": 52,
     "metadata": {},
     "output_type": "execute_result"
    }
   ],
   "source": [
    "data_train_pandas['education'].value_counts()"
   ]
  },
  {
   "cell_type": "code",
   "execution_count": 53,
   "metadata": {},
   "outputs": [
    {
     "data": {
      "text/plain": [
       " Not in universe          186943\n",
       " High school                6892\n",
       " College or university      5688\n",
       "Name: enrolled in edu inst last wk, dtype: int64"
      ]
     },
     "execution_count": 53,
     "metadata": {},
     "output_type": "execute_result"
    }
   ],
   "source": [
    "data_train_pandas['enrolled in edu inst last wk'].value_counts()"
   ]
  },
  {
   "cell_type": "code",
   "execution_count": 54,
   "metadata": {},
   "outputs": [
    {
     "data": {
      "text/plain": [
       " Never married                      86485\n",
       " Married-civilian spouse present    84222\n",
       " Divorced                           12710\n",
       " Widowed                            10463\n",
       " Separated                           3460\n",
       " Married-spouse absent               1518\n",
       " Married-A F spouse present           665\n",
       "Name: marital status, dtype: int64"
      ]
     },
     "execution_count": 54,
     "metadata": {},
     "output_type": "execute_result"
    }
   ],
   "source": [
    "data_train_pandas['marital status'].value_counts()"
   ]
  },
  {
   "cell_type": "code",
   "execution_count": 55,
   "metadata": {},
   "outputs": [
    {
     "data": {
      "application/javascript": [
       "\n",
       "        if (window._pyforest_update_imports_cell) { window._pyforest_update_imports_cell('import seaborn as sns\\nimport matplotlib.pyplot as plt'); }\n",
       "    "
      ],
      "text/plain": [
       "<IPython.core.display.Javascript object>"
      ]
     },
     "metadata": {},
     "output_type": "display_data"
    },
    {
     "data": {
      "application/javascript": [
       "\n",
       "        if (window._pyforest_update_imports_cell) { window._pyforest_update_imports_cell('import seaborn as sns\\nimport matplotlib.pyplot as plt'); }\n",
       "    "
      ],
      "text/plain": [
       "<IPython.core.display.Javascript object>"
      ]
     },
     "metadata": {},
     "output_type": "display_data"
    },
    {
     "data": {
      "application/javascript": [
       "\n",
       "        if (window._pyforest_update_imports_cell) { window._pyforest_update_imports_cell('import seaborn as sns\\nimport matplotlib.pyplot as plt'); }\n",
       "    "
      ],
      "text/plain": [
       "<IPython.core.display.Javascript object>"
      ]
     },
     "metadata": {},
     "output_type": "display_data"
    },
    {
     "data": {
      "application/javascript": [
       "\n",
       "        if (window._pyforest_update_imports_cell) { window._pyforest_update_imports_cell('import seaborn as sns\\nimport matplotlib.pyplot as plt'); }\n",
       "    "
      ],
      "text/plain": [
       "<IPython.core.display.Javascript object>"
      ]
     },
     "metadata": {},
     "output_type": "display_data"
    },
    {
     "data": {
      "application/javascript": [
       "\n",
       "        if (window._pyforest_update_imports_cell) { window._pyforest_update_imports_cell('import seaborn as sns\\nimport matplotlib.pyplot as plt'); }\n",
       "    "
      ],
      "text/plain": [
       "<IPython.core.display.Javascript object>"
      ]
     },
     "metadata": {},
     "output_type": "display_data"
    },
    {
     "data": {
      "text/plain": [
       "<AxesSubplot:xlabel='income label', ylabel='education'>"
      ]
     },
     "execution_count": 55,
     "metadata": {},
     "output_type": "execute_result"
    },
    {
     "data": {
      "image/png": "[encoded data removed]",
      "text/plain": [
       "<Figure size 1440x1080 with 4 Axes>"
      ]
     },
     "metadata": {
      "needs_background": "light"
     },
     "output_type": "display_data"
    }
   ],
   "source": [
    "fig,axes = plt.subplots(2,2, figsize=(20,15))\n",
    "sns.barplot(y='class of worker', x='income label', data=data_train_pandas, ax=axes[0][0], palette=\"Set2\")\n",
    "sns.barplot(y='marital status', x='income label', data=data_train_pandas, ax=axes[0][1], palette=\"Set2\")\n",
    "sns.barplot(y='enrolled in edu inst last wk', x='income label', data=data_train_pandas, ax=axes[1][0], palette=\"Set2\")\n",
    "sns.barplot(y='education', x='income label', data=data_train_pandas, ax=axes[1][1], palette=\"Set2\")"
   ]
  },
  {
   "cell_type": "markdown",
   "metadata": {},
   "source": [
    "#### Droping variables\n",
    "The variable **enrolled in edu inst last wk** probably should be drop, because in most of rows there is not the specific value. "
   ]
  },
  {
   "cell_type": "code",
   "execution_count": 56,
   "metadata": {},
   "outputs": [],
   "source": [
    "data_train_pandas = data_train_pandas.drop(['enrolled in edu inst last wk'], axis = 1)\n",
    "\n",
    "data_test_pandas = data_test_pandas.drop(['enrolled in edu inst last wk'], axis = 1)"
   ]
  },
  {
   "cell_type": "code",
   "execution_count": 57,
   "metadata": {},
   "outputs": [
    {
     "data": {
      "text/html": [
       "<div>\n",
       "<style scoped>\n",
       "    .dataframe tbody tr th:only-of-type {\n",
       "        vertical-align: middle;\n",
       "    }\n",
       "\n",
       "    .dataframe tbody tr th {\n",
       "        vertical-align: top;\n",
       "    }\n",
       "\n",
       "    .dataframe thead th {\n",
       "        text-align: right;\n",
       "    }\n",
       "</style>\n",
       "<table border=\"1\" class=\"dataframe\">\n",
       "  <thead>\n",
       "    <tr style=\"text-align: right;\">\n",
       "      <th></th>\n",
       "      <th>industry code</th>\n",
       "      <th>occupation code</th>\n",
       "      <th>major industry code</th>\n",
       "      <th>major occupation code</th>\n",
       "    </tr>\n",
       "  </thead>\n",
       "  <tbody>\n",
       "    <tr>\n",
       "      <th>0</th>\n",
       "      <td>0</td>\n",
       "      <td>0</td>\n",
       "      <td>Not in universe or children</td>\n",
       "      <td>Not in universe</td>\n",
       "    </tr>\n",
       "    <tr>\n",
       "      <th>1</th>\n",
       "      <td>4</td>\n",
       "      <td>34</td>\n",
       "      <td>Construction</td>\n",
       "      <td>Precision production craft &amp; repair</td>\n",
       "    </tr>\n",
       "    <tr>\n",
       "      <th>2</th>\n",
       "      <td>0</td>\n",
       "      <td>0</td>\n",
       "      <td>Not in universe or children</td>\n",
       "      <td>Not in universe</td>\n",
       "    </tr>\n",
       "    <tr>\n",
       "      <th>3</th>\n",
       "      <td>0</td>\n",
       "      <td>0</td>\n",
       "      <td>Not in universe or children</td>\n",
       "      <td>Not in universe</td>\n",
       "    </tr>\n",
       "    <tr>\n",
       "      <th>4</th>\n",
       "      <td>0</td>\n",
       "      <td>0</td>\n",
       "      <td>Not in universe or children</td>\n",
       "      <td>Not in universe</td>\n",
       "    </tr>\n",
       "    <tr>\n",
       "      <th>5</th>\n",
       "      <td>40</td>\n",
       "      <td>10</td>\n",
       "      <td>Entertainment</td>\n",
       "      <td>Professional specialty</td>\n",
       "    </tr>\n",
       "    <tr>\n",
       "      <th>6</th>\n",
       "      <td>34</td>\n",
       "      <td>3</td>\n",
       "      <td>Finance insurance and real estate</td>\n",
       "      <td>Executive admin and managerial</td>\n",
       "    </tr>\n",
       "    <tr>\n",
       "      <th>7</th>\n",
       "      <td>4</td>\n",
       "      <td>40</td>\n",
       "      <td>Construction</td>\n",
       "      <td>Handlers equip cleaners etc</td>\n",
       "    </tr>\n",
       "    <tr>\n",
       "      <th>8</th>\n",
       "      <td>43</td>\n",
       "      <td>26</td>\n",
       "      <td>Education</td>\n",
       "      <td>Adm support including clerical</td>\n",
       "    </tr>\n",
       "    <tr>\n",
       "      <th>9</th>\n",
       "      <td>4</td>\n",
       "      <td>37</td>\n",
       "      <td>Construction</td>\n",
       "      <td>Machine operators assmblrs &amp; inspctrs</td>\n",
       "    </tr>\n",
       "    <tr>\n",
       "      <th>10</th>\n",
       "      <td>0</td>\n",
       "      <td>0</td>\n",
       "      <td>Not in universe or children</td>\n",
       "      <td>Not in universe</td>\n",
       "    </tr>\n",
       "  </tbody>\n",
       "</table>\n",
       "</div>"
      ],
      "text/plain": [
       "   industry code occupation code                 major industry code  \\\n",
       "0              0               0         Not in universe or children   \n",
       "1              4              34                        Construction   \n",
       "2              0               0         Not in universe or children   \n",
       "3              0               0         Not in universe or children   \n",
       "4              0               0         Not in universe or children   \n",
       "5             40              10                       Entertainment   \n",
       "6             34               3   Finance insurance and real estate   \n",
       "7              4              40                        Construction   \n",
       "8             43              26                           Education   \n",
       "9              4              37                        Construction   \n",
       "10             0               0         Not in universe or children   \n",
       "\n",
       "                     major occupation code  \n",
       "0                          Not in universe  \n",
       "1      Precision production craft & repair  \n",
       "2                          Not in universe  \n",
       "3                          Not in universe  \n",
       "4                          Not in universe  \n",
       "5                   Professional specialty  \n",
       "6           Executive admin and managerial  \n",
       "7             Handlers equip cleaners etc   \n",
       "8           Adm support including clerical  \n",
       "9    Machine operators assmblrs & inspctrs  \n",
       "10                         Not in universe  "
      ]
     },
     "execution_count": 57,
     "metadata": {},
     "output_type": "execute_result"
    }
   ],
   "source": [
    "data_train_pandas.loc[:10, ['industry code','occupation code','major industry code','major occupation code']]"
   ]
  },
  {
   "cell_type": "code",
   "execution_count": 58,
   "metadata": {},
   "outputs": [
    {
     "data": {
      "text/plain": [
       " 0     100684\n",
       " 33     17070\n",
       " 43      8283\n",
       " 4       5984\n",
       " 42      4683\n",
       " 45      4482\n",
       " 29      4209\n",
       " 37      4022\n",
       " 41      3964\n",
       " 32      3596\n",
       " 35      3380\n",
       " 39      2937\n",
       " 34      2765\n",
       " 44      2549\n",
       " 2       2196\n",
       " 11      1764\n",
       " 50      1704\n",
       " 40      1651\n",
       " 47      1644\n",
       " 38      1629\n",
       " 24      1503\n",
       " 12      1350\n",
       " 19      1346\n",
       " 30      1181\n",
       " 31      1178\n",
       " 25      1084\n",
       " 9        993\n",
       " 22       952\n",
       " 36       945\n",
       " 13       899\n",
       " 1        827\n",
       " 48       652\n",
       " 27       626\n",
       " 49       610\n",
       " 3        563\n",
       " 21       559\n",
       " 6        554\n",
       " 5        553\n",
       " 8        550\n",
       " 16       539\n",
       " 23       525\n",
       " 18       483\n",
       " 15       452\n",
       " 7        422\n",
       " 14       295\n",
       " 46       187\n",
       " 17       157\n",
       " 28       143\n",
       " 26       127\n",
       " 51        36\n",
       " 20        32\n",
       " 10         4\n",
       "Name: industry code, dtype: int64"
      ]
     },
     "execution_count": 58,
     "metadata": {},
     "output_type": "execute_result"
    }
   ],
   "source": [
    "data_train_pandas['industry code'].value_counts()"
   ]
  },
  {
   "cell_type": "code",
   "execution_count": 59,
   "metadata": {},
   "outputs": [
    {
     "data": {
      "text/plain": [
       " Not in universe or children            100684\n",
       " Retail trade                            17070\n",
       " Manufacturing-durable goods              9015\n",
       " Education                                8283\n",
       " Manufacturing-nondurable goods           6897\n",
       " Finance insurance and real estate        6145\n",
       " Construction                             5984\n",
       " Business and repair services             5651\n",
       " Medical except hospital                  4683\n",
       " Public administration                    4610\n",
       " Other professional services              4482\n",
       " Transportation                           4209\n",
       " Hospital services                        3964\n",
       " Wholesale trade                          3596\n",
       " Agriculture                              3023\n",
       " Personal services except private HH      2937\n",
       " Social services                          2549\n",
       " Entertainment                            1651\n",
       " Communications                           1181\n",
       " Utilities and sanitary services          1178\n",
       " Private household services                945\n",
       " Mining                                    563\n",
       " Forestry and fisheries                    187\n",
       " Armed Forces                               36\n",
       "Name: major industry code, dtype: int64"
      ]
     },
     "execution_count": 59,
     "metadata": {},
     "output_type": "execute_result"
    }
   ],
   "source": [
    "data_train_pandas['major industry code'].value_counts()"
   ]
  },
  {
   "cell_type": "code",
   "execution_count": 60,
   "metadata": {},
   "outputs": [
    {
     "data": {
      "text/plain": [
       " 0     100684\n",
       " 2       8756\n",
       " 26      7887\n",
       " 19      5413\n",
       " 29      5105\n",
       " 36      4145\n",
       " 34      4025\n",
       " 10      3683\n",
       " 16      3445\n",
       " 23      3392\n",
       " 12      3340\n",
       " 33      3325\n",
       " 3       3195\n",
       " 35      3168\n",
       " 38      3003\n",
       " 31      2699\n",
       " 32      2398\n",
       " 37      2234\n",
       " 8       2151\n",
       " 42      1918\n",
       " 30      1897\n",
       " 24      1847\n",
       " 17      1771\n",
       " 28      1661\n",
       " 44      1592\n",
       " 41      1592\n",
       " 43      1382\n",
       " 4       1364\n",
       " 13      1271\n",
       " 18      1083\n",
       " 39      1017\n",
       " 14       932\n",
       " 5        855\n",
       " 15       815\n",
       " 27       780\n",
       " 25       767\n",
       " 9        738\n",
       " 7        731\n",
       " 11       637\n",
       " 40       617\n",
       " 1        544\n",
       " 21       533\n",
       " 6        441\n",
       " 22       411\n",
       " 45       172\n",
       " 20        71\n",
       " 46        36\n",
       "Name: occupation code, dtype: int64"
      ]
     },
     "execution_count": 60,
     "metadata": {},
     "output_type": "execute_result"
    }
   ],
   "source": [
    "data_train_pandas['occupation code'].value_counts()"
   ]
  },
  {
   "cell_type": "code",
   "execution_count": 61,
   "metadata": {},
   "outputs": [
    {
     "data": {
      "text/plain": [
       " Not in universe                          100684\n",
       " Adm support including clerical            14837\n",
       " Professional specialty                    13940\n",
       " Executive admin and managerial            12495\n",
       " Other service                             12099\n",
       " Sales                                     11783\n",
       " Precision production craft & repair       10518\n",
       " Machine operators assmblrs & inspctrs      6379\n",
       " Handlers equip cleaners etc                4127\n",
       " Transportation and material moving         4020\n",
       " Farming forestry and fishing               3146\n",
       " Technicians and related support            3018\n",
       " Protective services                        1661\n",
       " Private household services                  780\n",
       " Armed Forces                                 36\n",
       "Name: major occupation code, dtype: int64"
      ]
     },
     "execution_count": 61,
     "metadata": {},
     "output_type": "execute_result"
    }
   ],
   "source": [
    "data_train_pandas['major occupation code'].value_counts()"
   ]
  },
  {
   "cell_type": "markdown",
   "metadata": {},
   "source": [
    "#### Droping variables\n",
    "\n",
    "I decided to drop the variables **'industry code','occupation code','major industry code','major occupation code'** due to high class imbalance (over half have non specific value). "
   ]
  },
  {
   "cell_type": "code",
   "execution_count": 62,
   "metadata": {},
   "outputs": [],
   "source": [
    "data_train_pandas = data_train_pandas.drop(['industry code','occupation code','major industry code','major occupation code'], axis = 1)\n",
    "\n",
    "data_test_pandas = data_test_pandas.drop(['industry code','occupation code','major industry code','major occupation code'], axis = 1)"
   ]
  },
  {
   "cell_type": "code",
   "execution_count": 63,
   "metadata": {},
   "outputs": [
    {
     "data": {
      "text/html": [
       "<div>\n",
       "<style scoped>\n",
       "    .dataframe tbody tr th:only-of-type {\n",
       "        vertical-align: middle;\n",
       "    }\n",
       "\n",
       "    .dataframe tbody tr th {\n",
       "        vertical-align: top;\n",
       "    }\n",
       "\n",
       "    .dataframe thead th {\n",
       "        text-align: right;\n",
       "    }\n",
       "</style>\n",
       "<table border=\"1\" class=\"dataframe\">\n",
       "  <thead>\n",
       "    <tr style=\"text-align: right;\">\n",
       "      <th></th>\n",
       "      <th>mace</th>\n",
       "      <th>hispanic Origin</th>\n",
       "      <th>sex</th>\n",
       "      <th>member of a labor union</th>\n",
       "      <th>reason for unemployment</th>\n",
       "      <th>full or part time employment stat</th>\n",
       "    </tr>\n",
       "  </thead>\n",
       "  <tbody>\n",
       "    <tr>\n",
       "      <th>0</th>\n",
       "      <td>White</td>\n",
       "      <td>All other</td>\n",
       "      <td>Female</td>\n",
       "      <td>Not in universe</td>\n",
       "      <td>Not in universe</td>\n",
       "      <td>Not in labor force</td>\n",
       "    </tr>\n",
       "    <tr>\n",
       "      <th>1</th>\n",
       "      <td>White</td>\n",
       "      <td>All other</td>\n",
       "      <td>Male</td>\n",
       "      <td>Not in universe</td>\n",
       "      <td>Not in universe</td>\n",
       "      <td>Children or Armed Forces</td>\n",
       "    </tr>\n",
       "    <tr>\n",
       "      <th>2</th>\n",
       "      <td>Asian or Pacific Islander</td>\n",
       "      <td>All other</td>\n",
       "      <td>Female</td>\n",
       "      <td>Not in universe</td>\n",
       "      <td>Not in universe</td>\n",
       "      <td>Not in labor force</td>\n",
       "    </tr>\n",
       "    <tr>\n",
       "      <th>3</th>\n",
       "      <td>White</td>\n",
       "      <td>All other</td>\n",
       "      <td>Female</td>\n",
       "      <td>Not in universe</td>\n",
       "      <td>Not in universe</td>\n",
       "      <td>Children or Armed Forces</td>\n",
       "    </tr>\n",
       "    <tr>\n",
       "      <th>4</th>\n",
       "      <td>White</td>\n",
       "      <td>All other</td>\n",
       "      <td>Female</td>\n",
       "      <td>Not in universe</td>\n",
       "      <td>Not in universe</td>\n",
       "      <td>Children or Armed Forces</td>\n",
       "    </tr>\n",
       "  </tbody>\n",
       "</table>\n",
       "</div>"
      ],
      "text/plain": [
       "                         mace hispanic Origin      sex  \\\n",
       "0                       White       All other   Female   \n",
       "1                       White       All other     Male   \n",
       "2   Asian or Pacific Islander       All other   Female   \n",
       "3                       White       All other   Female   \n",
       "4                       White       All other   Female   \n",
       "\n",
       "  member of a labor union reason for unemployment  \\\n",
       "0         Not in universe         Not in universe   \n",
       "1         Not in universe         Not in universe   \n",
       "2         Not in universe         Not in universe   \n",
       "3         Not in universe         Not in universe   \n",
       "4         Not in universe         Not in universe   \n",
       "\n",
       "  full or part time employment stat  \n",
       "0                Not in labor force  \n",
       "1          Children or Armed Forces  \n",
       "2                Not in labor force  \n",
       "3          Children or Armed Forces  \n",
       "4          Children or Armed Forces  "
      ]
     },
     "execution_count": 63,
     "metadata": {},
     "output_type": "execute_result"
    }
   ],
   "source": [
    "data_train_pandas.iloc[:5, 5:11]"
   ]
  },
  {
   "cell_type": "code",
   "execution_count": 64,
   "metadata": {},
   "outputs": [
    {
     "data": {
      "application/javascript": [
       "\n",
       "        if (window._pyforest_update_imports_cell) { window._pyforest_update_imports_cell('import seaborn as sns\\nimport matplotlib.pyplot as plt'); }\n",
       "    "
      ],
      "text/plain": [
       "<IPython.core.display.Javascript object>"
      ]
     },
     "metadata": {},
     "output_type": "display_data"
    },
    {
     "data": {
      "application/javascript": [
       "\n",
       "        if (window._pyforest_update_imports_cell) { window._pyforest_update_imports_cell('import seaborn as sns\\nimport matplotlib.pyplot as plt'); }\n",
       "    "
      ],
      "text/plain": [
       "<IPython.core.display.Javascript object>"
      ]
     },
     "metadata": {},
     "output_type": "display_data"
    },
    {
     "data": {
      "application/javascript": [
       "\n",
       "        if (window._pyforest_update_imports_cell) { window._pyforest_update_imports_cell('import seaborn as sns\\nimport matplotlib.pyplot as plt'); }\n",
       "    "
      ],
      "text/plain": [
       "<IPython.core.display.Javascript object>"
      ]
     },
     "metadata": {},
     "output_type": "display_data"
    },
    {
     "data": {
      "application/javascript": [
       "\n",
       "        if (window._pyforest_update_imports_cell) { window._pyforest_update_imports_cell('import seaborn as sns\\nimport matplotlib.pyplot as plt'); }\n",
       "    "
      ],
      "text/plain": [
       "<IPython.core.display.Javascript object>"
      ]
     },
     "metadata": {},
     "output_type": "display_data"
    },
    {
     "data": {
      "application/javascript": [
       "\n",
       "        if (window._pyforest_update_imports_cell) { window._pyforest_update_imports_cell('import seaborn as sns\\nimport matplotlib.pyplot as plt'); }\n",
       "    "
      ],
      "text/plain": [
       "<IPython.core.display.Javascript object>"
      ]
     },
     "metadata": {},
     "output_type": "display_data"
    },
    {
     "data": {
      "application/javascript": [
       "\n",
       "        if (window._pyforest_update_imports_cell) { window._pyforest_update_imports_cell('import seaborn as sns\\nimport matplotlib.pyplot as plt'); }\n",
       "    "
      ],
      "text/plain": [
       "<IPython.core.display.Javascript object>"
      ]
     },
     "metadata": {},
     "output_type": "display_data"
    },
    {
     "data": {
      "application/javascript": [
       "\n",
       "        if (window._pyforest_update_imports_cell) { window._pyforest_update_imports_cell('import seaborn as sns\\nimport matplotlib.pyplot as plt'); }\n",
       "    "
      ],
      "text/plain": [
       "<IPython.core.display.Javascript object>"
      ]
     },
     "metadata": {},
     "output_type": "display_data"
    },
    {
     "data": {
      "text/plain": [
       "<AxesSubplot:xlabel='income label', ylabel='full or part time employment stat'>"
      ]
     },
     "execution_count": 64,
     "metadata": {},
     "output_type": "execute_result"
    },
    {
     "data": {
      "image/png": "[encoded data removed]",
      "text/plain": [
       "<Figure size 1440x1080 with 6 Axes>"
      ]
     },
     "metadata": {
      "needs_background": "light"
     },
     "output_type": "display_data"
    }
   ],
   "source": [
    "fig,axes = plt.subplots(3,2, figsize=(20,15))\n",
    "sns.barplot(y='mace', x='income label', data=data_train_pandas, ax=axes[0][0], palette=\"Set2\")\n",
    "sns.barplot(y='hispanic Origin', x='income label', data=data_train_pandas, ax=axes[0][1], palette=\"Set2\")\n",
    "sns.barplot(y='sex', x='income label', data=data_train_pandas, ax=axes[1][0], palette=\"Set2\")\n",
    "sns.barplot(y='member of a labor union', x='income label', data=data_train_pandas, ax=axes[1][1], palette=\"Set2\")\n",
    "sns.barplot(y='reason for unemployment', x='income label', data=data_train_pandas, ax=axes[2][0], palette=\"Set2\")\n",
    "sns.barplot(y='full or part time employment stat', x='income label', data=data_train_pandas, ax=axes[2][1], palette=\"Set2\")"
   ]
  },
  {
   "cell_type": "code",
   "execution_count": 65,
   "metadata": {},
   "outputs": [
    {
     "data": {
      "text/plain": [
       " Not in universe          193453\n",
       " Other job loser            2038\n",
       " Re-entrant                 2019\n",
       " Job loser - on layoff       976\n",
       " Job leaver                  598\n",
       " New entrant                 439\n",
       "Name: reason for unemployment, dtype: int64"
      ]
     },
     "execution_count": 65,
     "metadata": {},
     "output_type": "execute_result"
    }
   ],
   "source": [
    "data_train_pandas['reason for unemployment'].value_counts()"
   ]
  },
  {
   "cell_type": "code",
   "execution_count": 66,
   "metadata": {},
   "outputs": [
    {
     "data": {
      "text/plain": [
       " Not in universe    180459\n",
       " No                  16034\n",
       " Yes                  3030\n",
       "Name: member of a labor union, dtype: int64"
      ]
     },
     "execution_count": 66,
     "metadata": {},
     "output_type": "execute_result"
    }
   ],
   "source": [
    "data_train_pandas['member of a labor union'].value_counts()"
   ]
  },
  {
   "cell_type": "markdown",
   "metadata": {},
   "source": [
    "#### Droping variables\n",
    "\n",
    "I decided to drop the variables **'member of a labor union','reason for unemployment'** due to high class imbalance (over half have non specific value). "
   ]
  },
  {
   "cell_type": "code",
   "execution_count": 67,
   "metadata": {},
   "outputs": [],
   "source": [
    "data_train_pandas = data_train_pandas.drop(['member of a labor union','reason for unemployment'], axis = 1)\n",
    "\n",
    "data_test_pandas = data_test_pandas.drop(['member of a labor union','reason for unemployment'], axis = 1)"
   ]
  },
  {
   "cell_type": "code",
   "execution_count": 68,
   "metadata": {},
   "outputs": [
    {
     "data": {
      "text/html": [
       "<div>\n",
       "<style scoped>\n",
       "    .dataframe tbody tr th:only-of-type {\n",
       "        vertical-align: middle;\n",
       "    }\n",
       "\n",
       "    .dataframe tbody tr th {\n",
       "        vertical-align: top;\n",
       "    }\n",
       "\n",
       "    .dataframe thead th {\n",
       "        text-align: right;\n",
       "    }\n",
       "</style>\n",
       "<table border=\"1\" class=\"dataframe\">\n",
       "  <thead>\n",
       "    <tr style=\"text-align: right;\">\n",
       "      <th></th>\n",
       "      <th>tax filer status</th>\n",
       "      <th>region of previous residence</th>\n",
       "      <th>state of previous residence</th>\n",
       "      <th>detailed household and family stat</th>\n",
       "      <th>detailed household summary in household</th>\n",
       "      <th>migration code-change in msa</th>\n",
       "      <th>migration code-change in reg</th>\n",
       "      <th>migration code-move within reg</th>\n",
       "      <th>live in this house 1 year ago</th>\n",
       "      <th>migration prev res in sunbelt</th>\n",
       "      <th>num persons worked for employer</th>\n",
       "      <th>family members under 18</th>\n",
       "    </tr>\n",
       "  </thead>\n",
       "  <tbody>\n",
       "    <tr>\n",
       "      <th>0</th>\n",
       "      <td>Nonfiler</td>\n",
       "      <td>Not in universe</td>\n",
       "      <td>Not in universe</td>\n",
       "      <td>Other Rel 18+ ever marr not in subfamily</td>\n",
       "      <td>Other relative of householder</td>\n",
       "      <td>?</td>\n",
       "      <td>?</td>\n",
       "      <td>?</td>\n",
       "      <td>Not in universe under 1 year old</td>\n",
       "      <td>?</td>\n",
       "      <td>0.0</td>\n",
       "      <td>Not in universe</td>\n",
       "    </tr>\n",
       "    <tr>\n",
       "      <th>1</th>\n",
       "      <td>Head of household</td>\n",
       "      <td>South</td>\n",
       "      <td>Arkansas</td>\n",
       "      <td>Householder</td>\n",
       "      <td>Householder</td>\n",
       "      <td>MSA to MSA</td>\n",
       "      <td>Same county</td>\n",
       "      <td>Same county</td>\n",
       "      <td>No</td>\n",
       "      <td>Yes</td>\n",
       "      <td>1.0</td>\n",
       "      <td>Not in universe</td>\n",
       "    </tr>\n",
       "    <tr>\n",
       "      <th>2</th>\n",
       "      <td>Nonfiler</td>\n",
       "      <td>Not in universe</td>\n",
       "      <td>Not in universe</td>\n",
       "      <td>Child 18+ never marr Not in a subfamily</td>\n",
       "      <td>Child 18 or older</td>\n",
       "      <td>?</td>\n",
       "      <td>?</td>\n",
       "      <td>?</td>\n",
       "      <td>Not in universe under 1 year old</td>\n",
       "      <td>?</td>\n",
       "      <td>0.0</td>\n",
       "      <td>Not in universe</td>\n",
       "    </tr>\n",
       "    <tr>\n",
       "      <th>3</th>\n",
       "      <td>Nonfiler</td>\n",
       "      <td>Not in universe</td>\n",
       "      <td>Not in universe</td>\n",
       "      <td>Child &lt;18 never marr not in subfamily</td>\n",
       "      <td>Child under 18 never married</td>\n",
       "      <td>Nonmover</td>\n",
       "      <td>Nonmover</td>\n",
       "      <td>Nonmover</td>\n",
       "      <td>Yes</td>\n",
       "      <td>Not in universe</td>\n",
       "      <td>0.0</td>\n",
       "      <td>Both parents present</td>\n",
       "    </tr>\n",
       "    <tr>\n",
       "      <th>4</th>\n",
       "      <td>Nonfiler</td>\n",
       "      <td>Not in universe</td>\n",
       "      <td>Not in universe</td>\n",
       "      <td>Child &lt;18 never marr not in subfamily</td>\n",
       "      <td>Child under 18 never married</td>\n",
       "      <td>Nonmover</td>\n",
       "      <td>Nonmover</td>\n",
       "      <td>Nonmover</td>\n",
       "      <td>Yes</td>\n",
       "      <td>Not in universe</td>\n",
       "      <td>0.0</td>\n",
       "      <td>Both parents present</td>\n",
       "    </tr>\n",
       "  </tbody>\n",
       "</table>\n",
       "</div>"
      ],
      "text/plain": [
       "     tax filer status region of previous residence  \\\n",
       "0            Nonfiler              Not in universe   \n",
       "1   Head of household                        South   \n",
       "2            Nonfiler              Not in universe   \n",
       "3            Nonfiler              Not in universe   \n",
       "4            Nonfiler              Not in universe   \n",
       "\n",
       "  state of previous residence         detailed household and family stat  \\\n",
       "0             Not in universe   Other Rel 18+ ever marr not in subfamily   \n",
       "1                    Arkansas                                Householder   \n",
       "2             Not in universe    Child 18+ never marr Not in a subfamily   \n",
       "3             Not in universe      Child <18 never marr not in subfamily   \n",
       "4             Not in universe      Child <18 never marr not in subfamily   \n",
       "\n",
       "  detailed household summary in household migration code-change in msa  \\\n",
       "0           Other relative of householder                            ?   \n",
       "1                             Householder                   MSA to MSA   \n",
       "2                       Child 18 or older                            ?   \n",
       "3            Child under 18 never married                     Nonmover   \n",
       "4            Child under 18 never married                     Nonmover   \n",
       "\n",
       "  migration code-change in reg migration code-move within reg  \\\n",
       "0                            ?                              ?   \n",
       "1                  Same county                    Same county   \n",
       "2                            ?                              ?   \n",
       "3                     Nonmover                       Nonmover   \n",
       "4                     Nonmover                       Nonmover   \n",
       "\n",
       "       live in this house 1 year ago migration prev res in sunbelt  \\\n",
       "0   Not in universe under 1 year old                             ?   \n",
       "1                                 No                           Yes   \n",
       "2   Not in universe under 1 year old                             ?   \n",
       "3                                Yes               Not in universe   \n",
       "4                                Yes               Not in universe   \n",
       "\n",
       "   num persons worked for employer family members under 18  \n",
       "0                              0.0         Not in universe  \n",
       "1                              1.0         Not in universe  \n",
       "2                              0.0         Not in universe  \n",
       "3                              0.0    Both parents present  \n",
       "4                              0.0    Both parents present  "
      ]
     },
     "execution_count": 68,
     "metadata": {},
     "output_type": "execute_result"
    }
   ],
   "source": [
    "data_train_pandas.iloc[:5, 12:24]"
   ]
  },
  {
   "cell_type": "code",
   "execution_count": 69,
   "metadata": {},
   "outputs": [
    {
     "data": {
      "text/plain": [
       " Nonfiler                        75094\n",
       " Joint both under 65             67383\n",
       " Single                          37421\n",
       " Joint both 65+                   8332\n",
       " Head of household                7426\n",
       " Joint one under 65 & one 65+     3867\n",
       "Name: tax filer status, dtype: int64"
      ]
     },
     "execution_count": 69,
     "metadata": {},
     "output_type": "execute_result"
    }
   ],
   "source": [
    "data_train_pandas['tax filer status'].value_counts()"
   ]
  },
  {
   "cell_type": "code",
   "execution_count": 70,
   "metadata": {},
   "outputs": [
    {
     "data": {
      "text/plain": [
       " Not in universe    183750\n",
       " South                4889\n",
       " West                 4074\n",
       " Midwest              3575\n",
       " Northeast            2705\n",
       " Abroad                530\n",
       "Name: region of previous residence, dtype: int64"
      ]
     },
     "execution_count": 70,
     "metadata": {},
     "output_type": "execute_result"
    }
   ],
   "source": [
    "data_train_pandas['region of previous residence'].value_counts()"
   ]
  },
  {
   "cell_type": "code",
   "execution_count": 71,
   "metadata": {},
   "outputs": [
    {
     "data": {
      "text/plain": [
       " Not in universe         183750\n",
       " California                1714\n",
       " Utah                      1063\n",
       " Florida                    849\n",
       " North Carolina             812\n",
       " ?                          708\n",
       " Abroad                     671\n",
       " Oklahoma                   626\n",
       " Minnesota                  576\n",
       " Indiana                    533\n",
       " North Dakota               499\n",
       " New Mexico                 463\n",
       " Michigan                   441\n",
       " Alaska                     290\n",
       " Kentucky                   244\n",
       " Arizona                    243\n",
       " New Hampshire              242\n",
       " Wyoming                    241\n",
       " Colorado                   239\n",
       " Oregon                     236\n",
       " West Virginia              231\n",
       " Georgia                    227\n",
       " Montana                    226\n",
       " Alabama                    216\n",
       " Ohio                       211\n",
       " Texas                      209\n",
       " Arkansas                   205\n",
       " Mississippi                204\n",
       " Tennessee                  202\n",
       " Pennsylvania               199\n",
       " New York                   195\n",
       " Louisiana                  192\n",
       " Vermont                    191\n",
       " Iowa                       189\n",
       " Illinois                   180\n",
       " Nebraska                   178\n",
       " Missouri                   175\n",
       " Nevada                     174\n",
       " Maine                      167\n",
       " Massachusetts              151\n",
       " Kansas                     149\n",
       " South Dakota               138\n",
       " Maryland                   136\n",
       " Virginia                   126\n",
       " Connecticut                117\n",
       " District of Columbia       116\n",
       " Wisconsin                  105\n",
       " South Carolina              95\n",
       " New Jersey                  75\n",
       " Delaware                    73\n",
       " Idaho                       31\n",
       "Name: state of previous residence, dtype: int64"
      ]
     },
     "execution_count": 71,
     "metadata": {},
     "output_type": "execute_result"
    }
   ],
   "source": [
    "data_train_pandas['state of previous residence'].value_counts()"
   ]
  },
  {
   "cell_type": "code",
   "execution_count": 72,
   "metadata": {},
   "outputs": [
    {
     "data": {
      "text/plain": [
       " Householder                                        53248\n",
       " Child <18 never marr not in subfamily              50326\n",
       " Spouse of householder                              41695\n",
       " Nonfamily householder                              22213\n",
       " Child 18+ never marr Not in a subfamily            12030\n",
       " Secondary individual                                6122\n",
       " Other Rel 18+ ever marr not in subfamily            1956\n",
       " Grandchild <18 never marr child of subfamily RP     1868\n",
       " Other Rel 18+ never marr not in subfamily           1728\n",
       " Grandchild <18 never marr not in subfamily          1066\n",
       " Child 18+ ever marr Not in a subfamily              1013\n",
       " Child under 18 of RP of unrel subfamily              732\n",
       " RP of unrelated subfamily                            685\n",
       " Child 18+ ever marr RP of subfamily                  671\n",
       " Other Rel 18+ ever marr RP of subfamily              656\n",
       " Other Rel <18 never marr child of subfamily RP       656\n",
       " Other Rel 18+ spouse of subfamily RP                 638\n",
       " Child 18+ never marr RP of subfamily                 589\n",
       " Other Rel <18 never marr not in subfamily            584\n",
       " Grandchild 18+ never marr not in subfamily           375\n",
       " In group quarters                                    196\n",
       " Child 18+ spouse of subfamily RP                     126\n",
       " Other Rel 18+ never marr RP of subfamily              94\n",
       " Child <18 never marr RP of subfamily                  80\n",
       " Spouse of RP of unrelated subfamily                   52\n",
       " Child <18 ever marr not in subfamily                  36\n",
       " Grandchild 18+ ever marr not in subfamily             34\n",
       " Grandchild 18+ spouse of subfamily RP                 10\n",
       " Grandchild 18+ ever marr RP of subfamily               9\n",
       " Child <18 ever marr RP of subfamily                    9\n",
       " Grandchild 18+ never marr RP of subfamily              6\n",
       " Other Rel <18 ever marr RP of subfamily                6\n",
       " Other Rel <18 never married RP of subfamily            4\n",
       " Other Rel <18 spouse of subfamily RP                   3\n",
       " Child <18 spouse of subfamily RP                       2\n",
       " Grandchild <18 ever marr not in subfamily              2\n",
       " Grandchild <18 never marr RP of subfamily              2\n",
       " Other Rel <18 ever marr not in subfamily               1\n",
       "Name: detailed household and family stat, dtype: int64"
      ]
     },
     "execution_count": 72,
     "metadata": {},
     "output_type": "execute_result"
    }
   ],
   "source": [
    "data_train_pandas['detailed household and family stat'].value_counts()"
   ]
  },
  {
   "cell_type": "code",
   "execution_count": 73,
   "metadata": {},
   "outputs": [
    {
     "data": {
      "text/plain": [
       " Householder                             75475\n",
       " Child under 18 never married            50426\n",
       " Spouse of householder                   41709\n",
       " Child 18 or older                       14430\n",
       " Other relative of householder            9703\n",
       " Nonrelative of householder               7601\n",
       " Group Quarters- Secondary individual      132\n",
       " Child under 18 ever married                47\n",
       "Name: detailed household summary in household, dtype: int64"
      ]
     },
     "execution_count": 73,
     "metadata": {},
     "output_type": "execute_result"
    }
   ],
   "source": [
    "data_train_pandas['detailed household summary in household'].value_counts()"
   ]
  },
  {
   "cell_type": "code",
   "execution_count": 74,
   "metadata": {},
   "outputs": [
    {
     "data": {
      "text/plain": [
       " ?                   99696\n",
       " Nonmover            82538\n",
       " MSA to MSA          10601\n",
       " NonMSA to nonMSA     2811\n",
       " Not in universe      1516\n",
       " MSA to nonMSA         790\n",
       " NonMSA to MSA         615\n",
       " Abroad to MSA         453\n",
       " Not identifiable      430\n",
       " Abroad to nonMSA       73\n",
       "Name: migration code-change in msa, dtype: int64"
      ]
     },
     "execution_count": 74,
     "metadata": {},
     "output_type": "execute_result"
    }
   ],
   "source": [
    "data_train_pandas['migration code-change in msa'].value_counts()"
   ]
  },
  {
   "cell_type": "code",
   "execution_count": 75,
   "metadata": {},
   "outputs": [
    {
     "data": {
      "text/plain": [
       " ?                                 99696\n",
       " Nonmover                          82538\n",
       " Same county                        9812\n",
       " Different county same state        2797\n",
       " Not in universe                    1516\n",
       " Different region                   1178\n",
       " Different state same division       991\n",
       " Abroad                              530\n",
       " Different division same region      465\n",
       "Name: migration code-change in reg, dtype: int64"
      ]
     },
     "execution_count": 75,
     "metadata": {},
     "output_type": "execute_result"
    }
   ],
   "source": [
    "data_train_pandas['migration code-change in reg'].value_counts()"
   ]
  },
  {
   "cell_type": "code",
   "execution_count": 76,
   "metadata": {},
   "outputs": [
    {
     "data": {
      "text/plain": [
       " ?                               99696\n",
       " Nonmover                        82538\n",
       " Same county                      9812\n",
       " Different county same state      2797\n",
       " Not in universe                  1516\n",
       " Different state in South          973\n",
       " Different state in West           679\n",
       " Different state in Midwest        551\n",
       " Abroad                            530\n",
       " Different state in Northeast      431\n",
       "Name: migration code-move within reg, dtype: int64"
      ]
     },
     "execution_count": 76,
     "metadata": {},
     "output_type": "execute_result"
    }
   ],
   "source": [
    "data_train_pandas['migration code-move within reg'].value_counts()"
   ]
  },
  {
   "cell_type": "code",
   "execution_count": 77,
   "metadata": {},
   "outputs": [
    {
     "data": {
      "text/plain": [
       " Not in universe under 1 year old    101212\n",
       " Yes                                  82538\n",
       " No                                   15773\n",
       "Name: live in this house 1 year ago, dtype: int64"
      ]
     },
     "execution_count": 77,
     "metadata": {},
     "output_type": "execute_result"
    }
   ],
   "source": [
    "data_train_pandas['live in this house 1 year ago'].value_counts()"
   ]
  },
  {
   "cell_type": "code",
   "execution_count": 78,
   "metadata": {},
   "outputs": [
    {
     "data": {
      "text/plain": [
       " ?                  99696\n",
       " Not in universe    84054\n",
       " No                  9987\n",
       " Yes                 5786\n",
       "Name: migration prev res in sunbelt, dtype: int64"
      ]
     },
     "execution_count": 78,
     "metadata": {},
     "output_type": "execute_result"
    }
   ],
   "source": [
    "data_train_pandas['migration prev res in sunbelt'].value_counts()"
   ]
  },
  {
   "cell_type": "code",
   "execution_count": 79,
   "metadata": {},
   "outputs": [
    {
     "data": {
      "text/plain": [
       " Not in universe           144232\n",
       " Both parents present       38983\n",
       " Mother only present        12772\n",
       " Father only present         1883\n",
       " Neither parent present      1653\n",
       "Name: family members under 18, dtype: int64"
      ]
     },
     "execution_count": 79,
     "metadata": {},
     "output_type": "execute_result"
    }
   ],
   "source": [
    "data_train_pandas['family members under 18'].value_counts()"
   ]
  },
  {
   "cell_type": "markdown",
   "metadata": {},
   "source": [
    "#### Droping variables\n",
    "\n",
    "I decided to drop the variables **'region of previous residence','state of previous residence','detailed household and family stat','migration code-change in msa', 'migration code-change in reg', 'migration code-move within reg','live in this house 1 year ago', 'migration prev res in sunbelt'** due to high class imbalance (over half have non specific value). "
   ]
  },
  {
   "cell_type": "code",
   "execution_count": 80,
   "metadata": {},
   "outputs": [],
   "source": [
    "data_train_pandas = data_train_pandas.drop(['region of previous residence','state of previous residence','detailed household and family stat',\n",
    "                              'migration code-change in msa', 'migration code-change in reg', 'migration code-move within reg',\n",
    "                              'live in this house 1 year ago', 'migration prev res in sunbelt'], axis = 1)\n",
    "\n",
    "data_test_pandas = data_test_pandas.drop(['region of previous residence','state of previous residence','detailed household and family stat',\n",
    "                              'migration code-change in msa', 'migration code-change in reg', 'migration code-move within reg',\n",
    "                              'live in this house 1 year ago', 'migration prev res in sunbelt'], axis = 1)"
   ]
  },
  {
   "cell_type": "code",
   "execution_count": 81,
   "metadata": {},
   "outputs": [
    {
     "data": {
      "text/html": [
       "<div>\n",
       "<style scoped>\n",
       "    .dataframe tbody tr th:only-of-type {\n",
       "        vertical-align: middle;\n",
       "    }\n",
       "\n",
       "    .dataframe tbody tr th {\n",
       "        vertical-align: top;\n",
       "    }\n",
       "\n",
       "    .dataframe thead th {\n",
       "        text-align: right;\n",
       "    }\n",
       "</style>\n",
       "<table border=\"1\" class=\"dataframe\">\n",
       "  <thead>\n",
       "    <tr style=\"text-align: right;\">\n",
       "      <th></th>\n",
       "      <th>country of birth father</th>\n",
       "      <th>country of birth mother</th>\n",
       "      <th>country of birth self</th>\n",
       "      <th>citizenship</th>\n",
       "      <th>own business or self employed</th>\n",
       "      <th>fill inc questionnaire for veteran's admin</th>\n",
       "      <th>veterans benefits</th>\n",
       "      <th>weeks worked in year</th>\n",
       "      <th>year</th>\n",
       "    </tr>\n",
       "  </thead>\n",
       "  <tbody>\n",
       "    <tr>\n",
       "      <th>0</th>\n",
       "      <td>United-States</td>\n",
       "      <td>United-States</td>\n",
       "      <td>United-States</td>\n",
       "      <td>Native- Born in the United States</td>\n",
       "      <td>0</td>\n",
       "      <td>Not in universe</td>\n",
       "      <td>2</td>\n",
       "      <td>0.0</td>\n",
       "      <td>95</td>\n",
       "    </tr>\n",
       "    <tr>\n",
       "      <th>1</th>\n",
       "      <td>United-States</td>\n",
       "      <td>United-States</td>\n",
       "      <td>United-States</td>\n",
       "      <td>Native- Born in the United States</td>\n",
       "      <td>0</td>\n",
       "      <td>Not in universe</td>\n",
       "      <td>2</td>\n",
       "      <td>52.0</td>\n",
       "      <td>94</td>\n",
       "    </tr>\n",
       "    <tr>\n",
       "      <th>2</th>\n",
       "      <td>Vietnam</td>\n",
       "      <td>Vietnam</td>\n",
       "      <td>Vietnam</td>\n",
       "      <td>Foreign born- Not a citizen of U S</td>\n",
       "      <td>0</td>\n",
       "      <td>Not in universe</td>\n",
       "      <td>2</td>\n",
       "      <td>0.0</td>\n",
       "      <td>95</td>\n",
       "    </tr>\n",
       "    <tr>\n",
       "      <th>3</th>\n",
       "      <td>United-States</td>\n",
       "      <td>United-States</td>\n",
       "      <td>United-States</td>\n",
       "      <td>Native- Born in the United States</td>\n",
       "      <td>0</td>\n",
       "      <td>Not in universe</td>\n",
       "      <td>0</td>\n",
       "      <td>0.0</td>\n",
       "      <td>94</td>\n",
       "    </tr>\n",
       "    <tr>\n",
       "      <th>4</th>\n",
       "      <td>United-States</td>\n",
       "      <td>United-States</td>\n",
       "      <td>United-States</td>\n",
       "      <td>Native- Born in the United States</td>\n",
       "      <td>0</td>\n",
       "      <td>Not in universe</td>\n",
       "      <td>0</td>\n",
       "      <td>0.0</td>\n",
       "      <td>94</td>\n",
       "    </tr>\n",
       "  </tbody>\n",
       "</table>\n",
       "</div>"
      ],
      "text/plain": [
       "  country of birth father country of birth mother country of birth self  \\\n",
       "0           United-States           United-States         United-States   \n",
       "1           United-States           United-States         United-States   \n",
       "2                 Vietnam                 Vietnam               Vietnam   \n",
       "3           United-States           United-States         United-States   \n",
       "4           United-States           United-States         United-States   \n",
       "\n",
       "                            citizenship own business or self employed  \\\n",
       "0     Native- Born in the United States                             0   \n",
       "1     Native- Born in the United States                             0   \n",
       "2   Foreign born- Not a citizen of U S                              0   \n",
       "3     Native- Born in the United States                             0   \n",
       "4     Native- Born in the United States                             0   \n",
       "\n",
       "  fill inc questionnaire for veteran's admin veterans benefits  \\\n",
       "0                            Not in universe                 2   \n",
       "1                            Not in universe                 2   \n",
       "2                            Not in universe                 2   \n",
       "3                            Not in universe                 0   \n",
       "4                            Not in universe                 0   \n",
       "\n",
       "   weeks worked in year year  \n",
       "0                   0.0   95  \n",
       "1                  52.0   94  \n",
       "2                   0.0   95  \n",
       "3                   0.0   94  \n",
       "4                   0.0   94  "
      ]
     },
     "execution_count": 81,
     "metadata": {},
     "output_type": "execute_result"
    }
   ],
   "source": [
    "data_train_pandas.iloc[:5, 16:25]"
   ]
  },
  {
   "cell_type": "code",
   "execution_count": 82,
   "metadata": {},
   "outputs": [
    {
     "data": {
      "text/plain": [
       " 0    180672\n",
       " 2     16153\n",
       " 1      2698\n",
       "Name: own business or self employed, dtype: int64"
      ]
     },
     "execution_count": 82,
     "metadata": {},
     "output_type": "execute_result"
    }
   ],
   "source": [
    "data_train_pandas['own business or self employed'].value_counts()"
   ]
  },
  {
   "cell_type": "code",
   "execution_count": 83,
   "metadata": {},
   "outputs": [
    {
     "data": {
      "text/plain": [
       " Not in universe    197539\n",
       " No                   1593\n",
       " Yes                   391\n",
       "Name: fill inc questionnaire for veteran's admin, dtype: int64"
      ]
     },
     "execution_count": 83,
     "metadata": {},
     "output_type": "execute_result"
    }
   ],
   "source": [
    "data_train_pandas[\"fill inc questionnaire for veteran's admin\"].value_counts()"
   ]
  },
  {
   "cell_type": "code",
   "execution_count": 84,
   "metadata": {},
   "outputs": [
    {
     "data": {
      "text/plain": [
       " 2    150130\n",
       " 0     47409\n",
       " 1      1984\n",
       "Name: veterans benefits, dtype: int64"
      ]
     },
     "execution_count": 84,
     "metadata": {},
     "output_type": "execute_result"
    }
   ],
   "source": [
    "data_train_pandas['veterans benefits'].value_counts()"
   ]
  },
  {
   "cell_type": "code",
   "execution_count": 85,
   "metadata": {},
   "outputs": [
    {
     "data": {
      "application/javascript": [
       "\n",
       "        if (window._pyforest_update_imports_cell) { window._pyforest_update_imports_cell('import seaborn as sns\\nimport matplotlib.pyplot as plt'); }\n",
       "    "
      ],
      "text/plain": [
       "<IPython.core.display.Javascript object>"
      ]
     },
     "metadata": {},
     "output_type": "display_data"
    },
    {
     "data": {
      "application/javascript": [
       "\n",
       "        if (window._pyforest_update_imports_cell) { window._pyforest_update_imports_cell('import seaborn as sns\\nimport matplotlib.pyplot as plt'); }\n",
       "    "
      ],
      "text/plain": [
       "<IPython.core.display.Javascript object>"
      ]
     },
     "metadata": {},
     "output_type": "display_data"
    },
    {
     "data": {
      "application/javascript": [
       "\n",
       "        if (window._pyforest_update_imports_cell) { window._pyforest_update_imports_cell('import seaborn as sns\\nimport matplotlib.pyplot as plt'); }\n",
       "    "
      ],
      "text/plain": [
       "<IPython.core.display.Javascript object>"
      ]
     },
     "metadata": {},
     "output_type": "display_data"
    },
    {
     "data": {
      "application/javascript": [
       "\n",
       "        if (window._pyforest_update_imports_cell) { window._pyforest_update_imports_cell('import seaborn as sns\\nimport matplotlib.pyplot as plt'); }\n",
       "    "
      ],
      "text/plain": [
       "<IPython.core.display.Javascript object>"
      ]
     },
     "metadata": {},
     "output_type": "display_data"
    },
    {
     "data": {
      "application/javascript": [
       "\n",
       "        if (window._pyforest_update_imports_cell) { window._pyforest_update_imports_cell('import seaborn as sns\\nimport matplotlib.pyplot as plt'); }\n",
       "    "
      ],
      "text/plain": [
       "<IPython.core.display.Javascript object>"
      ]
     },
     "metadata": {},
     "output_type": "display_data"
    },
    {
     "data": {
      "text/plain": [
       "<AxesSubplot:xlabel='income label', ylabel='citizenship'>"
      ]
     },
     "execution_count": 85,
     "metadata": {},
     "output_type": "execute_result"
    },
    {
     "data": {
      "image/png": "[encoded data removed]",
      "text/plain": [
       "<Figure size 1440x1080 with 4 Axes>"
      ]
     },
     "metadata": {
      "needs_background": "light"
     },
     "output_type": "display_data"
    }
   ],
   "source": [
    "fig,axes = plt.subplots(2,2, figsize=(20,15))\n",
    "sns.barplot(y='country of birth father', x='income label', data=data_train_pandas, ax=axes[0][0], palette=\"Set2\")\n",
    "sns.barplot(y='country of birth mother', x='income label', data=data_train_pandas, ax=axes[0][1], palette=\"Set2\")\n",
    "sns.barplot(y='country of birth self', x='income label', data=data_train_pandas, ax=axes[1][0], palette=\"Set2\")\n",
    "sns.barplot(y='citizenship', x='income label', data=data_train_pandas, ax=axes[1][1], palette=\"Set2\")"
   ]
  },
  {
   "cell_type": "markdown",
   "metadata": {},
   "source": [
    "#### Droping variables\n",
    "\n",
    "I decided to drop the variables **'country of birth father','country of birth mother'**, because they are very similar to variable 'country of birth self', and to drop **'own business or self employed',\"fill inc questionnaire for veteran's admin\", 'veterans benefits'** due to high class imbalance (over half have non specific value). "
   ]
  },
  {
   "cell_type": "code",
   "execution_count": 86,
   "metadata": {},
   "outputs": [],
   "source": [
    "data_train_pandas = data_train_pandas.drop(['country of birth father','country of birth mother', 'own business or self employed',\n",
    "                              \"fill inc questionnaire for veteran's admin\", 'veterans benefits'], axis = 1)\n",
    "\n",
    "data_test_pandas = data_test_pandas.drop(['country of birth father','country of birth mother', 'own business or self employed',\n",
    "                              \"fill inc questionnaire for veteran's admin\", 'veterans benefits'], axis = 1)"
   ]
  },
  {
   "cell_type": "code",
   "execution_count": 87,
   "metadata": {},
   "outputs": [
    {
     "data": {
      "text/plain": [
       "Index(['age', 'class of worker', 'education', 'wage per hour',\n",
       "       'marital status', 'mace', 'hispanic Origin', 'sex',\n",
       "       'full or part time employment stat', 'capital gains', 'capital losses',\n",
       "       'dividends from stocks', 'tax filer status',\n",
       "       'detailed household summary in household',\n",
       "       'num persons worked for employer', 'family members under 18',\n",
       "       'country of birth self', 'citizenship', 'weeks worked in year', 'year',\n",
       "       'income label'],\n",
       "      dtype='object')"
      ]
     },
     "execution_count": 87,
     "metadata": {},
     "output_type": "execute_result"
    }
   ],
   "source": [
    "data_train_pandas.columns"
   ]
  },
  {
   "cell_type": "markdown",
   "metadata": {},
   "source": [
    "### Feauture selection\n",
    "\n",
    "7. Select the most promising features **without using any ML model** (assume that dataset contains many features, and you cannot train a model on all of them). \n",
    "\n",
    "**Hint:** you may use some heuristics, significance tests etc. to select the predictive variables. You may not rely on model-based feature reduction techniques like Stepwise selection, Regularization. \n",
    "\n",
    "The goal here is to not rely on modeling algorithms to select features, as this may be very costly.\n",
    "\n",
    "Sources: https://machinelearningmastery.com/feature-selection-with-real-and-categorical-data/"
   ]
  },
  {
   "cell_type": "markdown",
   "metadata": {},
   "source": [
    "### Statistics for Filter-Based Feature Selection Methods\n",
    "\n",
    "#### Numerical Inputs and Categorical Output\n",
    "\n",
    "#### Correlation"
   ]
  },
  {
   "cell_type": "code",
   "execution_count": 88,
   "metadata": {},
   "outputs": [
    {
     "data": {
      "text/html": [
       "<div>\n",
       "<style scoped>\n",
       "    .dataframe tbody tr th:only-of-type {\n",
       "        vertical-align: middle;\n",
       "    }\n",
       "\n",
       "    .dataframe tbody tr th {\n",
       "        vertical-align: top;\n",
       "    }\n",
       "\n",
       "    .dataframe thead th {\n",
       "        text-align: right;\n",
       "    }\n",
       "</style>\n",
       "<table border=\"1\" class=\"dataframe\">\n",
       "  <thead>\n",
       "    <tr style=\"text-align: right;\">\n",
       "      <th></th>\n",
       "      <th>age</th>\n",
       "      <th>wage per hour</th>\n",
       "      <th>capital gains</th>\n",
       "      <th>capital losses</th>\n",
       "      <th>dividends from stocks</th>\n",
       "      <th>num persons worked for employer</th>\n",
       "      <th>weeks worked in year</th>\n",
       "      <th>income label</th>\n",
       "    </tr>\n",
       "  </thead>\n",
       "  <tbody>\n",
       "    <tr>\n",
       "      <th>age</th>\n",
       "      <td>1.000000</td>\n",
       "      <td>0.024806</td>\n",
       "      <td>0.123009</td>\n",
       "      <td>0.061409</td>\n",
       "      <td>0.238305</td>\n",
       "      <td>0.140887</td>\n",
       "      <td>0.206181</td>\n",
       "      <td>0.135720</td>\n",
       "    </tr>\n",
       "    <tr>\n",
       "      <th>wage per hour</th>\n",
       "      <td>0.024806</td>\n",
       "      <td>1.000000</td>\n",
       "      <td>0.005048</td>\n",
       "      <td>0.005431</td>\n",
       "      <td>0.001356</td>\n",
       "      <td>0.212444</td>\n",
       "      <td>0.220388</td>\n",
       "      <td>-0.013075</td>\n",
       "    </tr>\n",
       "    <tr>\n",
       "      <th>capital gains</th>\n",
       "      <td>0.123009</td>\n",
       "      <td>0.005048</td>\n",
       "      <td>1.000000</td>\n",
       "      <td>-0.027692</td>\n",
       "      <td>0.113133</td>\n",
       "      <td>0.103489</td>\n",
       "      <td>0.130700</td>\n",
       "      <td>0.215101</td>\n",
       "    </tr>\n",
       "    <tr>\n",
       "      <th>capital losses</th>\n",
       "      <td>0.061409</td>\n",
       "      <td>0.005431</td>\n",
       "      <td>-0.027692</td>\n",
       "      <td>1.000000</td>\n",
       "      <td>0.066073</td>\n",
       "      <td>0.089484</td>\n",
       "      <td>0.105416</td>\n",
       "      <td>0.138943</td>\n",
       "    </tr>\n",
       "    <tr>\n",
       "      <th>dividends from stocks</th>\n",
       "      <td>0.238305</td>\n",
       "      <td>0.001356</td>\n",
       "      <td>0.113133</td>\n",
       "      <td>0.066073</td>\n",
       "      <td>1.000000</td>\n",
       "      <td>0.147922</td>\n",
       "      <td>0.160222</td>\n",
       "      <td>0.269917</td>\n",
       "    </tr>\n",
       "    <tr>\n",
       "      <th>num persons worked for employer</th>\n",
       "      <td>0.140887</td>\n",
       "      <td>0.212444</td>\n",
       "      <td>0.103489</td>\n",
       "      <td>0.089484</td>\n",
       "      <td>0.147922</td>\n",
       "      <td>1.000000</td>\n",
       "      <td>0.747302</td>\n",
       "      <td>0.222684</td>\n",
       "    </tr>\n",
       "    <tr>\n",
       "      <th>weeks worked in year</th>\n",
       "      <td>0.206181</td>\n",
       "      <td>0.220388</td>\n",
       "      <td>0.130700</td>\n",
       "      <td>0.105416</td>\n",
       "      <td>0.160222</td>\n",
       "      <td>0.747302</td>\n",
       "      <td>1.000000</td>\n",
       "      <td>0.262316</td>\n",
       "    </tr>\n",
       "    <tr>\n",
       "      <th>income label</th>\n",
       "      <td>0.135720</td>\n",
       "      <td>-0.013075</td>\n",
       "      <td>0.215101</td>\n",
       "      <td>0.138943</td>\n",
       "      <td>0.269917</td>\n",
       "      <td>0.222684</td>\n",
       "      <td>0.262316</td>\n",
       "      <td>1.000000</td>\n",
       "    </tr>\n",
       "  </tbody>\n",
       "</table>\n",
       "</div>"
      ],
      "text/plain": [
       "                                      age  wage per hour  capital gains  \\\n",
       "age                              1.000000       0.024806       0.123009   \n",
       "wage per hour                    0.024806       1.000000       0.005048   \n",
       "capital gains                    0.123009       0.005048       1.000000   \n",
       "capital losses                   0.061409       0.005431      -0.027692   \n",
       "dividends from stocks            0.238305       0.001356       0.113133   \n",
       "num persons worked for employer  0.140887       0.212444       0.103489   \n",
       "weeks worked in year             0.206181       0.220388       0.130700   \n",
       "income label                     0.135720      -0.013075       0.215101   \n",
       "\n",
       "                                 capital losses  dividends from stocks  \\\n",
       "age                                    0.061409               0.238305   \n",
       "wage per hour                          0.005431               0.001356   \n",
       "capital gains                         -0.027692               0.113133   \n",
       "capital losses                         1.000000               0.066073   \n",
       "dividends from stocks                  0.066073               1.000000   \n",
       "num persons worked for employer        0.089484               0.147922   \n",
       "weeks worked in year                   0.105416               0.160222   \n",
       "income label                           0.138943               0.269917   \n",
       "\n",
       "                                 num persons worked for employer  \\\n",
       "age                                                     0.140887   \n",
       "wage per hour                                           0.212444   \n",
       "capital gains                                           0.103489   \n",
       "capital losses                                          0.089484   \n",
       "dividends from stocks                                   0.147922   \n",
       "num persons worked for employer                         1.000000   \n",
       "weeks worked in year                                    0.747302   \n",
       "income label                                            0.222684   \n",
       "\n",
       "                                 weeks worked in year  income label  \n",
       "age                                          0.206181      0.135720  \n",
       "wage per hour                                0.220388     -0.013075  \n",
       "capital gains                                0.130700      0.215101  \n",
       "capital losses                               0.105416      0.138943  \n",
       "dividends from stocks                        0.160222      0.269917  \n",
       "num persons worked for employer              0.747302      0.222684  \n",
       "weeks worked in year                         1.000000      0.262316  \n",
       "income label                                 0.262316      1.000000  "
      ]
     },
     "execution_count": 88,
     "metadata": {},
     "output_type": "execute_result"
    }
   ],
   "source": [
    "corr = data_train_pandas.corr()\n",
    "corr"
   ]
  },
  {
   "cell_type": "code",
   "execution_count": 89,
   "metadata": {},
   "outputs": [
    {
     "data": {
      "application/javascript": [
       "\n",
       "        if (window._pyforest_update_imports_cell) { window._pyforest_update_imports_cell('import seaborn as sns\\nimport matplotlib.pyplot as plt'); }\n",
       "    "
      ],
      "text/plain": [
       "<IPython.core.display.Javascript object>"
      ]
     },
     "metadata": {},
     "output_type": "display_data"
    },
    {
     "data": {
      "application/javascript": [
       "\n",
       "        if (window._pyforest_update_imports_cell) { window._pyforest_update_imports_cell('import seaborn as sns\\nimport matplotlib.pyplot as plt'); }\n",
       "    "
      ],
      "text/plain": [
       "<IPython.core.display.Javascript object>"
      ]
     },
     "metadata": {},
     "output_type": "display_data"
    },
    {
     "data": {
      "text/plain": [
       "<AxesSubplot:>"
      ]
     },
     "execution_count": 89,
     "metadata": {},
     "output_type": "execute_result"
    },
    {
     "data": {
      "image/png": "[encoded data removed]",
      "text/plain": [
       "<Figure size 864x720 with 2 Axes>"
      ]
     },
     "metadata": {
      "needs_background": "light"
     },
     "output_type": "display_data"
    }
   ],
   "source": [
    "plt.figure(figsize=(12,10))\n",
    "sns.heatmap(corr, annot=True, cmap=\"YlGnBu\", linewidth=0.1, \n",
    "            xticklabels=corr.columns, yticklabels=corr.columns)"
   ]
  },
  {
   "cell_type": "markdown",
   "metadata": {},
   "source": [
    "#### ANOVA"
   ]
  },
  {
   "cell_type": "code",
   "execution_count": 90,
   "metadata": {},
   "outputs": [
    {
     "data": {
      "text/html": [
       "<div>\n",
       "<style scoped>\n",
       "    .dataframe tbody tr th:only-of-type {\n",
       "        vertical-align: middle;\n",
       "    }\n",
       "\n",
       "    .dataframe tbody tr th {\n",
       "        vertical-align: top;\n",
       "    }\n",
       "\n",
       "    .dataframe thead th {\n",
       "        text-align: right;\n",
       "    }\n",
       "</style>\n",
       "<table border=\"1\" class=\"dataframe\">\n",
       "  <thead>\n",
       "    <tr style=\"text-align: right;\">\n",
       "      <th></th>\n",
       "      <th>age</th>\n",
       "      <th>wage per hour</th>\n",
       "      <th>capital gains</th>\n",
       "      <th>capital losses</th>\n",
       "      <th>dividends from stocks</th>\n",
       "      <th>num persons worked for employer</th>\n",
       "      <th>weeks worked in year</th>\n",
       "    </tr>\n",
       "  </thead>\n",
       "  <tbody>\n",
       "    <tr>\n",
       "      <th>0</th>\n",
       "      <td>73.0</td>\n",
       "      <td>0.0</td>\n",
       "      <td>0.000000</td>\n",
       "      <td>0.0</td>\n",
       "      <td>0.000000</td>\n",
       "      <td>0.0</td>\n",
       "      <td>0.0</td>\n",
       "    </tr>\n",
       "    <tr>\n",
       "      <th>1</th>\n",
       "      <td>58.0</td>\n",
       "      <td>0.0</td>\n",
       "      <td>0.000000</td>\n",
       "      <td>0.0</td>\n",
       "      <td>0.000000</td>\n",
       "      <td>1.0</td>\n",
       "      <td>52.0</td>\n",
       "    </tr>\n",
       "    <tr>\n",
       "      <th>2</th>\n",
       "      <td>18.0</td>\n",
       "      <td>0.0</td>\n",
       "      <td>0.000000</td>\n",
       "      <td>0.0</td>\n",
       "      <td>0.000000</td>\n",
       "      <td>0.0</td>\n",
       "      <td>0.0</td>\n",
       "    </tr>\n",
       "    <tr>\n",
       "      <th>3</th>\n",
       "      <td>9.0</td>\n",
       "      <td>0.0</td>\n",
       "      <td>0.000000</td>\n",
       "      <td>0.0</td>\n",
       "      <td>0.000000</td>\n",
       "      <td>0.0</td>\n",
       "      <td>0.0</td>\n",
       "    </tr>\n",
       "    <tr>\n",
       "      <th>4</th>\n",
       "      <td>10.0</td>\n",
       "      <td>0.0</td>\n",
       "      <td>0.000000</td>\n",
       "      <td>0.0</td>\n",
       "      <td>0.000000</td>\n",
       "      <td>0.0</td>\n",
       "      <td>0.0</td>\n",
       "    </tr>\n",
       "    <tr>\n",
       "      <th>...</th>\n",
       "      <td>...</td>\n",
       "      <td>...</td>\n",
       "      <td>...</td>\n",
       "      <td>...</td>\n",
       "      <td>...</td>\n",
       "      <td>...</td>\n",
       "      <td>...</td>\n",
       "    </tr>\n",
       "    <tr>\n",
       "      <th>199518</th>\n",
       "      <td>87.0</td>\n",
       "      <td>0.0</td>\n",
       "      <td>0.000000</td>\n",
       "      <td>0.0</td>\n",
       "      <td>0.000000</td>\n",
       "      <td>0.0</td>\n",
       "      <td>0.0</td>\n",
       "    </tr>\n",
       "    <tr>\n",
       "      <th>199519</th>\n",
       "      <td>65.0</td>\n",
       "      <td>0.0</td>\n",
       "      <td>434.719055</td>\n",
       "      <td>0.0</td>\n",
       "      <td>197.529495</td>\n",
       "      <td>1.0</td>\n",
       "      <td>52.0</td>\n",
       "    </tr>\n",
       "    <tr>\n",
       "      <th>199520</th>\n",
       "      <td>47.0</td>\n",
       "      <td>0.0</td>\n",
       "      <td>0.000000</td>\n",
       "      <td>0.0</td>\n",
       "      <td>197.529495</td>\n",
       "      <td>6.0</td>\n",
       "      <td>52.0</td>\n",
       "    </tr>\n",
       "    <tr>\n",
       "      <th>199521</th>\n",
       "      <td>16.0</td>\n",
       "      <td>0.0</td>\n",
       "      <td>0.000000</td>\n",
       "      <td>0.0</td>\n",
       "      <td>0.000000</td>\n",
       "      <td>0.0</td>\n",
       "      <td>0.0</td>\n",
       "    </tr>\n",
       "    <tr>\n",
       "      <th>199522</th>\n",
       "      <td>32.0</td>\n",
       "      <td>0.0</td>\n",
       "      <td>0.000000</td>\n",
       "      <td>0.0</td>\n",
       "      <td>0.000000</td>\n",
       "      <td>6.0</td>\n",
       "      <td>52.0</td>\n",
       "    </tr>\n",
       "  </tbody>\n",
       "</table>\n",
       "<p>199523 rows × 7 columns</p>\n",
       "</div>"
      ],
      "text/plain": [
       "         age  wage per hour  capital gains  capital losses  \\\n",
       "0       73.0            0.0       0.000000             0.0   \n",
       "1       58.0            0.0       0.000000             0.0   \n",
       "2       18.0            0.0       0.000000             0.0   \n",
       "3        9.0            0.0       0.000000             0.0   \n",
       "4       10.0            0.0       0.000000             0.0   \n",
       "...      ...            ...            ...             ...   \n",
       "199518  87.0            0.0       0.000000             0.0   \n",
       "199519  65.0            0.0     434.719055             0.0   \n",
       "199520  47.0            0.0       0.000000             0.0   \n",
       "199521  16.0            0.0       0.000000             0.0   \n",
       "199522  32.0            0.0       0.000000             0.0   \n",
       "\n",
       "        dividends from stocks  num persons worked for employer  \\\n",
       "0                    0.000000                              0.0   \n",
       "1                    0.000000                              1.0   \n",
       "2                    0.000000                              0.0   \n",
       "3                    0.000000                              0.0   \n",
       "4                    0.000000                              0.0   \n",
       "...                       ...                              ...   \n",
       "199518               0.000000                              0.0   \n",
       "199519             197.529495                              1.0   \n",
       "199520             197.529495                              6.0   \n",
       "199521               0.000000                              0.0   \n",
       "199522               0.000000                              6.0   \n",
       "\n",
       "        weeks worked in year  \n",
       "0                        0.0  \n",
       "1                       52.0  \n",
       "2                        0.0  \n",
       "3                        0.0  \n",
       "4                        0.0  \n",
       "...                      ...  \n",
       "199518                   0.0  \n",
       "199519                  52.0  \n",
       "199520                  52.0  \n",
       "199521                   0.0  \n",
       "199522                  52.0  \n",
       "\n",
       "[199523 rows x 7 columns]"
      ]
     },
     "execution_count": 90,
     "metadata": {},
     "output_type": "execute_result"
    }
   ],
   "source": [
    "X = data_train_pandas[['age','wage per hour','capital gains','capital losses',\n",
    "                       'dividends from stocks','num persons worked for employer','weeks worked in year']]\n",
    "X"
   ]
  },
  {
   "cell_type": "code",
   "execution_count": 91,
   "metadata": {},
   "outputs": [
    {
     "data": {
      "text/plain": [
       "0         0\n",
       "1         0\n",
       "2         0\n",
       "3         0\n",
       "4         0\n",
       "         ..\n",
       "199518    0\n",
       "199519    0\n",
       "199520    0\n",
       "199521    0\n",
       "199522    0\n",
       "Name: income label, Length: 199523, dtype: int64"
      ]
     },
     "execution_count": 91,
     "metadata": {},
     "output_type": "execute_result"
    }
   ],
   "source": [
    "y = data_train_pandas['income label']\n",
    "y"
   ]
  },
  {
   "cell_type": "code",
   "execution_count": 92,
   "metadata": {},
   "outputs": [
    {
     "name": "stdout",
     "output_type": "stream",
     "text": [
      "(199523, 3)\n"
     ]
    }
   ],
   "source": [
    "# define feature selection\n",
    "fs = SelectKBest(score_func=f_classif, k=3)\n",
    "\n",
    "# apply feature selection\n",
    "X_selected = fs.fit_transform(X, y)\n",
    "\n",
    "print(X_selected.shape)"
   ]
  },
  {
   "cell_type": "code",
   "execution_count": 93,
   "metadata": {},
   "outputs": [
    {
     "data": {
      "text/plain": [
       "Index(['dividends from stocks', 'num persons worked for employer',\n",
       "       'weeks worked in year'],\n",
       "      dtype='object')"
      ]
     },
     "execution_count": 93,
     "metadata": {},
     "output_type": "execute_result"
    }
   ],
   "source": [
    "X_selected= X.columns[(fs.get_support())]\n",
    "X_selected"
   ]
  },
  {
   "cell_type": "markdown",
   "metadata": {},
   "source": [
    "#### Droping variables\n",
    "\n",
    "Due to correlation or Anova test I decided to drop that variables **'age','wage per hour','capital gains','capital losses'**."
   ]
  },
  {
   "cell_type": "code",
   "execution_count": 94,
   "metadata": {},
   "outputs": [],
   "source": [
    "data_train_pandas = data_train_pandas.drop(['age','wage per hour','capital gains','capital losses'], axis = 1)\n",
    "\n",
    "data_test_pandas = data_test_pandas.drop(['age','wage per hour','capital gains','capital losses'], axis = 1)"
   ]
  },
  {
   "cell_type": "code",
   "execution_count": 95,
   "metadata": {},
   "outputs": [],
   "source": [
    "# data_train_pandas"
   ]
  },
  {
   "cell_type": "markdown",
   "metadata": {},
   "source": [
    "### Chi-Square Test of Independence\n",
    "\n",
    "#### Categorical Inputs and Categorical Output"
   ]
  },
  {
   "cell_type": "markdown",
   "metadata": {},
   "source": [
    "Null Hypothesis (H0): There is **no relationship** between the variables\n",
    "\n",
    "Alternative Hypothesis (H1): There is a relationship between variables\n",
    "\n",
    "I will test the relationship between variables and target. As common we choose p-value level to 0.05, as the p-value test result is more than 0.05 we fail to reject the Null Hypothesis. This means, there is no relationship between one varaiabe and target feature based on the Chi-Square test of independence."
   ]
  },
  {
   "cell_type": "code",
   "execution_count": 96,
   "metadata": {},
   "outputs": [
    {
     "name": "stdout",
     "output_type": "stream",
     "text": [
      "Chi2 Statistic: 13542.953108827336, p-value: 0.0\n"
     ]
    }
   ],
   "source": [
    "chi_res = chi2_contingency(pd.crosstab(data_train_pandas['income label'], data_train_pandas['class of worker']))\n",
    "\n",
    "print('Chi2 Statistic: {}, p-value: {}'.format(chi_res[0], chi_res[1]))"
   ]
  },
  {
   "cell_type": "code",
   "execution_count": 97,
   "metadata": {},
   "outputs": [
    {
     "name": "stdout",
     "output_type": "stream",
     "text": [
      "Chi2 Statistic: 30322.049718408773, p-value: 0.0\n"
     ]
    }
   ],
   "source": [
    "chi_res = chi2_contingency(pd.crosstab(data_train_pandas['income label'], data_train_pandas['education']))\n",
    "\n",
    "print('Chi2 Statistic: {}, p-value: {}'.format(chi_res[0], chi_res[1]))"
   ]
  },
  {
   "cell_type": "code",
   "execution_count": 98,
   "metadata": {},
   "outputs": [
    {
     "name": "stdout",
     "output_type": "stream",
     "text": [
      "Chi2 Statistic: 7794.867355272996, p-value: 0.0\n"
     ]
    }
   ],
   "source": [
    "chi_res = chi2_contingency(pd.crosstab(data_train_pandas['income label'], data_train_pandas['marital status']))\n",
    "\n",
    "print('Chi2 Statistic: {}, p-value: {}'.format(chi_res[0], chi_res[1]))"
   ]
  },
  {
   "cell_type": "code",
   "execution_count": 99,
   "metadata": {},
   "outputs": [
    {
     "name": "stdout",
     "output_type": "stream",
     "text": [
      "Chi2 Statistic: 688.3644561763933, p-value: 1.1524072977587733e-147\n"
     ]
    }
   ],
   "source": [
    "chi_res = chi2_contingency(pd.crosstab(data_train_pandas['income label'], data_train_pandas['mace']))\n",
    "\n",
    "print('Chi2 Statistic: {}, p-value: {}'.format(chi_res[0], chi_res[1]))"
   ]
  },
  {
   "cell_type": "code",
   "execution_count": 100,
   "metadata": {},
   "outputs": [
    {
     "name": "stdout",
     "output_type": "stream",
     "text": [
      "Chi2 Statistic: 939.1780526455786, p-value: 2.2319668275955093e-196\n"
     ]
    }
   ],
   "source": [
    "chi_res = chi2_contingency(pd.crosstab(data_train_pandas['income label'], data_train_pandas['hispanic Origin']))\n",
    "\n",
    "print('Chi2 Statistic: {}, p-value: {}'.format(chi_res[0], chi_res[1]))"
   ]
  },
  {
   "cell_type": "code",
   "execution_count": 101,
   "metadata": {},
   "outputs": [
    {
     "name": "stdout",
     "output_type": "stream",
     "text": [
      "Chi2 Statistic: 4955.014384555804, p-value: 0.0\n"
     ]
    }
   ],
   "source": [
    "chi_res = chi2_contingency(pd.crosstab(data_train_pandas['income label'], data_train_pandas['sex']))\n",
    "\n",
    "print('Chi2 Statistic: {}, p-value: {}'.format(chi_res[0], chi_res[1]))"
   ]
  },
  {
   "cell_type": "code",
   "execution_count": 102,
   "metadata": {},
   "outputs": [
    {
     "name": "stdout",
     "output_type": "stream",
     "text": [
      "Chi2 Statistic: 5098.018909765274, p-value: 0.0\n"
     ]
    }
   ],
   "source": [
    "chi_res = chi2_contingency(pd.crosstab(data_train_pandas['income label'], data_train_pandas['full or part time employment stat']))\n",
    "\n",
    "print('Chi2 Statistic: {}, p-value: {}'.format(chi_res[0], chi_res[1]))"
   ]
  },
  {
   "cell_type": "code",
   "execution_count": 103,
   "metadata": {},
   "outputs": [
    {
     "name": "stdout",
     "output_type": "stream",
     "text": [
      "Chi2 Statistic: 14532.61180740211, p-value: 0.0\n"
     ]
    }
   ],
   "source": [
    "chi_res = chi2_contingency(pd.crosstab(data_train_pandas['income label'], data_train_pandas['dividends from stocks']))\n",
    "\n",
    "print('Chi2 Statistic: {}, p-value: {}'.format(chi_res[0], chi_res[1]))"
   ]
  },
  {
   "cell_type": "code",
   "execution_count": 104,
   "metadata": {},
   "outputs": [
    {
     "name": "stdout",
     "output_type": "stream",
     "text": [
      "Chi2 Statistic: 10484.359945226299, p-value: 0.0\n"
     ]
    }
   ],
   "source": [
    "chi_res = chi2_contingency(pd.crosstab(data_train_pandas['income label'], data_train_pandas['tax filer status']))\n",
    "\n",
    "print('Chi2 Statistic: {}, p-value: {}'.format(chi_res[0], chi_res[1]))"
   ]
  },
  {
   "cell_type": "code",
   "execution_count": 105,
   "metadata": {},
   "outputs": [
    {
     "name": "stdout",
     "output_type": "stream",
     "text": [
      "Chi2 Statistic: 10301.203726139938, p-value: 0.0\n"
     ]
    }
   ],
   "source": [
    "chi_res = chi2_contingency(pd.crosstab(data_train_pandas['income label'], data_train_pandas['detailed household summary in household']))\n",
    "\n",
    "print('Chi2 Statistic: {}, p-value: {}'.format(chi_res[0], chi_res[1]))"
   ]
  },
  {
   "cell_type": "code",
   "execution_count": 106,
   "metadata": {},
   "outputs": [
    {
     "name": "stdout",
     "output_type": "stream",
     "text": [
      "Chi2 Statistic: 11254.990570229671, p-value: 0.0\n"
     ]
    }
   ],
   "source": [
    "chi_res = chi2_contingency(pd.crosstab(data_train_pandas['income label'], data_train_pandas['num persons worked for employer']))\n",
    "\n",
    "print('Chi2 Statistic: {}, p-value: {}'.format(chi_res[0], chi_res[1]))"
   ]
  },
  {
   "cell_type": "code",
   "execution_count": 107,
   "metadata": {},
   "outputs": [
    {
     "name": "stdout",
     "output_type": "stream",
     "text": [
      "Chi2 Statistic: 5054.768316168905, p-value: 0.0\n"
     ]
    }
   ],
   "source": [
    "chi_res = chi2_contingency(pd.crosstab(data_train_pandas['income label'], data_train_pandas['family members under 18']))\n",
    "\n",
    "print('Chi2 Statistic: {}, p-value: {}'.format(chi_res[0], chi_res[1]))"
   ]
  },
  {
   "cell_type": "code",
   "execution_count": 108,
   "metadata": {},
   "outputs": [
    {
     "name": "stdout",
     "output_type": "stream",
     "text": [
      "Chi2 Statistic: 739.3155802616321, p-value: 2.8419748913375844e-128\n"
     ]
    }
   ],
   "source": [
    "chi_res = chi2_contingency(pd.crosstab(data_train_pandas['income label'], data_train_pandas['country of birth self']))\n",
    "\n",
    "print('Chi2 Statistic: {}, p-value: {}'.format(chi_res[0], chi_res[1]))"
   ]
  },
  {
   "cell_type": "code",
   "execution_count": 109,
   "metadata": {},
   "outputs": [
    {
     "name": "stdout",
     "output_type": "stream",
     "text": [
      "Chi2 Statistic: 14873.534640165566, p-value: 0.0\n"
     ]
    }
   ],
   "source": [
    "chi_res = chi2_contingency(pd.crosstab(data_train_pandas['income label'], data_train_pandas['weeks worked in year']))\n",
    "\n",
    "print('Chi2 Statistic: {}, p-value: {}'.format(chi_res[0], chi_res[1]))"
   ]
  },
  {
   "cell_type": "code",
   "execution_count": 110,
   "metadata": {},
   "outputs": [
    {
     "name": "stdout",
     "output_type": "stream",
     "text": [
      "Chi2 Statistic: 43.544260443764, p-value: 4.1447805727523245e-11\n"
     ]
    }
   ],
   "source": [
    "chi_res = chi2_contingency(pd.crosstab(data_train_pandas['income label'], data_train_pandas['year']))\n",
    "\n",
    "print('Chi2 Statistic: {}, p-value: {}'.format(chi_res[0], chi_res[1]))"
   ]
  },
  {
   "cell_type": "markdown",
   "metadata": {},
   "source": [
    "#### Chi Square test for all "
   ]
  },
  {
   "cell_type": "code",
   "execution_count": 111,
   "metadata": {},
   "outputs": [
    {
     "data": {
      "text/plain": [
       "Index(['class of worker', 'education', 'marital status', 'mace',\n",
       "       'hispanic Origin', 'sex', 'full or part time employment stat',\n",
       "       'dividends from stocks', 'tax filer status',\n",
       "       'detailed household summary in household',\n",
       "       'num persons worked for employer', 'family members under 18',\n",
       "       'country of birth self', 'citizenship', 'weeks worked in year', 'year',\n",
       "       'income label'],\n",
       "      dtype='object')"
      ]
     },
     "execution_count": 111,
     "metadata": {},
     "output_type": "execute_result"
    }
   ],
   "source": [
    "X_cat = data_train_pandas[['class of worker','education','marital status','mace','hispanic Origin',\n",
    "                                   'sex','full or part time employment stat','dividends from stocks',\n",
    "                                   'tax filer status','detailed household summary in household',\n",
    "                                   'num persons worked for employer','family members under 18',\n",
    "                                   'country of birth self','citizenship','weeks worked in year','year', 'income label']]\n",
    "X_cat.columns"
   ]
  },
  {
   "cell_type": "code",
   "execution_count": 112,
   "metadata": {},
   "outputs": [
    {
     "name": "stdout",
     "output_type": "stream",
     "text": [
      "                                     Column Hypothesis\n",
      "0                           class of worker  Reject H0\n",
      "1                                 education  Reject H0\n",
      "2                            marital status  Reject H0\n",
      "3                                      mace  Reject H0\n",
      "4                           hispanic Origin  Reject H0\n",
      "5                                       sex  Reject H0\n",
      "6         full or part time employment stat  Reject H0\n",
      "7                     dividends from stocks  Reject H0\n",
      "8                          tax filer status  Reject H0\n",
      "9   detailed household summary in household  Reject H0\n",
      "10          num persons worked for employer  Reject H0\n",
      "11                  family members under 18  Reject H0\n",
      "12                    country of birth self  Reject H0\n",
      "13                              citizenship  Reject H0\n",
      "14                     weeks worked in year  Reject H0\n",
      "15                                     year  Reject H0\n",
      "16                             income label  Reject H0\n"
     ]
    }
   ],
   "source": [
    "chi2 = []\n",
    "for i in X_cat:\n",
    "    if chi2_contingency(pd.crosstab(X_cat['income label'], X_cat[i]))[1] < 0.05:\n",
    "        chi2.append('Reject H0')\n",
    "    else:\n",
    "        chi2.append('Fail to Reject Null Hypothesis (H0)')\n",
    "\n",
    "data_chi2 = pd.DataFrame(data = [X_cat.columns, chi2] \n",
    "             ).T \n",
    "data_chi2.columns = ['Column', 'Hypothesis']\n",
    "print(data_chi2)  "
   ]
  },
  {
   "cell_type": "code",
   "execution_count": 113,
   "metadata": {},
   "outputs": [
    {
     "data": {
      "text/plain": [
       "Index(['class of worker', 'education', 'marital status', 'mace',\n",
       "       'hispanic Origin', 'sex', 'full or part time employment stat',\n",
       "       'dividends from stocks', 'tax filer status',\n",
       "       'detailed household summary in household',\n",
       "       'num persons worked for employer', 'family members under 18',\n",
       "       'country of birth self', 'citizenship', 'weeks worked in year', 'year',\n",
       "       'income label'],\n",
       "      dtype='object')"
      ]
     },
     "execution_count": 113,
     "metadata": {},
     "output_type": "execute_result"
    }
   ],
   "source": [
    "final_columns = data_train_pandas.columns\n",
    "final_columns"
   ]
  },
  {
   "cell_type": "markdown",
   "metadata": {},
   "source": [
    "### 8. Should the raw model dataset be randomly distributed to Train/Test before or after identifying the most predictive features?\n",
    "\n",
    "In my opinion, the dataset should be split into Train/Test datasets before performing feature engineering. If the datasets are split before, we have to make sure that each data tranposition will be done in both the training and test datasets. This creates a lot more work for the data scientist. "
   ]
  },
  {
   "cell_type": "markdown",
   "metadata": {},
   "source": [
    "### 9. Perform any feature engineering and explain the reasons behind.  e.g. New features from existing, re-grouping categorical variable categories, meaningful encoding, binning etc.\n",
    "\n",
    "I plan to transform new features from existing, by grouping. For example: 'weeks worked in year' and 'country of birth self'. In context to guestion 8, I have to do the same steps in feature engineering in both datasets: Train and Test "
   ]
  },
  {
   "cell_type": "code",
   "execution_count": 114,
   "metadata": {},
   "outputs": [],
   "source": [
    "# data_train_pandas['weeks worked in year'].value_counts()"
   ]
  },
  {
   "cell_type": "code",
   "execution_count": 115,
   "metadata": {},
   "outputs": [
    {
     "data": {
      "text/plain": [
       "<AxesSubplot:>"
      ]
     },
     "execution_count": 115,
     "metadata": {},
     "output_type": "execute_result"
    },
    {
     "data": {
      "image/png": "[encoded data removed]",
      "text/plain": [
       "<Figure size 432x288 with 1 Axes>"
      ]
     },
     "metadata": {
      "needs_background": "light"
     },
     "output_type": "display_data"
    }
   ],
   "source": [
    "data_train_pandas['weeks worked in year'].hist()"
   ]
  },
  {
   "cell_type": "code",
   "execution_count": 116,
   "metadata": {},
   "outputs": [
    {
     "data": {
      "text/html": [
       "<div>\n",
       "<style scoped>\n",
       "    .dataframe tbody tr th:only-of-type {\n",
       "        vertical-align: middle;\n",
       "    }\n",
       "\n",
       "    .dataframe tbody tr th {\n",
       "        vertical-align: top;\n",
       "    }\n",
       "\n",
       "    .dataframe thead th {\n",
       "        text-align: right;\n",
       "    }\n",
       "</style>\n",
       "<table border=\"1\" class=\"dataframe\">\n",
       "  <thead>\n",
       "    <tr style=\"text-align: right;\">\n",
       "      <th></th>\n",
       "      <th>weeks worked in year</th>\n",
       "      <th>weeks</th>\n",
       "    </tr>\n",
       "  </thead>\n",
       "  <tbody>\n",
       "    <tr>\n",
       "      <th>0</th>\n",
       "      <td>0.0</td>\n",
       "      <td>up to a month</td>\n",
       "    </tr>\n",
       "    <tr>\n",
       "      <th>1</th>\n",
       "      <td>52.0</td>\n",
       "      <td>permanent</td>\n",
       "    </tr>\n",
       "    <tr>\n",
       "      <th>2</th>\n",
       "      <td>0.0</td>\n",
       "      <td>up to a month</td>\n",
       "    </tr>\n",
       "    <tr>\n",
       "      <th>3</th>\n",
       "      <td>0.0</td>\n",
       "      <td>up to a month</td>\n",
       "    </tr>\n",
       "    <tr>\n",
       "      <th>4</th>\n",
       "      <td>0.0</td>\n",
       "      <td>up to a month</td>\n",
       "    </tr>\n",
       "    <tr>\n",
       "      <th>...</th>\n",
       "      <td>...</td>\n",
       "      <td>...</td>\n",
       "    </tr>\n",
       "    <tr>\n",
       "      <th>199518</th>\n",
       "      <td>0.0</td>\n",
       "      <td>up to a month</td>\n",
       "    </tr>\n",
       "    <tr>\n",
       "      <th>199519</th>\n",
       "      <td>52.0</td>\n",
       "      <td>permanent</td>\n",
       "    </tr>\n",
       "    <tr>\n",
       "      <th>199520</th>\n",
       "      <td>52.0</td>\n",
       "      <td>permanent</td>\n",
       "    </tr>\n",
       "    <tr>\n",
       "      <th>199521</th>\n",
       "      <td>0.0</td>\n",
       "      <td>up to a month</td>\n",
       "    </tr>\n",
       "    <tr>\n",
       "      <th>199522</th>\n",
       "      <td>52.0</td>\n",
       "      <td>permanent</td>\n",
       "    </tr>\n",
       "  </tbody>\n",
       "</table>\n",
       "<p>199523 rows × 2 columns</p>\n",
       "</div>"
      ],
      "text/plain": [
       "        weeks worked in year          weeks\n",
       "0                        0.0  up to a month\n",
       "1                       52.0      permanent\n",
       "2                        0.0  up to a month\n",
       "3                        0.0  up to a month\n",
       "4                        0.0  up to a month\n",
       "...                      ...            ...\n",
       "199518                   0.0  up to a month\n",
       "199519                  52.0      permanent\n",
       "199520                  52.0      permanent\n",
       "199521                   0.0  up to a month\n",
       "199522                  52.0      permanent\n",
       "\n",
       "[199523 rows x 2 columns]"
      ]
     },
     "execution_count": 116,
     "metadata": {},
     "output_type": "execute_result"
    }
   ],
   "source": [
    "def work_in_year (row):\n",
    "    if row['weeks worked in year'] < 4:\n",
    "        return 'up to a month'\n",
    "    if row['weeks worked in year'] < 12:\n",
    "        return 'up to a quarter'\n",
    "    if row['weeks worked in year'] < 27:\n",
    "        return 'half a year'\n",
    "    if row['weeks worked in year'] < 52:\n",
    "        return 'up to a year'\n",
    "    if row['weeks worked in year'] >= 52:\n",
    "        return 'permanent'\n",
    "    \n",
    "data_train_pandas['weeks'] = data_train_pandas.apply(lambda row: work_in_year(row), axis=1)    \n",
    "data_train_pandas[['weeks worked in year','weeks']]"
   ]
  },
  {
   "cell_type": "code",
   "execution_count": 117,
   "metadata": {},
   "outputs": [
    {
     "data": {
      "text/html": [
       "<div>\n",
       "<style scoped>\n",
       "    .dataframe tbody tr th:only-of-type {\n",
       "        vertical-align: middle;\n",
       "    }\n",
       "\n",
       "    .dataframe tbody tr th {\n",
       "        vertical-align: top;\n",
       "    }\n",
       "\n",
       "    .dataframe thead th {\n",
       "        text-align: right;\n",
       "    }\n",
       "</style>\n",
       "<table border=\"1\" class=\"dataframe\">\n",
       "  <thead>\n",
       "    <tr style=\"text-align: right;\">\n",
       "      <th></th>\n",
       "      <th>weeks worked in year</th>\n",
       "      <th>weeks</th>\n",
       "    </tr>\n",
       "  </thead>\n",
       "  <tbody>\n",
       "    <tr>\n",
       "      <th>0</th>\n",
       "      <td>12.0</td>\n",
       "      <td>half a year</td>\n",
       "    </tr>\n",
       "    <tr>\n",
       "      <th>1</th>\n",
       "      <td>26.0</td>\n",
       "      <td>half a year</td>\n",
       "    </tr>\n",
       "    <tr>\n",
       "      <th>2</th>\n",
       "      <td>0.0</td>\n",
       "      <td>up to a month</td>\n",
       "    </tr>\n",
       "    <tr>\n",
       "      <th>3</th>\n",
       "      <td>52.0</td>\n",
       "      <td>permanent</td>\n",
       "    </tr>\n",
       "    <tr>\n",
       "      <th>4</th>\n",
       "      <td>50.0</td>\n",
       "      <td>up to a year</td>\n",
       "    </tr>\n",
       "    <tr>\n",
       "      <th>...</th>\n",
       "      <td>...</td>\n",
       "      <td>...</td>\n",
       "    </tr>\n",
       "    <tr>\n",
       "      <th>99757</th>\n",
       "      <td>0.0</td>\n",
       "      <td>up to a month</td>\n",
       "    </tr>\n",
       "    <tr>\n",
       "      <th>99758</th>\n",
       "      <td>52.0</td>\n",
       "      <td>permanent</td>\n",
       "    </tr>\n",
       "    <tr>\n",
       "      <th>99759</th>\n",
       "      <td>52.0</td>\n",
       "      <td>permanent</td>\n",
       "    </tr>\n",
       "    <tr>\n",
       "      <th>99760</th>\n",
       "      <td>52.0</td>\n",
       "      <td>permanent</td>\n",
       "    </tr>\n",
       "    <tr>\n",
       "      <th>99761</th>\n",
       "      <td>0.0</td>\n",
       "      <td>up to a month</td>\n",
       "    </tr>\n",
       "  </tbody>\n",
       "</table>\n",
       "<p>99762 rows × 2 columns</p>\n",
       "</div>"
      ],
      "text/plain": [
       "       weeks worked in year          weeks\n",
       "0                      12.0    half a year\n",
       "1                      26.0    half a year\n",
       "2                       0.0  up to a month\n",
       "3                      52.0      permanent\n",
       "4                      50.0   up to a year\n",
       "...                     ...            ...\n",
       "99757                   0.0  up to a month\n",
       "99758                  52.0      permanent\n",
       "99759                  52.0      permanent\n",
       "99760                  52.0      permanent\n",
       "99761                   0.0  up to a month\n",
       "\n",
       "[99762 rows x 2 columns]"
      ]
     },
     "execution_count": 117,
     "metadata": {},
     "output_type": "execute_result"
    }
   ],
   "source": [
    "data_test_pandas['weeks'] = data_test_pandas.apply(lambda row: work_in_year(row), axis=1) \n",
    "data_test_pandas[['weeks worked in year','weeks']]"
   ]
  },
  {
   "cell_type": "code",
   "execution_count": 118,
   "metadata": {},
   "outputs": [],
   "source": [
    "# data_train_pandas['country of birth self'].value_counts()"
   ]
  },
  {
   "cell_type": "code",
   "execution_count": 119,
   "metadata": {},
   "outputs": [
    {
     "data": {
      "text/plain": [
       "<AxesSubplot:>"
      ]
     },
     "execution_count": 119,
     "metadata": {},
     "output_type": "execute_result"
    },
    {
     "data": {
      "image/png": "[encoded data removed]",
      "text/plain": [
       "<Figure size 432x288 with 1 Axes>"
      ]
     },
     "metadata": {
      "needs_background": "light"
     },
     "output_type": "display_data"
    }
   ],
   "source": [
    "data_train_pandas['country of birth self'].hist()"
   ]
  },
  {
   "cell_type": "code",
   "execution_count": 120,
   "metadata": {},
   "outputs": [],
   "source": [
    "europe = ['England','France','Germany','Greece','Holand-Netherlands',\n",
    "          'Hungary',' Ireland',' Italy','Poland','Portugal',' Scotland','Yugoslavia']\n",
    "\n",
    "asia = ['Cambodia','China','Hong Kong','India','Iran','Japan',\n",
    "        'Laos','Philippines','South Korea','Taiwan','Thailand','Vietnam']\n",
    "\n",
    "north_america = ['Canada','Cuba','Dominican-Republic','El-Salvador','Guatemala','Haiti',\n",
    "                 'Honduras','Jamaica','Mexico','Nicaragua','Outlying-U S (Guam USVI etc)',\n",
    "                 'Panama','Puerto-Rico','Trinadad&Tobago']       \n",
    "other = ['?']\n",
    "\n",
    "south_america = ['Columbia','Ecuador','Peru']\n",
    "\n",
    "unitet_states = ['United-States']"
   ]
  },
  {
   "cell_type": "markdown",
   "metadata": {},
   "source": [
    "I decided to group the countries by continents. Of course, you could think about and choose another measure of clustering, \n",
    "such as economic level, but I chose this division because 89% there is teh US and the rest it is a lot of fragmented countries from all over the world. "
   ]
  },
  {
   "cell_type": "code",
   "execution_count": 121,
   "metadata": {},
   "outputs": [],
   "source": [
    "d = {'Europe':europe,\n",
    "     'Asia':asia,\n",
    "     'North America':north_america,\n",
    "     'South America':south_america,\n",
    "     'United-States':unitet_states\n",
    "    }\n",
    "\n",
    "d1 = {x: k for k,v in d.items() for x in v}\n",
    "\n",
    "data_train_pandas['continent'] = (data_train_pandas['country of birth self']\n",
    "                                     .str.strip()\n",
    "                                     .map(d1)\n",
    "                                     .fillna('Other'))\n",
    "\n",
    "data_test_pandas['continent'] = (data_test_pandas['country of birth self']\n",
    "                                     .str.strip()\n",
    "                                     .map(d1)\n",
    "                                     .fillna('Other'))"
   ]
  },
  {
   "cell_type": "code",
   "execution_count": 122,
   "metadata": {},
   "outputs": [
    {
     "data": {
      "text/html": [
       "<div>\n",
       "<style scoped>\n",
       "    .dataframe tbody tr th:only-of-type {\n",
       "        vertical-align: middle;\n",
       "    }\n",
       "\n",
       "    .dataframe tbody tr th {\n",
       "        vertical-align: top;\n",
       "    }\n",
       "\n",
       "    .dataframe thead th {\n",
       "        text-align: right;\n",
       "    }\n",
       "</style>\n",
       "<table border=\"1\" class=\"dataframe\">\n",
       "  <thead>\n",
       "    <tr style=\"text-align: right;\">\n",
       "      <th></th>\n",
       "      <th>country of birth self</th>\n",
       "      <th>continent</th>\n",
       "    </tr>\n",
       "  </thead>\n",
       "  <tbody>\n",
       "    <tr>\n",
       "      <th>176147</th>\n",
       "      <td>United-States</td>\n",
       "      <td>United-States</td>\n",
       "    </tr>\n",
       "    <tr>\n",
       "      <th>20412</th>\n",
       "      <td>France</td>\n",
       "      <td>Europe</td>\n",
       "    </tr>\n",
       "    <tr>\n",
       "      <th>178234</th>\n",
       "      <td>United-States</td>\n",
       "      <td>United-States</td>\n",
       "    </tr>\n",
       "    <tr>\n",
       "      <th>71149</th>\n",
       "      <td>United-States</td>\n",
       "      <td>United-States</td>\n",
       "    </tr>\n",
       "    <tr>\n",
       "      <th>166546</th>\n",
       "      <td>United-States</td>\n",
       "      <td>United-States</td>\n",
       "    </tr>\n",
       "    <tr>\n",
       "      <th>39175</th>\n",
       "      <td>United-States</td>\n",
       "      <td>United-States</td>\n",
       "    </tr>\n",
       "    <tr>\n",
       "      <th>13798</th>\n",
       "      <td>United-States</td>\n",
       "      <td>United-States</td>\n",
       "    </tr>\n",
       "    <tr>\n",
       "      <th>14804</th>\n",
       "      <td>United-States</td>\n",
       "      <td>United-States</td>\n",
       "    </tr>\n",
       "    <tr>\n",
       "      <th>39831</th>\n",
       "      <td>United-States</td>\n",
       "      <td>United-States</td>\n",
       "    </tr>\n",
       "    <tr>\n",
       "      <th>84959</th>\n",
       "      <td>United-States</td>\n",
       "      <td>United-States</td>\n",
       "    </tr>\n",
       "  </tbody>\n",
       "</table>\n",
       "</div>"
      ],
      "text/plain": [
       "       country of birth self      continent\n",
       "176147         United-States  United-States\n",
       "20412                 France         Europe\n",
       "178234         United-States  United-States\n",
       "71149          United-States  United-States\n",
       "166546         United-States  United-States\n",
       "39175          United-States  United-States\n",
       "13798          United-States  United-States\n",
       "14804          United-States  United-States\n",
       "39831          United-States  United-States\n",
       "84959          United-States  United-States"
      ]
     },
     "execution_count": 122,
     "metadata": {},
     "output_type": "execute_result"
    }
   ],
   "source": [
    "data_train_pandas[['country of birth self','continent']].sample(10)"
   ]
  },
  {
   "cell_type": "markdown",
   "metadata": {},
   "source": [
    "#### Droping variables\n",
    "\n",
    "After feature engineering I have to drop columns:'weeks worked in year' and 'country of birth self' "
   ]
  },
  {
   "cell_type": "code",
   "execution_count": 123,
   "metadata": {},
   "outputs": [],
   "source": [
    "data_train_pandas = data_train_pandas.drop(['weeks worked in year','country of birth self'], axis = 1)\n",
    "\n",
    "data_test_pandas = data_test_pandas.drop(['weeks worked in year','country of birth self'], axis = 1)"
   ]
  },
  {
   "cell_type": "code",
   "execution_count": 124,
   "metadata": {},
   "outputs": [
    {
     "data": {
      "text/plain": [
       "Index(['class of worker', 'education', 'marital status', 'mace',\n",
       "       'hispanic Origin', 'sex', 'full or part time employment stat',\n",
       "       'dividends from stocks', 'tax filer status',\n",
       "       'detailed household summary in household',\n",
       "       'num persons worked for employer', 'family members under 18',\n",
       "       'citizenship', 'year', 'income label', 'weeks', 'continent'],\n",
       "      dtype='object')"
      ]
     },
     "execution_count": 124,
     "metadata": {},
     "output_type": "execute_result"
    }
   ],
   "source": [
    "data_train_pandas.columns"
   ]
  },
  {
   "cell_type": "code",
   "execution_count": 125,
   "metadata": {},
   "outputs": [
    {
     "data": {
      "text/plain": [
       "Index(['class of worker', 'education', 'marital status', 'mace',\n",
       "       'hispanic Origin', 'sex', 'full or part time employment stat',\n",
       "       'dividends from stocks', 'tax filer status',\n",
       "       'detailed household summary in household',\n",
       "       'num persons worked for employer', 'family members under 18',\n",
       "       'citizenship', 'year', 'income label', 'weeks', 'continent'],\n",
       "      dtype='object')"
      ]
     },
     "execution_count": 125,
     "metadata": {},
     "output_type": "execute_result"
    }
   ],
   "source": [
    "data_test_pandas.columns"
   ]
  },
  {
   "cell_type": "markdown",
   "metadata": {},
   "source": [
    "#### Rename final columns"
   ]
  },
  {
   "cell_type": "code",
   "execution_count": 126,
   "metadata": {},
   "outputs": [],
   "source": [
    "data_train_pandas.rename(columns={'class of worker': 'class', 'marital status': 'marital', 'hispanic Origin': 'hispanic', \n",
    "                                  'full or part time employment stat':'worktime','dividends from stocks':'dividends','tax filer status':'tax',\n",
    "                                 'detailed household summary in household':'detailed', 'num persons worked for employer':'persons',\n",
    "                                 'family members under 18':'under18','income label':'Target'}, inplace=True)\n",
    "\n",
    "data_test_pandas.rename(columns={'class of worker': 'class', 'marital status': 'marital', 'hispanic Origin': 'hispanic', \n",
    "                                  'full or part time employment stat':'worktime','dividends from stocks':'dividends','tax filer status':'tax',\n",
    "                                 'detailed household summary in household':'detailed', 'num persons worked for employer':'persons',\n",
    "                                 'family members under 18':'under18','income label':'Target'}, inplace=True)"
   ]
  },
  {
   "cell_type": "markdown",
   "metadata": {},
   "source": [
    "### 10. Choose a ML algorithm to build an acceptable predictive model in PySpark and explain the reasons for the selection of such algorithm."
   ]
  },
  {
   "cell_type": "code",
   "execution_count": 127,
   "metadata": {},
   "outputs": [],
   "source": [
    "spark_session = SparkSession.builder.master(\"local\").appName(\"Question1\").getOrCreate()"
   ]
  },
  {
   "cell_type": "code",
   "execution_count": 128,
   "metadata": {},
   "outputs": [],
   "source": [
    "data_train_sp = spark_session.createDataFrame(data_train_pandas)\n",
    "data_test_sp = spark_session.createDataFrame(data_test_pandas)"
   ]
  },
  {
   "cell_type": "code",
   "execution_count": 129,
   "metadata": {},
   "outputs": [],
   "source": [
    "# data_train_sp.show()"
   ]
  },
  {
   "cell_type": "code",
   "execution_count": 130,
   "metadata": {},
   "outputs": [],
   "source": [
    "# data_test_sp.show()"
   ]
  },
  {
   "cell_type": "code",
   "execution_count": 131,
   "metadata": {},
   "outputs": [
    {
     "name": "stdout",
     "output_type": "stream",
     "text": [
      "root\n",
      " |-- class: string (nullable = true)\n",
      " |-- education: string (nullable = true)\n",
      " |-- marital: string (nullable = true)\n",
      " |-- mace: string (nullable = true)\n",
      " |-- hispanic: string (nullable = true)\n",
      " |-- sex: string (nullable = true)\n",
      " |-- worktime: string (nullable = true)\n",
      " |-- dividends: double (nullable = true)\n",
      " |-- tax: string (nullable = true)\n",
      " |-- detailed: string (nullable = true)\n",
      " |-- persons: double (nullable = true)\n",
      " |-- under18: string (nullable = true)\n",
      " |-- citizenship: string (nullable = true)\n",
      " |-- year: string (nullable = true)\n",
      " |-- Target: long (nullable = true)\n",
      " |-- weeks: string (nullable = true)\n",
      " |-- continent: string (nullable = true)\n",
      "\n"
     ]
    }
   ],
   "source": [
    "data_train_sp.printSchema()"
   ]
  },
  {
   "cell_type": "code",
   "execution_count": 132,
   "metadata": {},
   "outputs": [
    {
     "name": "stdout",
     "output_type": "stream",
     "text": [
      "root\n",
      " |-- class: string (nullable = true)\n",
      " |-- education: string (nullable = true)\n",
      " |-- marital: string (nullable = true)\n",
      " |-- mace: string (nullable = true)\n",
      " |-- hispanic: string (nullable = true)\n",
      " |-- sex: string (nullable = true)\n",
      " |-- worktime: string (nullable = true)\n",
      " |-- dividends: double (nullable = true)\n",
      " |-- tax: string (nullable = true)\n",
      " |-- detailed: string (nullable = true)\n",
      " |-- persons: double (nullable = true)\n",
      " |-- under18: string (nullable = true)\n",
      " |-- citizenship: string (nullable = true)\n",
      " |-- year: string (nullable = true)\n",
      " |-- Target: long (nullable = true)\n",
      " |-- weeks: string (nullable = true)\n",
      " |-- continent: string (nullable = true)\n",
      "\n"
     ]
    }
   ],
   "source": [
    "data_test_sp.printSchema()"
   ]
  },
  {
   "cell_type": "markdown",
   "metadata": {},
   "source": [
    "#### Set up stages to Pipeline"
   ]
  },
  {
   "cell_type": "code",
   "execution_count": 133,
   "metadata": {},
   "outputs": [],
   "source": [
    "stages = []"
   ]
  },
  {
   "cell_type": "markdown",
   "metadata": {},
   "source": [
    "#### Indexing and One Hot Encoding"
   ]
  },
  {
   "cell_type": "code",
   "execution_count": 134,
   "metadata": {},
   "outputs": [],
   "source": [
    "final_categorical=  ['class','education','marital','mace','hispanic','sex','worktime',\n",
    "                     'tax','detailed','persons','under18','citizenship','year',\n",
    "                     'Target','weeks','continent']"
   ]
  },
  {
   "cell_type": "code",
   "execution_count": 135,
   "metadata": {},
   "outputs": [],
   "source": [
    "# train dataset \n",
    "\n",
    "indexed = data_train_sp\n",
    "\n",
    "catIndex = []\n",
    "for str_ in final_categorical:\n",
    "    cat_ = str_ + 'Index' \n",
    "    indexer = StringIndexer(inputCol=str_, outputCol=cat_)\n",
    "    indexed = indexer.fit(indexed).transform(indexed)\n",
    "    catIndex.append(cat_)"
   ]
  },
  {
   "cell_type": "code",
   "execution_count": 136,
   "metadata": {},
   "outputs": [],
   "source": [
    "# test dataset \n",
    "\n",
    "indexedTest = data_test_sp\n",
    "\n",
    "catIndexTest = []\n",
    "for str_ in final_categorical:\n",
    "    cat_ = str_ + 'Index' \n",
    "    indexerTest = StringIndexer(inputCol=str_, outputCol=cat_)\n",
    "    indexedTest = indexerTest.fit(indexedTest).transform(indexedTest)\n",
    "    catIndexTest.append(cat_)"
   ]
  },
  {
   "cell_type": "code",
   "execution_count": 137,
   "metadata": {},
   "outputs": [],
   "source": [
    "stages += [indexer]"
   ]
  },
  {
   "cell_type": "code",
   "execution_count": 138,
   "metadata": {},
   "outputs": [],
   "source": [
    "# indexed.show(1)"
   ]
  },
  {
   "cell_type": "code",
   "execution_count": 139,
   "metadata": {},
   "outputs": [],
   "source": [
    "# indexed.columns"
   ]
  },
  {
   "cell_type": "code",
   "execution_count": 140,
   "metadata": {},
   "outputs": [],
   "source": [
    "# train dataset\n",
    "\n",
    "catVec = [str_ + 'Vec' for str_ in final_categorical]\n",
    "\n",
    "encoder = OneHotEncoder(inputCols=catIndex,\n",
    "                        outputCols=catVec)\n",
    "model = encoder.fit(indexed)\n",
    "encoded = model.transform(indexed)\n",
    "\n",
    "# encoded.show(1)"
   ]
  },
  {
   "cell_type": "code",
   "execution_count": 141,
   "metadata": {},
   "outputs": [],
   "source": [
    "# test dataset\n",
    "\n",
    "catVecTest = [str_ + 'Vec' for str_ in final_categorical]\n",
    "\n",
    "encoderTest = OneHotEncoder(inputCols=catIndexTest,\n",
    "                        outputCols=catVecTest)\n",
    "modelTest = encoder.fit(indexedTest)\n",
    "encodedTest = modelTest.transform(indexedTest)\n",
    "\n",
    "# encoded.show(1)"
   ]
  },
  {
   "cell_type": "code",
   "execution_count": 142,
   "metadata": {},
   "outputs": [],
   "source": [
    "stages += [encoder]"
   ]
  },
  {
   "cell_type": "code",
   "execution_count": 143,
   "metadata": {},
   "outputs": [],
   "source": [
    "# encoded.columns"
   ]
  },
  {
   "cell_type": "markdown",
   "metadata": {},
   "source": [
    "### Index the label column"
   ]
  },
  {
   "cell_type": "code",
   "execution_count": 144,
   "metadata": {
    "tags": []
   },
   "outputs": [],
   "source": [
    "label_stringIndexer = StringIndexer(\n",
    "    inputCol= 'Target', \n",
    "    outputCol= 'label')"
   ]
  },
  {
   "cell_type": "code",
   "execution_count": 145,
   "metadata": {},
   "outputs": [],
   "source": [
    "stages += [label_stringIndexer]"
   ]
  },
  {
   "cell_type": "code",
   "execution_count": 146,
   "metadata": {},
   "outputs": [],
   "source": [
    "final_numerical = ['dividends']"
   ]
  },
  {
   "cell_type": "code",
   "execution_count": 147,
   "metadata": {},
   "outputs": [],
   "source": [
    "encoded_categoricalVec= ['classVec','educationVec','maritalVec','maceVec',\n",
    "                      'hispanicVec','sexVec','worktimeVec','taxVec', \n",
    "                      'detailedVec','personsVec','under18Vec','citizenshipVec',\n",
    "                      'yearVec','TargetVec','weeksVec','continentVec']"
   ]
  },
  {
   "cell_type": "markdown",
   "metadata": {},
   "source": [
    "### Assembling into Vectors"
   ]
  },
  {
   "cell_type": "code",
   "execution_count": 148,
   "metadata": {},
   "outputs": [],
   "source": [
    "# train dataset\n",
    "\n",
    "numeric_features = [col[0] for col in encoded.dtypes if 'string' not in col[1] and 'Target' not in col[1]]\n",
    "\n",
    "assembler = VectorAssembler(\n",
    "    inputCols=numeric_features,\n",
    "    outputCol=\"features\")\n",
    "\n",
    "output = assembler.transform(encoded)\n",
    "# output.show(1)\n",
    "\n",
    "# output.select(\"features\").show(truncate=False)"
   ]
  },
  {
   "cell_type": "code",
   "execution_count": 149,
   "metadata": {},
   "outputs": [],
   "source": [
    "stages += [assembler]"
   ]
  },
  {
   "cell_type": "code",
   "execution_count": 150,
   "metadata": {},
   "outputs": [],
   "source": [
    "# test dataset\n",
    "\n",
    "numeric_features = [col[0] for col in encodedTest.dtypes if 'string' not in col[1] and 'Target' not in col[1]]\n",
    "\n",
    "assemblerTest = VectorAssembler(\n",
    "    inputCols=numeric_features,\n",
    "    outputCol=\"features\")\n",
    "\n",
    "outputTest = assemblerTest.transform(encodedTest)"
   ]
  },
  {
   "cell_type": "markdown",
   "metadata": {},
   "source": [
    "### Scale features using Normalization"
   ]
  },
  {
   "cell_type": "code",
   "execution_count": 151,
   "metadata": {},
   "outputs": [],
   "source": [
    "# train dataset\n",
    "\n",
    "scaler = StandardScaler(inputCol = 'features', \n",
    "                        outputCol = 'scaledFeatures', \n",
    "                        withStd = True, \n",
    "                        withMean = True)\n",
    "\n",
    "scalerModel = scaler.fit(output)\n",
    "scaled_train = scalerModel.transform(output)"
   ]
  },
  {
   "cell_type": "code",
   "execution_count": 152,
   "metadata": {},
   "outputs": [],
   "source": [
    "stages += [scaler]"
   ]
  },
  {
   "cell_type": "code",
   "execution_count": 153,
   "metadata": {},
   "outputs": [],
   "source": [
    "# test dataset\n",
    "\n",
    "scalerTest = StandardScaler(inputCol = 'features', \n",
    "                        outputCol = 'scaledFeatures', \n",
    "                        withStd = True, \n",
    "                        withMean = True)\n",
    "\n",
    "scalerModelTest = scalerTest.fit(outputTest)\n",
    "scaled_test = scalerModelTest.transform(outputTest)"
   ]
  },
  {
   "cell_type": "code",
   "execution_count": 154,
   "metadata": {},
   "outputs": [],
   "source": [
    "# scaled_train.select('scaledFeatures').show(1,truncate=False)"
   ]
  },
  {
   "cell_type": "code",
   "execution_count": 155,
   "metadata": {},
   "outputs": [],
   "source": [
    "# scaled_test.select('scaledFeatures').rdd.collect()[0]"
   ]
  },
  {
   "cell_type": "markdown",
   "metadata": {},
   "source": [
    "#### Choose a ML Algorithm\n",
    "\n",
    "I want to use Random Forest Classifier. "
   ]
  },
  {
   "cell_type": "code",
   "execution_count": 156,
   "metadata": {},
   "outputs": [],
   "source": [
    "from pyspark.ml.classification import RandomForestClassifier\n",
    "classifier = RandomForestClassifier(labelCol='Target', \n",
    "                            featuresCol='scaledFeatures', numTrees=10)"
   ]
  },
  {
   "cell_type": "code",
   "execution_count": 157,
   "metadata": {},
   "outputs": [],
   "source": [
    "stages += [classifier]"
   ]
  },
  {
   "cell_type": "markdown",
   "metadata": {},
   "source": [
    "#### Create a Pipeline"
   ]
  },
  {
   "cell_type": "code",
   "execution_count": 158,
   "metadata": {},
   "outputs": [],
   "source": [
    "pipeline = Pipeline(stages = [classifier])"
   ]
  },
  {
   "cell_type": "markdown",
   "metadata": {},
   "source": [
    "### 11. Print the model performance measurements such as ROC, AUC, Confusion Matrix for both train and test data."
   ]
  },
  {
   "cell_type": "code",
   "execution_count": 159,
   "metadata": {},
   "outputs": [],
   "source": [
    "model = pipeline.fit(scaled_train)\n",
    "\n",
    "prediction = model.transform(scaled_train)"
   ]
  },
  {
   "cell_type": "code",
   "execution_count": 160,
   "metadata": {},
   "outputs": [],
   "source": [
    "ROC_eval = BinaryClassificationEvaluator(rawPredictionCol='prediction',\n",
    "                                       labelCol='Target', metricName=\"areaUnderROC\")"
   ]
  },
  {
   "cell_type": "code",
   "execution_count": 161,
   "metadata": {},
   "outputs": [
    {
     "name": "stdout",
     "output_type": "stream",
     "text": [
      "Train Area Under ROC is 1.0\n"
     ]
    }
   ],
   "source": [
    "Train_AUC = ROC_eval.evaluate(prediction)\n",
    "print('Train Area Under ROC is {}'.format(Train_AUC))"
   ]
  },
  {
   "cell_type": "code",
   "execution_count": 162,
   "metadata": {},
   "outputs": [],
   "source": [
    "predictionTest = model.transform(scaled_test)"
   ]
  },
  {
   "cell_type": "code",
   "execution_count": 163,
   "metadata": {},
   "outputs": [
    {
     "name": "stdout",
     "output_type": "stream",
     "text": [
      "Test Area Under ROC is 1.0\n"
     ]
    }
   ],
   "source": [
    "Test_AUC = ROC_eval.evaluate(predictionTest)\n",
    "print('Test Area Under ROC is {}'.format(Test_AUC))"
   ]
  },
  {
   "cell_type": "code",
   "execution_count": 164,
   "metadata": {},
   "outputs": [
    {
     "name": "stdout",
     "output_type": "stream",
     "text": [
      "              precision    recall  f1-score   support\n",
      "\n",
      "           0       1.00      1.00      1.00    187141\n",
      "           1       1.00      1.00      1.00     12382\n",
      "\n",
      "    accuracy                           1.00    199523\n",
      "   macro avg       1.00      1.00      1.00    199523\n",
      "weighted avg       1.00      1.00      1.00    199523\n",
      "\n"
     ]
    }
   ],
   "source": [
    "# Plot confusion matrix for the train set\n",
    "\n",
    "y_true = prediction.select(['Target']).collect()\n",
    "y_pred = prediction.select(['prediction']).collect()\n",
    "\n",
    "print(classification_report(y_true, y_pred))"
   ]
  },
  {
   "cell_type": "markdown",
   "metadata": {},
   "source": [
    "### 12. Explain the steps taken to avoid model overfitting.\n",
    "\n",
    "I didn't do additional steps to avoid overfitting. \n",
    "It is possible to reduce number of iterations and penalize tree size to prevent overfitting.\n",
    "\n",
    "When the model is too complex, it can learn, then the model learns deviations that do not affect the real trend.\n",
    "\n",
    "Two cases of overfitting:\n",
    "1. High variance. The model error in the training data is much smaller than in the test data and there is a large gap:\n",
    "\n",
    "Remedies:\n",
    "- increasing the amount of training data\n",
    "- reduction of the number of parameters, reduction of the algorithm complexity\n",
    "- Cross-validation, bagging or increasing regularization\n",
    "\n",
    "2. High bias. The model error in the training data is above an acceptable level.\n",
    "\n",
    "Remedies:\n",
    "- choosing a more complex model\n",
    "- increasing parameters\n",
    "- adding attributes\n",
    "- reduction of regularization"
   ]
  },
  {
   "cell_type": "markdown",
   "metadata": {},
   "source": [
    "### 13. What changes do you propose to make this modeling process more effective, if you are to train this in a cluster with 1,000 nodes, 300 million rows and 5,000 features in AWS?\n",
    "\n",
    "Unfortunately, I have not worked in AWS before and I cannot judge what changes I should implement. The description of AWS tools and available functions shows that the entire process of building, training and implementing your own machine learning models on large data sets becomes faster and easier.\n",
    "\n",
    "I am open to acquiring knowledge and broadening my skills."
   ]
  },
  {
   "cell_type": "code",
   "execution_count": 165,
   "metadata": {},
   "outputs": [],
   "source": [
    "spark.stop()"
   ]
  },
  {
   "cell_type": "code",
   "execution_count": null,
   "metadata": {},
   "outputs": [],
   "source": []
  }
 ],
 "metadata": {
  "kernelspec": {
   "display_name": "Python 3",
   "language": "python",
   "name": "python3"
  },
  "language_info": {
   "codemirror_mode": {
    "name": "ipython",
    "version": 3
   },
   "file_extension": ".py",
   "mimetype": "text/x-python",
   "name": "python",
   "nbconvert_exporter": "python",
   "pygments_lexer": "ipython3",
   "version": "3.8.5"
  }
 },
 "nbformat": 4,
 "nbformat_minor": 4
}